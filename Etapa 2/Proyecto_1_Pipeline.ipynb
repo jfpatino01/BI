{
  "cells": [
    {
      "cell_type": "markdown",
      "metadata": {
        "id": "NH_j9_nQbIEN"
      },
      "source": [
        "Proyecto 1 BI\n",
        "Tema: Datos Peliculas"
      ]
    },
    {
      "cell_type": "markdown",
      "metadata": {
        "id": "7JNTJIJBnEfX"
      },
      "source": [
        "# Librerias"
      ]
    },
    {
      "cell_type": "code",
      "execution_count": 88,
      "metadata": {
        "id": "u8Tb0mY0YV5w"
      },
      "outputs": [],
      "source": [
        "import string\n",
        "\n",
        "import numpy as np\n",
        "import pandas as pd\n",
        "\n",
        "import nltk\n",
        "from nltk.corpus import stopwords\n",
        "from nltk.tokenize import TweetTokenizer\n",
        "\n",
        "from sklearn.model_selection import train_test_split\n",
        "from sklearn.feature_extraction.text import CountVectorizer, TfidfVectorizer\n",
        "\n",
        "from sklearn.ensemble import RandomForestClassifier\n",
        "\n",
        "from sklearn.pipeline import Pipeline\n",
        "from sklearn.model_selection import GridSearchCV\n",
        "\n",
        "from sklearn.metrics import ConfusionMatrixDisplay, precision_score, recall_score, f1_score\n",
        "\n",
        "import pickle\n",
        "\n",
        "import numpy as np\n",
        "import pandas as pd\n",
        "\n",
        "from sklearn.model_selection import train_test_split, GridSearchCV, RandomizedSearchCV\n",
        "from sklearn.preprocessing import StandardScaler\n",
        "from sklearn.neighbors import KNeighborsClassifier\n",
        "from sklearn.tree import DecisionTreeClassifier\n",
        "from sklearn.ensemble import RandomForestClassifier\n",
        "from sklearn.metrics import accuracy_score, confusion_matrix, ConfusionMatrixDisplay, precision_score, recall_score, f1_score\n",
        "from sklearn import tree\n",
        "\n",
        "import matplotlib.pyplot as plt\n",
        "import seaborn as sns\n",
        "\n",
        "from sklearn.pipeline import Pipeline"
      ]
    },
    {
      "cell_type": "markdown",
      "metadata": {
        "id": "OAs8LeOUnEMP"
      },
      "source": [
        "# Set Up Inicial"
      ]
    },
    {
      "cell_type": "code",
      "execution_count": 89,
      "metadata": {
        "id": "pTb900uUm7xC"
      },
      "outputs": [],
      "source": [
        "pd.set_option('display.max_colwidth', None)"
      ]
    },
    {
      "cell_type": "code",
      "execution_count": 90,
      "metadata": {
        "colab": {
          "base_uri": "https://localhost:8080/"
        },
        "id": "v7LRz1cQm7zh",
        "outputId": "3fbcde28-f867-4061-c409-4a069fef2726"
      },
      "outputs": [
        {
          "name": "stderr",
          "output_type": "stream",
          "text": [
            "[nltk_data] Downloading package stopwords to /Users/pipe/nltk_data...\n",
            "[nltk_data]   Package stopwords is already up-to-date!\n"
          ]
        }
      ],
      "source": [
        "# Descargando las stopwords\n",
        "nltk.download('stopwords')\n",
        "stop_words = set(stopwords.words('spanish'))"
      ]
    },
    {
      "cell_type": "code",
      "execution_count": 91,
      "metadata": {
        "id": "pByHw_z7m71x"
      },
      "outputs": [],
      "source": [
        "# Función para tokenizar los tweets\n",
        "def tokenizer(text):\n",
        "    tt = TweetTokenizer()\n",
        "    return tt.tokenize(text)"
      ]
    },
    {
      "cell_type": "markdown",
      "metadata": {
        "id": "buZb9lcVnatg"
      },
      "source": [
        "# Cargar Info"
      ]
    },
    {
      "cell_type": "code",
      "execution_count": 92,
      "metadata": {
        "colab": {
          "base_uri": "https://localhost:8080/",
          "height": 230
        },
        "id": "vN0EJL04m73_",
        "outputId": "251653ac-3ef6-4909-e1fc-6d497bb43e45"
      },
      "outputs": [],
      "source": [
        "tweets_df = pd.read_csv('/Users/pipe/Desktop/GitHub/BI/Etapa 1/Archivos/MovieReviews.csv', sep = ',')"
      ]
    },
    {
      "cell_type": "code",
      "execution_count": 93,
      "metadata": {
        "id": "gUxTpgY_m76L"
      },
      "outputs": [
        {
          "data": {
            "text/plain": [
              "(5000, 3)"
            ]
          },
          "execution_count": 93,
          "metadata": {},
          "output_type": "execute_result"
        }
      ],
      "source": [
        "tweets_df.shape"
      ]
    },
    {
      "cell_type": "code",
      "execution_count": 94,
      "metadata": {
        "id": "cXnRBxfDm78f"
      },
      "outputs": [
        {
          "data": {
            "text/html": [
              "<div>\n",
              "<style scoped>\n",
              "    .dataframe tbody tr th:only-of-type {\n",
              "        vertical-align: middle;\n",
              "    }\n",
              "\n",
              "    .dataframe tbody tr th {\n",
              "        vertical-align: top;\n",
              "    }\n",
              "\n",
              "    .dataframe thead th {\n",
              "        text-align: right;\n",
              "    }\n",
              "</style>\n",
              "<table border=\"1\" class=\"dataframe\">\n",
              "  <thead>\n",
              "    <tr style=\"text-align: right;\">\n",
              "      <th></th>\n",
              "      <th>Unnamed: 0</th>\n",
              "      <th>review_es</th>\n",
              "      <th>sentimiento</th>\n",
              "    </tr>\n",
              "  </thead>\n",
              "  <tbody>\n",
              "    <tr>\n",
              "      <th>2268</th>\n",
              "      <td>2268</td>\n",
              "      <td>Richard Abernethie, un hombre muy rico, ha muerto y sus parientes se han reunido por su funeral. Incluido en la fiesta funeraria es la hermana más joven de Abernathie Cora Galaccio. Si bien nada de la familia ha visto CORA en al menos 20 años, todos están de acuerdo en que Cora siempre fue un poco diferente. Entonces, cuando Cora dice algo acerca de Abemethie, habiendo sido asesinado, la mayoría se ríe como una de las excentricies de CORA. Pero alguien está obviamente tomando en serio cora. Al día siguiente, Cora se encuentra muerto en su cama, ha sido golpeado violentamente. ¿Hay alguna conexión entre las dos muertes? Depende de Hercule Poirot encontrar un asesino. Después del funeral es uno de los episodios más bien preparados de toda la serie Poirot. Siempre he sido fanático de este libro de Agatha Christie en particular y, por lo que recuerdo, la película es tan fiel al material de origen de Christie como cualquiera de las cuotas de Poirot. El misterio es de primera categoría con muchas pistas, sospechosos y bastones rojos. Y como he escrito antes, siempre disfruto de una historia de Christie, donde Hercule Poirot reúne a todos juntos en un salón para la revelación final. Podría ser pasado de moda, pero así es como me gusta. Llegando más allá de la trama, técnica y artística después de que el funeral sea un ganador. Los conjuntos, edición, dirección y cinematografía son tan buenos como encontrarás en una de estas películas. La actuación es igualmente impresionante. He llegado a esperar una actuación agradable de David Sucha como Poirot y él no decepciona aquí. El resto del elenco es tan fuerte con Monica Dolan que da un rendimiento especialmente notable. Aparte de un producto menor con la forma en que se introduce los personajes de fuego rápido, no tengo ninguna queja reales. Es un buen espectáculo todo el camino.</td>\n",
              "      <td>positivo</td>\n",
              "    </tr>\n",
              "    <tr>\n",
              "      <th>1461</th>\n",
              "      <td>1461</td>\n",
              "      <td>\"El desfile del pie\" es fascinante en tantos niveles. De hecho, no hay forma de que los \"prólogos del teatro\" supuestamente organizados puedan haberse producido en cualquier teatro en la Tierra, por supuesto. Piense en las enormes piscinas y fuentes altas de tres pisos para \"por una cascada\", por ejemplo. (Berkeley dirigió a John Garfield en \"Me hicieron un criminal\" seis años más tarde y hicieron que los niños perdidos cantaban \"por una cascada\" cuando tomaban sus duchas). \"Shanghai lil\" es el mejor número de producción en la imagen. Es un catálogo de '30s Warner Bros. Sensibilidades. Tenga en cuenta los chicos africanos mezclados en la escena con prostitutas blancas y asiáticas. Nunca verías a los negros integrados en una escena social en otras películas del período, a menos que fueran porteros en un tren o criada en una casa grande. Aquí los chicos negros están sentados en el bar y cantando con los demás. También tengo una emoción cuando los bailarines militares hacen una presentación de \"sección de tarjeta\" de la imagen de Roosevelt. También está el NRA Eagle: el logotipo de la controvertida administración de recuperación nacional del nuevo acuerdo. FDR fue el nuevo presidente y las esperanzas eran tan altos que sacaba a la nación de la depresión. Nunca verías algo tan trabajador orientado a la clase que sale de MGM, por supuesto. Warner Bros. De todo corazón apoyó el levantamiento dictado por el F.D.R. administración. Querida señorita Miss Ruby Keeler nunca fue mejor de lo que ella está jugando a la puta china, \"Lil\". Apenas ni siquiera mira los pies mientras baila, que era una de sus fallas de firma. Las cosas pre-código son divertidas. El número \"por una cascada\" es maravilloso en ese sentido. Las chicas cambian a sus trajes de baño en el autobús lleno de gente a través de Times Square con todas sus luces. Las chicas de águila extendida que nadan sobre la cámara proporcionan el tipo de tiros de entrepierna que no se verían durante 35 años. En pocos meses, el código de producción eliminaría tales placeres traviesos.</td>\n",
              "      <td>positivo</td>\n",
              "    </tr>\n",
              "    <tr>\n",
              "      <th>2006</th>\n",
              "      <td>2006</td>\n",
              "      <td>Es malo para que realmente muestres más de los talentos de George Carlin.Él realmente sigue siendo tan agudo como una tachuela.Es una pena que lo perdamos el año pasado, pero su comedia siempre vivirá.Este especial de pie es literalmente, uno de los más divertidos que he escuchado a un comediante.A pesar de que se está burlando de los niños pequeños, solo te hace reír la forma en que dice algunas de las cosas.Es cierto que Carlin puede literalmente hacer algo que parece que no lo parece una y la convierte en una de las cosas más divertidas que has escuchado.Realmente disfruté de este stand-up, particularmente de Carlin y recomendé que aquellos que le gusten este revise más de la parada de George Carlin.</td>\n",
              "      <td>positivo</td>\n",
              "    </tr>\n",
              "    <tr>\n",
              "      <th>2619</th>\n",
              "      <td>2619</td>\n",
              "      <td>¡JAJAJA! No es una mala manera de comenzar. Pensé que esto era original, pero luego descubrí que era un clon de la nueva versión de King Kong de 1976. Nunca vi a King Kong hasta que yo tenía 15 años. Vi esta película cuando tenía 9. ¡La música de discoteca funky de la película se atascará en tu cabeza! Sin mencionar la canción temática de la película de los yiendas. Estos son los peores efectos de la criatura que he visto. Al mismo tiempo, esta película sigue siendo un santo grial de películas de B. Cotizaciones memorables: \"Tome un tranquilizante y vaya a la cama\". \"Ponga el Yeti en su tanque y tenga poder Yeti\". Recuerdo haber visto a esta película en la película Macrabe organizada por Elvira. ¡Hay una escena donde era como rey Kong en reversa! En el rey Kong, agarra a la niña y sube al edificio, pero en esta película sube al edificio y agarra a la niña (¿quién estaba cayendo)? También todo ese año fue otro hombre de Kong Clone Pekín (1977) que vino de Hong Kong. Hay muchas escenas mate de viaje y partes del cuerpo motorizado. Esta película te dejará riendo. Es como dije, solo otro clon King Kong. Pg clasificado por violencia, lenguaje, elementos temáticos y algunas escenas de miedo.</td>\n",
              "      <td>negativo</td>\n",
              "    </tr>\n",
              "    <tr>\n",
              "      <th>2847</th>\n",
              "      <td>2847</td>\n",
              "      <td>Le daría a esta película 5 en lugar de 3 si sería al menos en el tiempo ... cuando lo he visto a la primera vez, fue lo que podría esperar del trabajo que no se basa en las habilidades artísticas de los directores. Pero en el idealista o preferiría decir hábitos idiotas de nuestro gobierno (Kazajstán) ... Es una pena, porque 'Qazaqfil'm' estaba disparando películas bonitas cuando no fue honrado por el nombre de Shaken Aimanov, pero fue En realidad corrió por él. Las películas como 'Konec Atamana', 'Kyz Zhibek' o incluso 'Aldar Kose'. Pero después de la muerte del Sr. Aimanov, la producción de películas de calidad disminuyó casi dramáticamente en 10 años, hubo muy pocas películas producidas. Sin embargo, a fines de la década de 1980, 'ASSA' se filmó, fue una película sobre los primeros grupos de delitos organizados en el gran país, un año después, el Sr. Rashid Nugmanov dispara con otra película con el co-mirando el mismo actor / cantante v.tsoy. En ese momento, ya era una leyenda soviética / rusa rusa, - la película llamada 'igla' (la aguja o algo) fue completamente nuevo, alguien llamó ese período como resurrección o una nueva ola de cine kazajakh. Lamentablemente, hoy en día, no tenemos películas de calidad, nuestros directores disparan películas en el apoyo financiero francés y japonés, y por lo tanto las películas no son para el público, sino para los autores de críticos profesionales, algunos de ellos toman un precio en los festivales de películas de autores internacionales, pero allí Muy pocos de ellos se convierten en productos de activos de negocios ... y nuevamente de nuevo a nuestros 'nómadas'. Tales películas suelen ser impopulares debido a los vastos aspectos. Los mismos efectos fueron con 'Sibirski Cyrilnik' de Nikita Mikhalkov sobre los zares rusos, que también se filmó a las paridades con socios extranjeros, creo que eran franceses o quizás británicos. Nobdy le gustó, incluso en el público ruso, se convierte en un tema principal de comediantes y comedia muestra como 'kvn'. En mi humilde opinión</td>\n",
              "      <td>negativo</td>\n",
              "    </tr>\n",
              "  </tbody>\n",
              "</table>\n",
              "</div>"
            ],
            "text/plain": [
              "      Unnamed: 0  \\\n",
              "2268        2268   \n",
              "1461        1461   \n",
              "2006        2006   \n",
              "2619        2619   \n",
              "2847        2847   \n",
              "\n",
              "                                                                                                                                                                                                                                                                                                                                                                                                                                                                                                                                                                                                                                                                                                                                                                                                                                                                                                                                                                                                                                                                                                                                                                                                                                                                                                                                                                                                                                                                                                                                                                                                                                                                                                                                                                                                                                                                                                                                                                                                                                                                                                                                      review_es  \\\n",
              "2268                                                                                                                                                                                                                  Richard Abernethie, un hombre muy rico, ha muerto y sus parientes se han reunido por su funeral. Incluido en la fiesta funeraria es la hermana más joven de Abernathie Cora Galaccio. Si bien nada de la familia ha visto CORA en al menos 20 años, todos están de acuerdo en que Cora siempre fue un poco diferente. Entonces, cuando Cora dice algo acerca de Abemethie, habiendo sido asesinado, la mayoría se ríe como una de las excentricies de CORA. Pero alguien está obviamente tomando en serio cora. Al día siguiente, Cora se encuentra muerto en su cama, ha sido golpeado violentamente. ¿Hay alguna conexión entre las dos muertes? Depende de Hercule Poirot encontrar un asesino. Después del funeral es uno de los episodios más bien preparados de toda la serie Poirot. Siempre he sido fanático de este libro de Agatha Christie en particular y, por lo que recuerdo, la película es tan fiel al material de origen de Christie como cualquiera de las cuotas de Poirot. El misterio es de primera categoría con muchas pistas, sospechosos y bastones rojos. Y como he escrito antes, siempre disfruto de una historia de Christie, donde Hercule Poirot reúne a todos juntos en un salón para la revelación final. Podría ser pasado de moda, pero así es como me gusta. Llegando más allá de la trama, técnica y artística después de que el funeral sea un ganador. Los conjuntos, edición, dirección y cinematografía son tan buenos como encontrarás en una de estas películas. La actuación es igualmente impresionante. He llegado a esperar una actuación agradable de David Sucha como Poirot y él no decepciona aquí. El resto del elenco es tan fuerte con Monica Dolan que da un rendimiento especialmente notable. Aparte de un producto menor con la forma en que se introduce los personajes de fuego rápido, no tengo ninguna queja reales. Es un buen espectáculo todo el camino.   \n",
              "1461  \"El desfile del pie\" es fascinante en tantos niveles. De hecho, no hay forma de que los \"prólogos del teatro\" supuestamente organizados puedan haberse producido en cualquier teatro en la Tierra, por supuesto. Piense en las enormes piscinas y fuentes altas de tres pisos para \"por una cascada\", por ejemplo. (Berkeley dirigió a John Garfield en \"Me hicieron un criminal\" seis años más tarde y hicieron que los niños perdidos cantaban \"por una cascada\" cuando tomaban sus duchas). \"Shanghai lil\" es el mejor número de producción en la imagen. Es un catálogo de '30s Warner Bros. Sensibilidades. Tenga en cuenta los chicos africanos mezclados en la escena con prostitutas blancas y asiáticas. Nunca verías a los negros integrados en una escena social en otras películas del período, a menos que fueran porteros en un tren o criada en una casa grande. Aquí los chicos negros están sentados en el bar y cantando con los demás. También tengo una emoción cuando los bailarines militares hacen una presentación de \"sección de tarjeta\" de la imagen de Roosevelt. También está el NRA Eagle: el logotipo de la controvertida administración de recuperación nacional del nuevo acuerdo. FDR fue el nuevo presidente y las esperanzas eran tan altos que sacaba a la nación de la depresión. Nunca verías algo tan trabajador orientado a la clase que sale de MGM, por supuesto. Warner Bros. De todo corazón apoyó el levantamiento dictado por el F.D.R. administración. Querida señorita Miss Ruby Keeler nunca fue mejor de lo que ella está jugando a la puta china, \"Lil\". Apenas ni siquiera mira los pies mientras baila, que era una de sus fallas de firma. Las cosas pre-código son divertidas. El número \"por una cascada\" es maravilloso en ese sentido. Las chicas cambian a sus trajes de baño en el autobús lleno de gente a través de Times Square con todas sus luces. Las chicas de águila extendida que nadan sobre la cámara proporcionan el tipo de tiros de entrepierna que no se verían durante 35 años. En pocos meses, el código de producción eliminaría tales placeres traviesos.   \n",
              "2006                                                                                                                                                                                                                                                                                                                                                                                                                                                                                                                                                                                                                                                                                                                                                                                                                                                                                                                                                                                                                                                                                                                                                                                                                                                                                                                                                                                                   Es malo para que realmente muestres más de los talentos de George Carlin.Él realmente sigue siendo tan agudo como una tachuela.Es una pena que lo perdamos el año pasado, pero su comedia siempre vivirá.Este especial de pie es literalmente, uno de los más divertidos que he escuchado a un comediante.A pesar de que se está burlando de los niños pequeños, solo te hace reír la forma en que dice algunas de las cosas.Es cierto que Carlin puede literalmente hacer algo que parece que no lo parece una y la convierte en una de las cosas más divertidas que has escuchado.Realmente disfruté de este stand-up, particularmente de Carlin y recomendé que aquellos que le gusten este revise más de la parada de George Carlin.   \n",
              "2619                                                                                                                                                                                                                                                                                                                                                                                                                                                                                                                                                                                                                                                                                                                                                                                                                                                                                       ¡JAJAJA! No es una mala manera de comenzar. Pensé que esto era original, pero luego descubrí que era un clon de la nueva versión de King Kong de 1976. Nunca vi a King Kong hasta que yo tenía 15 años. Vi esta película cuando tenía 9. ¡La música de discoteca funky de la película se atascará en tu cabeza! Sin mencionar la canción temática de la película de los yiendas. Estos son los peores efectos de la criatura que he visto. Al mismo tiempo, esta película sigue siendo un santo grial de películas de B. Cotizaciones memorables: \"Tome un tranquilizante y vaya a la cama\". \"Ponga el Yeti en su tanque y tenga poder Yeti\". Recuerdo haber visto a esta película en la película Macrabe organizada por Elvira. ¡Hay una escena donde era como rey Kong en reversa! En el rey Kong, agarra a la niña y sube al edificio, pero en esta película sube al edificio y agarra a la niña (¿quién estaba cayendo)? También todo ese año fue otro hombre de Kong Clone Pekín (1977) que vino de Hong Kong. Hay muchas escenas mate de viaje y partes del cuerpo motorizado. Esta película te dejará riendo. Es como dije, solo otro clon King Kong. Pg clasificado por violencia, lenguaje, elementos temáticos y algunas escenas de miedo.   \n",
              "2847               Le daría a esta película 5 en lugar de 3 si sería al menos en el tiempo ... cuando lo he visto a la primera vez, fue lo que podría esperar del trabajo que no se basa en las habilidades artísticas de los directores. Pero en el idealista o preferiría decir hábitos idiotas de nuestro gobierno (Kazajstán) ... Es una pena, porque 'Qazaqfil'm' estaba disparando películas bonitas cuando no fue honrado por el nombre de Shaken Aimanov, pero fue En realidad corrió por él. Las películas como 'Konec Atamana', 'Kyz Zhibek' o incluso 'Aldar Kose'. Pero después de la muerte del Sr. Aimanov, la producción de películas de calidad disminuyó casi dramáticamente en 10 años, hubo muy pocas películas producidas. Sin embargo, a fines de la década de 1980, 'ASSA' se filmó, fue una película sobre los primeros grupos de delitos organizados en el gran país, un año después, el Sr. Rashid Nugmanov dispara con otra película con el co-mirando el mismo actor / cantante v.tsoy. En ese momento, ya era una leyenda soviética / rusa rusa, - la película llamada 'igla' (la aguja o algo) fue completamente nuevo, alguien llamó ese período como resurrección o una nueva ola de cine kazajakh. Lamentablemente, hoy en día, no tenemos películas de calidad, nuestros directores disparan películas en el apoyo financiero francés y japonés, y por lo tanto las películas no son para el público, sino para los autores de críticos profesionales, algunos de ellos toman un precio en los festivales de películas de autores internacionales, pero allí Muy pocos de ellos se convierten en productos de activos de negocios ... y nuevamente de nuevo a nuestros 'nómadas'. Tales películas suelen ser impopulares debido a los vastos aspectos. Los mismos efectos fueron con 'Sibirski Cyrilnik' de Nikita Mikhalkov sobre los zares rusos, que también se filmó a las paridades con socios extranjeros, creo que eran franceses o quizás británicos. Nobdy le gustó, incluso en el público ruso, se convierte en un tema principal de comediantes y comedia muestra como 'kvn'. En mi humilde opinión   \n",
              "\n",
              "     sentimiento  \n",
              "2268    positivo  \n",
              "1461    positivo  \n",
              "2006    positivo  \n",
              "2619    negativo  \n",
              "2847    negativo  "
            ]
          },
          "execution_count": 94,
          "metadata": {},
          "output_type": "execute_result"
        }
      ],
      "source": [
        "tweets_df.sample(5)"
      ]
    },
    {
      "cell_type": "code",
      "execution_count": 95,
      "metadata": {
        "id": "kD_bdTvvm8Ab"
      },
      "outputs": [
        {
          "data": {
            "text/plain": [
              "positivo    0.5\n",
              "negativo    0.5\n",
              "Name: sentimiento, dtype: float64"
            ]
          },
          "execution_count": 95,
          "metadata": {},
          "output_type": "execute_result"
        }
      ],
      "source": [
        "tweets_df['sentimiento'].value_counts(dropna = False, normalize = True)"
      ]
    },
    {
      "cell_type": "markdown",
      "metadata": {
        "id": "reAJpchGn7Mo"
      },
      "source": [
        "# Filtrando Tuits No Etiquetados"
      ]
    },
    {
      "cell_type": "code",
      "execution_count": 96,
      "metadata": {
        "id": "4yrCzP-Im8Cd"
      },
      "outputs": [],
      "source": [
        "tweets_labeled_df = tweets_df.loc[tweets_df['sentimiento'].notnull()]"
      ]
    },
    {
      "cell_type": "code",
      "execution_count": 97,
      "metadata": {
        "id": "gIeHbtPxn-tp"
      },
      "outputs": [
        {
          "data": {
            "text/plain": [
              "(5000, 3)"
            ]
          },
          "execution_count": 97,
          "metadata": {},
          "output_type": "execute_result"
        }
      ],
      "source": [
        "# Tweets a ser usados para entrenar y evaluar el modelo\n",
        "tweets_labeled_df.shape"
      ]
    },
    {
      "cell_type": "code",
      "execution_count": 98,
      "metadata": {
        "id": "Xj4KCfFnn-vn"
      },
      "outputs": [
        {
          "data": {
            "text/plain": [
              "(0, 3)"
            ]
          },
          "execution_count": 98,
          "metadata": {},
          "output_type": "execute_result"
        }
      ],
      "source": [
        "# Tweets descartados debido a que no se encuentran etiquetados\n",
        "tweets_df.loc[tweets_df['sentimiento'].isnull()].shape"
      ]
    },
    {
      "cell_type": "code",
      "execution_count": 99,
      "metadata": {
        "id": "mRBCRMSen-yE"
      },
      "outputs": [
        {
          "data": {
            "text/plain": [
              "positivo    0.5\n",
              "negativo    0.5\n",
              "Name: sentimiento, dtype: float64"
            ]
          },
          "execution_count": 99,
          "metadata": {},
          "output_type": "execute_result"
        }
      ],
      "source": [
        "tweets_df['sentimiento'].value_counts(dropna = False, normalize = True)"
      ]
    },
    {
      "cell_type": "markdown",
      "metadata": {
        "id": "9wE5TlAmo_3q"
      },
      "source": [
        "#Conjuntos de Prueba"
      ]
    },
    {
      "cell_type": "code",
      "execution_count": 100,
      "metadata": {
        "id": "Jy6CxoptaFur"
      },
      "outputs": [],
      "source": [
        "tweets_df['sentimiento'] = tweets_df['sentimiento'].map({'positivo': 1, 'negativo': 0})"
      ]
    },
    {
      "cell_type": "code",
      "execution_count": 101,
      "metadata": {
        "id": "cSoF-TtbVfwV"
      },
      "outputs": [
        {
          "data": {
            "text/plain": [
              "array([1, 0])"
            ]
          },
          "execution_count": 101,
          "metadata": {},
          "output_type": "execute_result"
        }
      ],
      "source": [
        "tweets_df['sentimiento'].unique()"
      ]
    },
    {
      "cell_type": "code",
      "execution_count": 102,
      "metadata": {
        "id": "HzP7mryvn-z5"
      },
      "outputs": [],
      "source": [
        "X_train, X_test, y_train, y_test = train_test_split(tweets_df['review_es'], tweets_df['sentimiento'], test_size = 0.2, stratify = tweets_df['sentimiento'], random_state = 1)"
      ]
    },
    {
      "cell_type": "code",
      "execution_count": 103,
      "metadata": {
        "id": "8-vAuwEMn-2A"
      },
      "outputs": [
        {
          "data": {
            "text/plain": [
              "(4000,)"
            ]
          },
          "execution_count": 103,
          "metadata": {},
          "output_type": "execute_result"
        }
      ],
      "source": [
        "X_train.shape"
      ]
    },
    {
      "cell_type": "code",
      "execution_count": 104,
      "metadata": {
        "id": "WfYyDl1vn-8F"
      },
      "outputs": [
        {
          "data": {
            "text/plain": [
              "0    0.5\n",
              "1    0.5\n",
              "Name: sentimiento, dtype: float64"
            ]
          },
          "execution_count": 104,
          "metadata": {},
          "output_type": "execute_result"
        }
      ],
      "source": [
        "pd.Series(y_train).value_counts(normalize = True)"
      ]
    },
    {
      "cell_type": "code",
      "execution_count": 105,
      "metadata": {
        "id": "-tyfhfg1n_Cx"
      },
      "outputs": [
        {
          "data": {
            "text/plain": [
              "(1000,)"
            ]
          },
          "execution_count": 105,
          "metadata": {},
          "output_type": "execute_result"
        }
      ],
      "source": [
        "X_test.shape"
      ]
    },
    {
      "cell_type": "code",
      "execution_count": 106,
      "metadata": {
        "id": "lHwCclnspa46"
      },
      "outputs": [
        {
          "data": {
            "text/plain": [
              "0    0.5\n",
              "1    0.5\n",
              "Name: sentimiento, dtype: float64"
            ]
          },
          "execution_count": 106,
          "metadata": {},
          "output_type": "execute_result"
        }
      ],
      "source": [
        "pd.Series(y_test).value_counts(normalize = True)"
      ]
    },
    {
      "cell_type": "markdown",
      "metadata": {
        "id": "IWeyR_VXpgQz"
      },
      "source": [
        "# Vectorización de Tuits"
      ]
    },
    {
      "cell_type": "code",
      "execution_count": 107,
      "metadata": {
        "id": "ZaCnHMbVF2CN"
      },
      "outputs": [],
      "source": [
        "stop_words=list(stop_words)"
      ]
    },
    {
      "cell_type": "code",
      "execution_count": 108,
      "metadata": {
        "id": "QmmqdtHgpa7T"
      },
      "outputs": [],
      "source": [
        "bow = CountVectorizer(tokenizer = tokenizer, stop_words = stop_words, lowercase = True)"
      ]
    },
    {
      "cell_type": "code",
      "execution_count": 109,
      "metadata": {
        "id": "5Us4UmOipa9P"
      },
      "outputs": [],
      "source": [
        "X_bow = bow.fit_transform(X_train)"
      ]
    },
    {
      "cell_type": "code",
      "execution_count": 110,
      "metadata": {
        "id": "MeHEurWHpa_b"
      },
      "outputs": [
        {
          "data": {
            "text/plain": [
              "58404"
            ]
          },
          "execution_count": 110,
          "metadata": {},
          "output_type": "execute_result"
        }
      ],
      "source": [
        "len(bow.vocabulary_)"
      ]
    },
    {
      "cell_type": "code",
      "execution_count": 111,
      "metadata": {
        "id": "c0QTPXC6pbBh"
      },
      "outputs": [],
      "source": [
        "tfidf = TfidfVectorizer(tokenizer = tokenizer, stop_words = stop_words, lowercase = True)"
      ]
    },
    {
      "cell_type": "code",
      "execution_count": 112,
      "metadata": {
        "id": "ciAsElaopbDU"
      },
      "outputs": [],
      "source": [
        "X_tfidf = tfidf.fit_transform(X_train)"
      ]
    },
    {
      "cell_type": "code",
      "execution_count": 113,
      "metadata": {
        "id": "lpBqDgsFn_Hp"
      },
      "outputs": [
        {
          "data": {
            "text/plain": [
              "58404"
            ]
          },
          "execution_count": 113,
          "metadata": {},
          "output_type": "execute_result"
        }
      ],
      "source": [
        "len(tfidf.vocabulary_)"
      ]
    },
    {
      "cell_type": "markdown",
      "metadata": {
        "id": "9sUMg_FutpKp"
      },
      "source": [
        "# Entreno con Bow"
      ]
    },
    {
      "cell_type": "code",
      "execution_count": 114,
      "metadata": {
        "id": "DSEzVXR3tnKA"
      },
      "outputs": [],
      "source": [
        "bow_model = RandomForestClassifier(random_state = 2)"
      ]
    },
    {
      "cell_type": "code",
      "execution_count": 115,
      "metadata": {
        "id": "4dIvYW7JtnL2"
      },
      "outputs": [
        {
          "data": {
            "text/plain": [
              "RandomForestClassifier(random_state=2)"
            ]
          },
          "execution_count": 115,
          "metadata": {},
          "output_type": "execute_result"
        }
      ],
      "source": [
        "bow_model.fit(X_bow, y_train)"
      ]
    },
    {
      "cell_type": "code",
      "execution_count": 116,
      "metadata": {
        "id": "UH1ut5dptnOD"
      },
      "outputs": [
        {
          "data": {
            "text/plain": [
              "<AxesSubplot:>"
            ]
          },
          "execution_count": 116,
          "metadata": {},
          "output_type": "execute_result"
        },
        {
          "data": {
            "image/png": "[encoded data removed]",
            "text/plain": [
              "<Figure size 1080x720 with 1 Axes>"
            ]
          },
          "metadata": {
            "needs_background": "light"
          },
          "output_type": "display_data"
        }
      ],
      "source": [
        "# La 'feature importance' en modelos basados en árboles de decisión indican cuales son las características más importantes al momento de tomar una decisión\n",
        "pd.Series(bow_model.feature_importances_, index = bow.vocabulary_).sort_values().tail(20).plot.barh(figsize = (15, 10))"
      ]
    },
    {
      "cell_type": "code",
      "execution_count": 117,
      "metadata": {
        "id": "otHkLfJjtnQA"
      },
      "outputs": [
        {
          "name": "stdout",
          "output_type": "stream",
          "text": [
            "Number of trees: 100\n",
            "Trees depth (mean): 185.1\n"
          ]
        }
      ],
      "source": [
        "bow_estimators = bow_model.estimators_\n",
        "print('Number of trees:', len(bow_estimators))\n",
        "print('Trees depth (mean):', np.mean([tree.get_depth() for tree in bow_estimators]))"
      ]
    },
    {
      "cell_type": "code",
      "execution_count": 118,
      "metadata": {
        "id": "XPjaRCu7tnSF"
      },
      "outputs": [],
      "source": [
        "y_train_bow_predict = bow_model.predict(X_bow)\n",
        "y_test_bow_predict = bow_model.predict(bow.transform(X_test))"
      ]
    },
    {
      "cell_type": "code",
      "execution_count": 119,
      "metadata": {
        "id": "P0RxyyJ8tnUA"
      },
      "outputs": [
        {
          "data": {
            "text/plain": [
              "<sklearn.metrics._plot.confusion_matrix.ConfusionMatrixDisplay at 0x7fb942e5edf0>"
            ]
          },
          "execution_count": 119,
          "metadata": {},
          "output_type": "execute_result"
        },
        {
          "data": {
            "image/png": "[encoded data removed]",
            "text/plain": [
              "<Figure size 432x288 with 2 Axes>"
            ]
          },
          "metadata": {
            "needs_background": "light"
          },
          "output_type": "display_data"
        }
      ],
      "source": [
        "ConfusionMatrixDisplay.from_predictions(y_train, y_train_bow_predict)"
      ]
    },
    {
      "cell_type": "code",
      "execution_count": 120,
      "metadata": {
        "id": "Jek0GS7RtnWR"
      },
      "outputs": [
        {
          "data": {
            "text/plain": [
              "<sklearn.metrics._plot.confusion_matrix.ConfusionMatrixDisplay at 0x7fb9289c7220>"
            ]
          },
          "execution_count": 120,
          "metadata": {},
          "output_type": "execute_result"
        },
        {
          "data": {
            "image/png": "[encoded data removed]",
            "text/plain": [
              "<Figure size 432x288 with 2 Axes>"
            ]
          },
          "metadata": {
            "needs_background": "light"
          },
          "output_type": "display_data"
        }
      ],
      "source": [
        "ConfusionMatrixDisplay.from_predictions(y_test, y_test_bow_predict)"
      ]
    },
    {
      "cell_type": "code",
      "execution_count": 121,
      "metadata": {
        "id": "tyxDgEIIEmwY"
      },
      "outputs": [
        {
          "name": "stdout",
          "output_type": "stream",
          "text": [
            "Precision: 1.0\n",
            "Recall: 1.0\n",
            "F1: 1.0\n"
          ]
        }
      ],
      "source": [
        "if len(bow_model.classes_) == 2:\n",
        "    print('Precision:', precision_score(y_train, y_train_bow_predict, pos_label = 1))\n",
        "    print('Recall:', recall_score(y_train, y_train_bow_predict, pos_label = 1))\n",
        "    print('F1:', f1_score(y_train, y_train_bow_predict, pos_label = 1))\n",
        "else:\n",
        "    # Para casos no binarios, es común calcular las métricas para cada clase\n",
        "    print('Precision:', precision_score(y_train, y_train_bow_predict, average = None))\n",
        "    print('Recall:', recall_score(y_train, y_train_bow_predict, average = None))\n",
        "    print('F1:', f1_score(y_train, y_train_bow_predict, average = None))"
      ]
    },
    {
      "cell_type": "code",
      "execution_count": 122,
      "metadata": {
        "id": "LTHN7iXbEmye"
      },
      "outputs": [
        {
          "name": "stdout",
          "output_type": "stream",
          "text": [
            "Precision: 0.819838056680162\n",
            "Recall: 0.81\n",
            "F1: 0.8148893360160966\n"
          ]
        }
      ],
      "source": [
        "if len(bow_model.classes_) == 2:\n",
        "    print('Precision:', precision_score(y_test, y_test_bow_predict, pos_label = 1))\n",
        "    print('Recall:', recall_score(y_test, y_test_bow_predict, pos_label = 1))\n",
        "    print('F1:', f1_score(y_test, y_test_bow_predict, pos_label = 1))\n",
        "else:\n",
        "    # Para casos no binarios, es común calcular las métricas para cada clase\n",
        "    print('Precision:', precision_score(y_test, y_test_bow_predict, average = None))\n",
        "    print('Recall:', recall_score(y_test, y_test_bow_predict, average = None))\n",
        "    print('F1:', f1_score(y_test, y_test_bow_predict, average = None))"
      ]
    },
    {
      "cell_type": "markdown",
      "metadata": {
        "id": "i66s_iKNErEt"
      },
      "source": [
        "# Evaluando e utilizando TF-IDF"
      ]
    },
    {
      "cell_type": "code",
      "execution_count": 123,
      "metadata": {
        "id": "2BJPH1nKEm0b"
      },
      "outputs": [],
      "source": [
        "tfidf_model = RandomForestClassifier(random_state = 3)"
      ]
    },
    {
      "cell_type": "code",
      "execution_count": 124,
      "metadata": {
        "id": "SzEBBdGzEm2Z"
      },
      "outputs": [
        {
          "data": {
            "text/plain": [
              "RandomForestClassifier(random_state=3)"
            ]
          },
          "execution_count": 124,
          "metadata": {},
          "output_type": "execute_result"
        }
      ],
      "source": [
        "tfidf_model.fit(X_tfidf, y_train)"
      ]
    },
    {
      "cell_type": "code",
      "execution_count": 125,
      "metadata": {
        "id": "7ge_10eNEm4V"
      },
      "outputs": [
        {
          "data": {
            "text/plain": [
              "<AxesSubplot:>"
            ]
          },
          "execution_count": 125,
          "metadata": {},
          "output_type": "execute_result"
        },
        {
          "data": {
            "image/png": "[encoded data removed]",
            "text/plain": [
              "<Figure size 1080x720 with 1 Axes>"
            ]
          },
          "metadata": {
            "needs_background": "light"
          },
          "output_type": "display_data"
        }
      ],
      "source": [
        "pd.Series(tfidf_model.feature_importances_, index = tfidf.vocabulary_).sort_values().tail(20).plot.barh(figsize = (15, 10))"
      ]
    },
    {
      "cell_type": "code",
      "execution_count": 126,
      "metadata": {
        "id": "NMMCNGM-Em6R"
      },
      "outputs": [
        {
          "name": "stdout",
          "output_type": "stream",
          "text": [
            "Number of trees: 100\n",
            "Trees depth (mean): 162.79\n"
          ]
        }
      ],
      "source": [
        "tfidf_estimators = tfidf_model.estimators_\n",
        "print('Number of trees:', len(tfidf_estimators))\n",
        "print('Trees depth (mean):', np.mean([tree.get_depth() for tree in tfidf_estimators]))"
      ]
    },
    {
      "cell_type": "code",
      "execution_count": 127,
      "metadata": {
        "id": "XrT8rTVVJwqn"
      },
      "outputs": [],
      "source": [
        "y_train_tfidf_predict = tfidf_model.predict(X_tfidf)\n",
        "y_test_tfidf_predict = tfidf_model.predict(tfidf.transform(X_test))"
      ]
    },
    {
      "cell_type": "code",
      "execution_count": 128,
      "metadata": {
        "id": "pDImFEhVJwst"
      },
      "outputs": [
        {
          "data": {
            "text/plain": [
              "<sklearn.metrics._plot.confusion_matrix.ConfusionMatrixDisplay at 0x7fb94b9882b0>"
            ]
          },
          "execution_count": 128,
          "metadata": {},
          "output_type": "execute_result"
        },
        {
          "data": {
            "image/png": "[encoded data removed]",
            "text/plain": [
              "<Figure size 432x288 with 2 Axes>"
            ]
          },
          "metadata": {
            "needs_background": "light"
          },
          "output_type": "display_data"
        }
      ],
      "source": [
        "ConfusionMatrixDisplay.from_predictions(y_train, y_train_tfidf_predict)"
      ]
    },
    {
      "cell_type": "code",
      "execution_count": 129,
      "metadata": {
        "id": "KOMUdINI8v6-"
      },
      "outputs": [
        {
          "data": {
            "text/plain": [
              "<sklearn.metrics._plot.confusion_matrix.ConfusionMatrixDisplay at 0x7fb92b3b43d0>"
            ]
          },
          "execution_count": 129,
          "metadata": {},
          "output_type": "execute_result"
        },
        {
          "data": {
            "image/png": "[encoded data removed]",
            "text/plain": [
              "<Figure size 432x288 with 2 Axes>"
            ]
          },
          "metadata": {
            "needs_background": "light"
          },
          "output_type": "display_data"
        }
      ],
      "source": [
        "ConfusionMatrixDisplay.from_predictions(y_test,y_test_tfidf_predict)"
      ]
    },
    {
      "cell_type": "code",
      "execution_count": 130,
      "metadata": {
        "id": "HbvPkmxcJwuo"
      },
      "outputs": [
        {
          "name": "stdout",
          "output_type": "stream",
          "text": [
            "Precision: 1.0\n",
            "Recall: 1.0\n",
            "F1: 1.0\n"
          ]
        }
      ],
      "source": [
        "if len(bow_model.classes_) == 2:\n",
        "    print('Precision:', precision_score(y_train, y_train_tfidf_predict, pos_label = 1))\n",
        "    print('Recall:', recall_score(y_train, y_train_tfidf_predict, pos_label = 1))\n",
        "    print('F1:', f1_score(y_train, y_train_tfidf_predict, pos_label = 1))\n",
        "else:\n",
        "    # Para casos no binarios, es común calcular las métricas para cada clase\n",
        "    print('Precision:', precision_score(y_train, y_train_tfidf_predict, average = None))\n",
        "    print('Recall:', recall_score(y_train, y_train_tfidf_predict, average = None))\n",
        "    print('F1:', f1_score(y_train, y_train_tfidf_predict, average = None))"
      ]
    },
    {
      "cell_type": "code",
      "execution_count": 131,
      "metadata": {
        "id": "1fvE2GRgJwwe"
      },
      "outputs": [
        {
          "name": "stdout",
          "output_type": "stream",
          "text": [
            "Precision: 0.8311688311688312\n",
            "Recall: 0.768\n",
            "F1: 0.7983367983367984\n"
          ]
        }
      ],
      "source": [
        "if len(tfidf_model.classes_) == 2:\n",
        "    print('Precision:', precision_score(y_test, y_test_tfidf_predict, pos_label = 1))\n",
        "    print('Recall:', recall_score(y_test, y_test_tfidf_predict, pos_label = 1))\n",
        "    print('F1:', f1_score(y_test, y_test_tfidf_predict, pos_label = 1))\n",
        "else:\n",
        "    # Para casos no binarios, es común calcular las métricas para cada clase\n",
        "    print('Precision:', precision_score(y_test, y_test_tfidf_predict, average = None))\n",
        "    print('Recall:', recall_score(y_test, y_test_tfidf_predict, average = None))\n",
        "    print('F1:', f1_score(y_test, y_test_tfidf_predict, average = None))"
      ]
    },
    {
      "cell_type": "markdown",
      "metadata": {
        "id": "iUjq05ziJ6P5"
      },
      "source": [
        "# Limpieza de Datos y decisión de tipo de vectorización (Bag of Words)\n",
        "\n",
        "Mejores resultados Bow entonces trabajaremos con ese. Pero sin incluir los tokens de aparición de 1 solo caso."
      ]
    },
    {
      "cell_type": "code",
      "execution_count": 132,
      "metadata": {
        "id": "afBxaJU-Jw0W"
      },
      "outputs": [],
      "source": [
        "stop_words=list(stop_words)"
      ]
    },
    {
      "cell_type": "code",
      "execution_count": 133,
      "metadata": {
        "id": "DZZMaVxxJw2d"
      },
      "outputs": [],
      "source": [
        "bow = CountVectorizer(tokenizer = tokenizer, stop_words = stop_words, lowercase = True, min_df=2)"
      ]
    },
    {
      "cell_type": "code",
      "execution_count": 134,
      "metadata": {
        "id": "Hx7_9qkSKV00"
      },
      "outputs": [],
      "source": [
        "X_bow = bow.fit_transform(X_train)"
      ]
    },
    {
      "cell_type": "code",
      "execution_count": 135,
      "metadata": {
        "id": "cQNegU6kOlwK"
      },
      "outputs": [
        {
          "data": {
            "text/plain": [
              "24988"
            ]
          },
          "execution_count": 135,
          "metadata": {},
          "output_type": "execute_result"
        }
      ],
      "source": [
        "len(bow.vocabulary_)"
      ]
    },
    {
      "cell_type": "code",
      "execution_count": 136,
      "metadata": {
        "id": "wFIvD73vKV27"
      },
      "outputs": [],
      "source": [
        "tfidf = TfidfVectorizer(tokenizer = tokenizer, stop_words = stop_words, lowercase = True)"
      ]
    },
    {
      "cell_type": "code",
      "execution_count": 137,
      "metadata": {
        "id": "NeC_g5ePKV4V"
      },
      "outputs": [],
      "source": [
        "X_tfidf = tfidf.fit_transform(X_train)"
      ]
    },
    {
      "cell_type": "code",
      "execution_count": 138,
      "metadata": {
        "id": "evA_H7hBKiOW"
      },
      "outputs": [
        {
          "data": {
            "text/plain": [
              "58404"
            ]
          },
          "execution_count": 138,
          "metadata": {},
          "output_type": "execute_result"
        }
      ],
      "source": [
        "len(tfidf.vocabulary_)"
      ]
    },
    {
      "cell_type": "markdown",
      "metadata": {
        "id": "hO4mNm_fG_7X"
      },
      "source": [
        "# Análisis del error\n"
      ]
    },
    {
      "cell_type": "code",
      "execution_count": 139,
      "metadata": {
        "id": "ffAZB1qdHC1i"
      },
      "outputs": [],
      "source": [
        "error_df = pd.concat([\n",
        "    pd.concat([X_test, y_test], axis = 1).reset_index(),\n",
        "    pd.Series(y_test_bow_predict)\n",
        "], axis = 1).rename(columns = { 'sentimiento': 'actual', 0: 'predicted' })\n",
        "\n",
        "error_df.drop('index', inplace = True, axis = 1)"
      ]
    },
    {
      "cell_type": "code",
      "execution_count": 140,
      "metadata": {
        "id": "Q6oMYqOAHIGe"
      },
      "outputs": [
        {
          "data": {
            "text/plain": [
              "(184, 3)"
            ]
          },
          "execution_count": 140,
          "metadata": {},
          "output_type": "execute_result"
        }
      ],
      "source": [
        "error_df.loc[error_df['actual'] != error_df['predicted']].shape"
      ]
    },
    {
      "cell_type": "code",
      "execution_count": 141,
      "metadata": {
        "id": "OZluXrtPHtES"
      },
      "outputs": [
        {
          "data": {
            "text/html": [
              "<div>\n",
              "<style scoped>\n",
              "    .dataframe tbody tr th:only-of-type {\n",
              "        vertical-align: middle;\n",
              "    }\n",
              "\n",
              "    .dataframe tbody tr th {\n",
              "        vertical-align: top;\n",
              "    }\n",
              "\n",
              "    .dataframe thead th {\n",
              "        text-align: right;\n",
              "    }\n",
              "</style>\n",
              "<table border=\"1\" class=\"dataframe\">\n",
              "  <thead>\n",
              "    <tr style=\"text-align: right;\">\n",
              "      <th></th>\n",
              "      <th>review_es</th>\n",
              "      <th>actual</th>\n",
              "      <th>predicted</th>\n",
              "    </tr>\n",
              "  </thead>\n",
              "  <tbody>\n",
              "    <tr>\n",
              "      <th>310</th>\n",
              "      <td>Ugh, ¡qué episodio vergonzoso anoche!Era un script fallido para \"ABC Afterchool Special\", o el producto de un escritor de novato serio, simplemente fuera de la universidad, haciendo un homenaje a ese clásico PC Anti-pistola Homily desde 1974, \"The Gun\".De hecho, Hubby y se decepcionó de que el disparo de cierre no fuera de la arma que se derritiera como en la película! No, no soy un toque NRA.Es decir, cuando el productor de una serie inteligente y matizada lo entiende en su cabeza que debería estar sometido a una dramatización didáctica de su causa personal, lo apreciaría si la conferencia al menos no se entregó a través de 2 por-4.¡GEEZ! OK, la lección de sociología ha terminado.El mensaje ha sido entregado.Se ha emitido el episodio importante.Ahora vamos a volver a algunos episodios entretenidos que intenten respetar nuestra inteligencia.</td>\n",
              "      <td>1</td>\n",
              "      <td>0</td>\n",
              "    </tr>\n",
              "    <tr>\n",
              "      <th>99</th>\n",
              "      <td>Fui a una pequeña proyección anticipada de esta película el 19 de julio, no conociendo más que los nombres de algunos de los actores y que era una búsqueda de fantasía / aventura de algún tipo. La línea de la trama realmente no es nada como si hubiera visto, Y una historia única es ciertamente apreciada con todo lo demás que está actualmente en o próximamente a los teatros. A pesar de lo que pueden dar las primeras impresiones, no es cursi, cursi, pegajoso o ridículo, y es en realidad muy entretenido y divertido. El flujo está bastante bien hecho, nada parece apresurado o arrastrado. La banda sonora, por falta de mejores palabras, es mágica y agrega mucho a la película, a diferencia de simplemente llenar el silencio, lo que a menudo sucede en las películas o la televisión. Y aunque podría haber sabido lo que viene en los puntos, todavía no podía soportar dejar de ver la pantalla; Para mi conocimiento, no una sola persona abandonó el teatro durante toda la película. My una queja es que parece que casi no hay marketing para esta película, y tan brillante como es, no puedo averiguar por qué.</td>\n",
              "      <td>1</td>\n",
              "      <td>0</td>\n",
              "    </tr>\n",
              "    <tr>\n",
              "      <th>936</th>\n",
              "      <td>Para aquellos demasiado jóvenes para recordar, o demasiado viejos para haber sido parte de la \"exageración\", la moda Michael Jackson de los 80 de principios a mediados, se encontraba en una fiebre, como el bombo sobre Titanic, excepto que esto simplemente no hizo cejar. Cada canción, cada video, cada palabra emitida por Michael era importante. No se había visto nada similar desde el apogeo de los Beatles. Recuerdo haber visto este video por primera vez, en una pista de patinaje de rodillos. Todos dejaron de patinar. No había ninguna duda de si era un fanático de Michael Jackson o no; estabas. Todos se llenaban de la pantalla de proyección, y observaron el video ... Este es probablemente uno de los videos de música más largos jamás hechos, y definitivamente los mejores. Pérpetualmente obtiene el # 2 en el MTV anual Top 100 videos (# 1 es siempre el sabor de los meses, y de alguna manera lo que fue el número 1 de todos los tiempos más allá de # 2, para dar paso a la nueva # 1.. Ir Figura.), y Thriller se convirtió en un fenómeno en sí mismo. Si alguna vez tienes la oportunidad, debes ver el video; No solo los extractos mostrados en MTV o VH1. Si es necesario, debe buscar el thriller en una tienda de alquiler de video. Oye ... Tus padres probablemente te hicieron ver los Beatles y las imágenes de Woodstock porque \"Era importante\" ... Bueno, esto también es importante.</td>\n",
              "      <td>1</td>\n",
              "      <td>0</td>\n",
              "    </tr>\n",
              "    <tr>\n",
              "      <th>235</th>\n",
              "      <td>Esta película debería haber sido mucho mejor de lo que era.Christopher Eccleston es un excelente actor, pero incluso él no pudo rescatar a esta historia de una joven que busca la verdad sobre la muerte de su hermana.ADVERTENCIA DE SPOILER: En efecto, la verdad es que la hermana mayor (interpretada por Díaz) es solo una chica mimada, egoísta y superficial que tomó demasiadas drogas.No hay mucho de un giro y no tan interesante tampoco.La película también se superpone con demasiados flashbacks y office Sovers y carece de ritmo dramático.Todo en todo esto definitivamente vale la pena desaparecer, no debe ser recomendable.</td>\n",
              "      <td>0</td>\n",
              "      <td>1</td>\n",
              "    </tr>\n",
              "    <tr>\n",
              "      <th>957</th>\n",
              "      <td>Bueno, el héroe y el terror están ligeramente por debajo del promedio en mi opinión.Sí, Chuck es un verdadero artista marcial y patea un poco de culo en esta película, pero es bastante lento y la actuación en mi opinión es en su opinión, en su mayor parte, aunque creo que Steve James hace un trabajo decente.Al igual que mi amigo Ryan, me confundí en cuanto a por qué el psicópata optó por ir al teatro al final de la película en lugar de ir después de la novia de Norris.Hasta que el asesino solo había matado a las mujeres.Oh, bueno, supongo que no era tan predecible como pensaba.Definitivamente una película que puedes transmitir.</td>\n",
              "      <td>0</td>\n",
              "      <td>1</td>\n",
              "    </tr>\n",
              "    <tr>\n",
              "      <th>891</th>\n",
              "      <td>Esta película es realmente algo de un huevo de la cura, bien en partes. En contraste con otros revisores, descubrí que la culpa principal con ella es su incapacidad para atraer el interés del espectador en los personajes y la trama. Me senté a través de eso porque estoy interesado en Rock'n'Roll y la dinámica de las bandas, pero si tuviera que evaluarla puramente sobre la base de su mérito como una película, tendría que darle los pulgares hacia abajo, con Algunas advertencias: Jason Behr es bueno en la parte de John Livien, y bastante convincente como cantante de rock; La narrativa con respecto a su trauma de su infancia no está claro, aunque recibimos sugerencias en la relación bien actuada de Livien con sus padres, pero su comportamiento es finalmente extraño para el espectador (que no debería ser). Sin embargo, la idea de usar una persona de la etapa para resolver los conflictos internos es interesante, aunque no está novedosa ni se explora completamente como un tema en esta película. Las alusiones a John Lennon estaban irritantes, pero confieso que no soy un fan de los Beatles. En cualquier caso, Livien y su banda me recordaron más de Oasis que los Beatles, en el sentido de que había algo derivado de ellos. Otra cosa frustrante sobre la película fue la forma en que se abrió con algunas refrescas interesantes, aunque middlebrow y el nivel secundario, los reflexiones filosóficas del carácter principal, pero dejaron los hilos de su pensamiento allí, solo para recogerlos de nuevo en medio de La película muy brevemente, cuando Livien dice: \"Ante Dios, hubo música\" (¿alguna vez viste ese anuncio de Tia María en la década de 1990 \", antes de tiempo, había Tia María\"? Eso es lo que surgió de todos modos); Parece una conclusión idiota, y el espectador no tiene idea de cómo lo alcanzó, pero tiene derecho a él. Afortunadamente, su bajista y su amigo, jugado hábilmente por Dominic Monaghan, parece reconocer la falacia de este pensamiento cuando responde \"No lo sabes\". En todos, las fortalezas limitadas de la dirección y la trama podrían ir de manera de entrar. proyectos, en banalidad sin sentido o en una perspectiva interesante y más madura.</td>\n",
              "      <td>0</td>\n",
              "      <td>1</td>\n",
              "    </tr>\n",
              "    <tr>\n",
              "      <th>972</th>\n",
              "      <td>Así que perdona la escena de juego de juegos realmente * Lame, fondo de cartón y estudio como el estadio. Para esta parte, debería haber dado la película 5 en lugar de 7, pero leer en ... desde la premisa hasta la trama hay muchas similitudes con \"los reemplazos\". Algunos dicen que esta película estafa \"los reemplazos\", mientras que algunos dicen que este script escribió ante él. Ambas películas requieren algún tipo de \"suspensión de incredulidad en la premisa básica, y esto es especialmente difícil para\" Segunda cadena \", ya que tiene un equipo de licencia de la NFL y toda la historia detrás de ella. La excusa de veneno de alimentos puede parecer demasiado cojo para algunas personas, y Sin mencionar en las facturas de \"segunda cadena\", una y otra vez, nuevamente, con el presupuesto límite para disparar la escena del juego, esto lo hace parecer aún malo. En \"Reemplazos\", la premisa y la Liga es ficticia, pero tú Sé que sucede en la vida real. Creo que es más fácil aceptar la historia de ficticia y la configuración con el evento real (\"¡Oh, sí, esto sucede antes!\", en lugar de la configuración / fondo real con escenario ficticio (\"No hay forma de que Bill pueda ganar. ¡Una Superbowl! \", Algunas de la escena fueron disparadas en el juego de PRE TEMPORACIONES DE LOS JUEGOS DE RAVEN, el estadio real, la audiencia real y un poco de ángulo de tiro de la NFL igual. Pero digamos que ambas películas salgan el mismo día, y borramos el presupuesto. Factor (por lo tanto, perdona la escena de acción de juego de juego): OVE Rall, me gusta \"Second String\" sobre \"Reemplazos\", no por mucho, pero me gusta más. Tiene \"relativamente mejor\" desarrollo de personajes. En \"Reemplazos\", el personaje de Keanu está demasiado \"sin sincronizar con el mundo\", y todo lo que cuida es tal vez, conseguir una chica? En la segunda cadena, ves la lucha de la QB de recuperar el trabajo y lidiar con su pasado con el entrenador. O el problema del chico de Fumble. Esta solución \"Mantener la pelota todo el día\", por supuesto, no es nueva, pero vemos la progresión en la fijación. ¿Cómo se desempeña esos trucos? Creo que es \"relativamente realista\" que \"reemplazos\". El \"Dan Marino\" como el pase de rodilla falso, Flea-Flicker, Gato Wild Cat Full Shack Rush, todo real, excepto que a veces esto se ve un poco demasiado fácil. Pero para mí es mejor que \"la captura central de\" reemplazo \"y apresurarse por 50 yardas, o cómo un gol de campo de 60 yardas se ve demasiado fácil. Oh, en cierto, me alegro de que no fueran obligados a que el Te Kicker hizo su disparo ..., por supuesto, si revisa objetivamente esta película sobre otras películas de fútbol, ​​esto podría ser fácilmente una película de 5 de cada 10. Pero algunos dicen que esta es la peor película de fútbol. Prueba \"las regresiones\".</td>\n",
              "      <td>1</td>\n",
              "      <td>0</td>\n",
              "    </tr>\n",
              "    <tr>\n",
              "      <th>365</th>\n",
              "      <td>Vi a esta película hace una semana y seguí pensando en ello. Estaba muy movido por esta película. Encontré a los personajes muy creíbles y agradables casi a una falla. Como en la vida real, aunque a veces las personas decepcionan, al igual que el caso de Leo, quien a pesar de que me gustó su personaje, no podría haber estado más decepcionado cuando estaba dispuesto a tener relaciones sexuales sin protección aunque sea plenamente consciente de su estado de VIH. También me decepcionó a Leo por rechazar la medicina disponible para él, y la terrible forma en que trató a Marcel cuando decidió enviarlo en el tren. Creo que esta película se mostró de una manera muy real por la que los números de VIH están en los hombres gays jóvenes. Esta de ninguna manera está destinada a golpear a los gays (soy gay) y la película muy bien podría haberse hecho acerca de una persona heterosexual joven que tiene malas opciones y parece desconocer las consecuencias de sí mismo y a los demás. La única parte de la película que no pude entender fue por qué la familia (gay amable) no estaba dispuesta a incluir a Marcel en la enfermedad de Leo hasta el punto de no permitirle ir al funerario. Creo que el mensaje más grande de esta película es que ¡Ya sea gay o recto no tiene relaciones sexuales sin protección!</td>\n",
              "      <td>1</td>\n",
              "      <td>0</td>\n",
              "    </tr>\n",
              "    <tr>\n",
              "      <th>482</th>\n",
              "      <td>Habiendo escuchado y disfrutó del comentario del Omen II de Harvey Bernhard, me sorprendió descubrir que también estaba detrás de esta absoluta pedazo de basura.Es como una película de televisión realmente mala, puede vislumbrar en medio del día en que tiene la gripe y está demasiado enfermo para alcanzar el control remoto.Pienso en el momento donde Michael Lerner se enfrenta a lo que solo puedo describir como un elenco de la escuela secundaria de Les miserables, mi boca colgaba con incredulidad.Y luego mi boca estaba subiendo y bajando porque estaba riendo tanto.Terrible.No sé por qué tengo que escribir un mínimo de diez líneas, he hecho que mi punto sucintamente, no hay nada inteligente sobre toda esta vordaje moderna.</td>\n",
              "      <td>0</td>\n",
              "      <td>1</td>\n",
              "    </tr>\n",
              "    <tr>\n",
              "      <th>408</th>\n",
              "      <td>Estaba esperando mucho de esta película, y puedo decir que no me he decepcionado. En primer lugar, esta película, como una gira mundial de vino, deja que el espectador disfrute de lugares hermosos. Las personas entrevistadas son realmente interesantes y divertidas, en particular Hubert de Montille. El disparo puede ser confuso, la cámara siempre es inestable y, a menudo, se centra en elementos secundarios en los fondos. Es posible que no le guste, pero no lo considero como un defecto. Los temas planteados en la película también pueden ser confusos, ya que la globalización no es el único problema discutido. Pero Nossiter logró dar a su película una consistencia todo el tiempo. Un gran logro de esta película está revelando a todos los personajes involucrados en la industria del vino, ya que realmente son, evitando un cliché \"bueno contra el mal\". Esta podría ser la principal diferencia entre los documentales \"Mondovino\" y Michael Moore; El punto de vista de Nossiter aparece de manera sutil, a través de las opiniones expresadas por sus personajes favoritos. La riqueza de este documental se basa principalmente en los personajes, la historia de las familias de vino a largo plazo, como el de Montilles, el Mondavis, el Antinori y el Frescuobaldi. Nossiter le permite al espectador descubrir que el vino está relacionado de alguna manera con las familias, en lugar de ser solo un negocio y una industria. Esta película no te hace querer beber vino, pero ciertamente te hace querer descubrir viñedos y fabricantes de vinos. Observé esta película como estudiante en Enología, y hagamos que hay muchas maneras de aprender. Doy a este documental 10 de 10, a pesar de sus particularidades técnicas.</td>\n",
              "      <td>1</td>\n",
              "      <td>0</td>\n",
              "    </tr>\n",
              "  </tbody>\n",
              "</table>\n",
              "</div>"
            ],
            "text/plain": [
              "                                                                                                                                                                                                                                                                                                                                                                                                                                                                                                                                                                                                                                                                                                                                                                                                                                                                                                                                                                                                                                                                                                                                                                                                                                                                                                                                                                                                                                                                                                                                                                                                                                                                                                                                                                                                                                                                                                                                                                                                                                                                                                                                                                                                                                                                                                                                                                                                                                                                                                                                                                                                                                                                                                                                                                                                                                                                                                 review_es  \\\n",
              "310                                                                                                                                                                                                                                                                                                                                                                                                                                                                                                                                                                                                                                                                                                                                                                                                                                                                                                                                                                                                                                                                                                                                                                                                                                                                                                                                                                                                                                                                                                                                                                                                                                                                                                                                                                                                                                                                                                                                                                                                                  Ugh, ¡qué episodio vergonzoso anoche!Era un script fallido para \"ABC Afterchool Special\", o el producto de un escritor de novato serio, simplemente fuera de la universidad, haciendo un homenaje a ese clásico PC Anti-pistola Homily desde 1974, \"The Gun\".De hecho, Hubby y se decepcionó de que el disparo de cierre no fuera de la arma que se derritiera como en la película! No, no soy un toque NRA.Es decir, cuando el productor de una serie inteligente y matizada lo entiende en su cabeza que debería estar sometido a una dramatización didáctica de su causa personal, lo apreciaría si la conferencia al menos no se entregó a través de 2 por-4.¡GEEZ! OK, la lección de sociología ha terminado.El mensaje ha sido entregado.Se ha emitido el episodio importante.Ahora vamos a volver a algunos episodios entretenidos que intenten respetar nuestra inteligencia.   \n",
              "99                                                                                                                                                                                                                                                                                                                                                                                                                                                                                                                                                                                                                                                                                                                                                                                                                                                                                                                                                                                                                                                                                                                                                                                                                                                                                                                                                                                                                                                                                                                                                                                                                                                                                                                                                       Fui a una pequeña proyección anticipada de esta película el 19 de julio, no conociendo más que los nombres de algunos de los actores y que era una búsqueda de fantasía / aventura de algún tipo. La línea de la trama realmente no es nada como si hubiera visto, Y una historia única es ciertamente apreciada con todo lo demás que está actualmente en o próximamente a los teatros. A pesar de lo que pueden dar las primeras impresiones, no es cursi, cursi, pegajoso o ridículo, y es en realidad muy entretenido y divertido. El flujo está bastante bien hecho, nada parece apresurado o arrastrado. La banda sonora, por falta de mejores palabras, es mágica y agrega mucho a la película, a diferencia de simplemente llenar el silencio, lo que a menudo sucede en las películas o la televisión. Y aunque podría haber sabido lo que viene en los puntos, todavía no podía soportar dejar de ver la pantalla; Para mi conocimiento, no una sola persona abandonó el teatro durante toda la película. My una queja es que parece que casi no hay marketing para esta película, y tan brillante como es, no puedo averiguar por qué.   \n",
              "936                                                                                                                                                                                                                                                                                                                                                                                                                                                                                                                                                                                                                                                                                                                                                                                                                                                                                                                                                                                                                                                                                                                                                                                                                                                                                                                                                                                                                                                            Para aquellos demasiado jóvenes para recordar, o demasiado viejos para haber sido parte de la \"exageración\", la moda Michael Jackson de los 80 de principios a mediados, se encontraba en una fiebre, como el bombo sobre Titanic, excepto que esto simplemente no hizo cejar. Cada canción, cada video, cada palabra emitida por Michael era importante. No se había visto nada similar desde el apogeo de los Beatles. Recuerdo haber visto este video por primera vez, en una pista de patinaje de rodillos. Todos dejaron de patinar. No había ninguna duda de si era un fanático de Michael Jackson o no; estabas. Todos se llenaban de la pantalla de proyección, y observaron el video ... Este es probablemente uno de los videos de música más largos jamás hechos, y definitivamente los mejores. Pérpetualmente obtiene el # 2 en el MTV anual Top 100 videos (# 1 es siempre el sabor de los meses, y de alguna manera lo que fue el número 1 de todos los tiempos más allá de # 2, para dar paso a la nueva # 1.. Ir Figura.), y Thriller se convirtió en un fenómeno en sí mismo. Si alguna vez tienes la oportunidad, debes ver el video; No solo los extractos mostrados en MTV o VH1. Si es necesario, debe buscar el thriller en una tienda de alquiler de video. Oye ... Tus padres probablemente te hicieron ver los Beatles y las imágenes de Woodstock porque \"Era importante\" ... Bueno, esto también es importante.   \n",
              "235                                                                                                                                                                                                                                                                                                                                                                                                                                                                                                                                                                                                                                                                                                                                                                                                                                                                                                                                                                                                                                                                                                                                                                                                                                                                                                                                                                                                                                                                                                                                                                                                                                                                                                                                                                                                                                                                                                                                                                                                                                                                                                                                                                                                                                                      Esta película debería haber sido mucho mejor de lo que era.Christopher Eccleston es un excelente actor, pero incluso él no pudo rescatar a esta historia de una joven que busca la verdad sobre la muerte de su hermana.ADVERTENCIA DE SPOILER: En efecto, la verdad es que la hermana mayor (interpretada por Díaz) es solo una chica mimada, egoísta y superficial que tomó demasiadas drogas.No hay mucho de un giro y no tan interesante tampoco.La película también se superpone con demasiados flashbacks y office Sovers y carece de ritmo dramático.Todo en todo esto definitivamente vale la pena desaparecer, no debe ser recomendable.   \n",
              "957                                                                                                                                                                                                                                                                                                                                                                                                                                                                                                                                                                                                                                                                                                                                                                                                                                                                                                                                                                                                                                                                                                                                                                                                                                                                                                                                                                                                                                                                                                                                                                                                                                                                                                                                                                                                                                                                                                                                                                                                                                                                                                                                                                                                                                            Bueno, el héroe y el terror están ligeramente por debajo del promedio en mi opinión.Sí, Chuck es un verdadero artista marcial y patea un poco de culo en esta película, pero es bastante lento y la actuación en mi opinión es en su opinión, en su mayor parte, aunque creo que Steve James hace un trabajo decente.Al igual que mi amigo Ryan, me confundí en cuanto a por qué el psicópata optó por ir al teatro al final de la película en lugar de ir después de la novia de Norris.Hasta que el asesino solo había matado a las mujeres.Oh, bueno, supongo que no era tan predecible como pensaba.Definitivamente una película que puedes transmitir.   \n",
              "891                                                                                                                                                                                                                                                                                                                                                                                                                                                                                                                                                                                                                                            Esta película es realmente algo de un huevo de la cura, bien en partes. En contraste con otros revisores, descubrí que la culpa principal con ella es su incapacidad para atraer el interés del espectador en los personajes y la trama. Me senté a través de eso porque estoy interesado en Rock'n'Roll y la dinámica de las bandas, pero si tuviera que evaluarla puramente sobre la base de su mérito como una película, tendría que darle los pulgares hacia abajo, con Algunas advertencias: Jason Behr es bueno en la parte de John Livien, y bastante convincente como cantante de rock; La narrativa con respecto a su trauma de su infancia no está claro, aunque recibimos sugerencias en la relación bien actuada de Livien con sus padres, pero su comportamiento es finalmente extraño para el espectador (que no debería ser). Sin embargo, la idea de usar una persona de la etapa para resolver los conflictos internos es interesante, aunque no está novedosa ni se explora completamente como un tema en esta película. Las alusiones a John Lennon estaban irritantes, pero confieso que no soy un fan de los Beatles. En cualquier caso, Livien y su banda me recordaron más de Oasis que los Beatles, en el sentido de que había algo derivado de ellos. Otra cosa frustrante sobre la película fue la forma en que se abrió con algunas refrescas interesantes, aunque middlebrow y el nivel secundario, los reflexiones filosóficas del carácter principal, pero dejaron los hilos de su pensamiento allí, solo para recogerlos de nuevo en medio de La película muy brevemente, cuando Livien dice: \"Ante Dios, hubo música\" (¿alguna vez viste ese anuncio de Tia María en la década de 1990 \", antes de tiempo, había Tia María\"? Eso es lo que surgió de todos modos); Parece una conclusión idiota, y el espectador no tiene idea de cómo lo alcanzó, pero tiene derecho a él. Afortunadamente, su bajista y su amigo, jugado hábilmente por Dominic Monaghan, parece reconocer la falacia de este pensamiento cuando responde \"No lo sabes\". En todos, las fortalezas limitadas de la dirección y la trama podrían ir de manera de entrar. proyectos, en banalidad sin sentido o en una perspectiva interesante y más madura.   \n",
              "972  Así que perdona la escena de juego de juegos realmente * Lame, fondo de cartón y estudio como el estadio. Para esta parte, debería haber dado la película 5 en lugar de 7, pero leer en ... desde la premisa hasta la trama hay muchas similitudes con \"los reemplazos\". Algunos dicen que esta película estafa \"los reemplazos\", mientras que algunos dicen que este script escribió ante él. Ambas películas requieren algún tipo de \"suspensión de incredulidad en la premisa básica, y esto es especialmente difícil para\" Segunda cadena \", ya que tiene un equipo de licencia de la NFL y toda la historia detrás de ella. La excusa de veneno de alimentos puede parecer demasiado cojo para algunas personas, y Sin mencionar en las facturas de \"segunda cadena\", una y otra vez, nuevamente, con el presupuesto límite para disparar la escena del juego, esto lo hace parecer aún malo. En \"Reemplazos\", la premisa y la Liga es ficticia, pero tú Sé que sucede en la vida real. Creo que es más fácil aceptar la historia de ficticia y la configuración con el evento real (\"¡Oh, sí, esto sucede antes!\", en lugar de la configuración / fondo real con escenario ficticio (\"No hay forma de que Bill pueda ganar. ¡Una Superbowl! \", Algunas de la escena fueron disparadas en el juego de PRE TEMPORACIONES DE LOS JUEGOS DE RAVEN, el estadio real, la audiencia real y un poco de ángulo de tiro de la NFL igual. Pero digamos que ambas películas salgan el mismo día, y borramos el presupuesto. Factor (por lo tanto, perdona la escena de acción de juego de juego): OVE Rall, me gusta \"Second String\" sobre \"Reemplazos\", no por mucho, pero me gusta más. Tiene \"relativamente mejor\" desarrollo de personajes. En \"Reemplazos\", el personaje de Keanu está demasiado \"sin sincronizar con el mundo\", y todo lo que cuida es tal vez, conseguir una chica? En la segunda cadena, ves la lucha de la QB de recuperar el trabajo y lidiar con su pasado con el entrenador. O el problema del chico de Fumble. Esta solución \"Mantener la pelota todo el día\", por supuesto, no es nueva, pero vemos la progresión en la fijación. ¿Cómo se desempeña esos trucos? Creo que es \"relativamente realista\" que \"reemplazos\". El \"Dan Marino\" como el pase de rodilla falso, Flea-Flicker, Gato Wild Cat Full Shack Rush, todo real, excepto que a veces esto se ve un poco demasiado fácil. Pero para mí es mejor que \"la captura central de\" reemplazo \"y apresurarse por 50 yardas, o cómo un gol de campo de 60 yardas se ve demasiado fácil. Oh, en cierto, me alegro de que no fueran obligados a que el Te Kicker hizo su disparo ..., por supuesto, si revisa objetivamente esta película sobre otras películas de fútbol, ​​esto podría ser fácilmente una película de 5 de cada 10. Pero algunos dicen que esta es la peor película de fútbol. Prueba \"las regresiones\".   \n",
              "365                                                                                                                                                                                                                                                                                                                                                                                                                                                                                                                                                                                                                                                                                                                                                                                                                                                                                                                                                                                                                                                                                                                                                                                                                                                                                                                                                                                                                                                                                                                                                    Vi a esta película hace una semana y seguí pensando en ello. Estaba muy movido por esta película. Encontré a los personajes muy creíbles y agradables casi a una falla. Como en la vida real, aunque a veces las personas decepcionan, al igual que el caso de Leo, quien a pesar de que me gustó su personaje, no podría haber estado más decepcionado cuando estaba dispuesto a tener relaciones sexuales sin protección aunque sea plenamente consciente de su estado de VIH. También me decepcionó a Leo por rechazar la medicina disponible para él, y la terrible forma en que trató a Marcel cuando decidió enviarlo en el tren. Creo que esta película se mostró de una manera muy real por la que los números de VIH están en los hombres gays jóvenes. Esta de ninguna manera está destinada a golpear a los gays (soy gay) y la película muy bien podría haberse hecho acerca de una persona heterosexual joven que tiene malas opciones y parece desconocer las consecuencias de sí mismo y a los demás. La única parte de la película que no pude entender fue por qué la familia (gay amable) no estaba dispuesta a incluir a Marcel en la enfermedad de Leo hasta el punto de no permitirle ir al funerario. Creo que el mensaje más grande de esta película es que ¡Ya sea gay o recto no tiene relaciones sexuales sin protección!   \n",
              "482                                                                                                                                                                                                                                                                                                                                                                                                                                                                                                                                                                                                                                                                                                                                                                                                                                                                                                                                                                                                                                                                                                                                                                                                                                                                                                                                                                                                                                                                                                                                                                                                                                                                                                                                                                                                                                                                                                                                                                                                                                                                                                                                             Habiendo escuchado y disfrutó del comentario del Omen II de Harvey Bernhard, me sorprendió descubrir que también estaba detrás de esta absoluta pedazo de basura.Es como una película de televisión realmente mala, puede vislumbrar en medio del día en que tiene la gripe y está demasiado enfermo para alcanzar el control remoto.Pienso en el momento donde Michael Lerner se enfrenta a lo que solo puedo describir como un elenco de la escuela secundaria de Les miserables, mi boca colgaba con incredulidad.Y luego mi boca estaba subiendo y bajando porque estaba riendo tanto.Terrible.No sé por qué tengo que escribir un mínimo de diez líneas, he hecho que mi punto sucintamente, no hay nada inteligente sobre toda esta vordaje moderna.   \n",
              "408                                                                                                                                                                                                                                                                                                                                                                                                                                                                                                                                                                                                                                                                                                                                                                                                                                                                                                                                                                                                                                                                                                                              Estaba esperando mucho de esta película, y puedo decir que no me he decepcionado. En primer lugar, esta película, como una gira mundial de vino, deja que el espectador disfrute de lugares hermosos. Las personas entrevistadas son realmente interesantes y divertidas, en particular Hubert de Montille. El disparo puede ser confuso, la cámara siempre es inestable y, a menudo, se centra en elementos secundarios en los fondos. Es posible que no le guste, pero no lo considero como un defecto. Los temas planteados en la película también pueden ser confusos, ya que la globalización no es el único problema discutido. Pero Nossiter logró dar a su película una consistencia todo el tiempo. Un gran logro de esta película está revelando a todos los personajes involucrados en la industria del vino, ya que realmente son, evitando un cliché \"bueno contra el mal\". Esta podría ser la principal diferencia entre los documentales \"Mondovino\" y Michael Moore; El punto de vista de Nossiter aparece de manera sutil, a través de las opiniones expresadas por sus personajes favoritos. La riqueza de este documental se basa principalmente en los personajes, la historia de las familias de vino a largo plazo, como el de Montilles, el Mondavis, el Antinori y el Frescuobaldi. Nossiter le permite al espectador descubrir que el vino está relacionado de alguna manera con las familias, en lugar de ser solo un negocio y una industria. Esta película no te hace querer beber vino, pero ciertamente te hace querer descubrir viñedos y fabricantes de vinos. Observé esta película como estudiante en Enología, y hagamos que hay muchas maneras de aprender. Doy a este documental 10 de 10, a pesar de sus particularidades técnicas.   \n",
              "\n",
              "     actual  predicted  \n",
              "310       1          0  \n",
              "99        1          0  \n",
              "936       1          0  \n",
              "235       0          1  \n",
              "957       0          1  \n",
              "891       0          1  \n",
              "972       1          0  \n",
              "365       1          0  \n",
              "482       0          1  \n",
              "408       1          0  "
            ]
          },
          "execution_count": 141,
          "metadata": {},
          "output_type": "execute_result"
        }
      ],
      "source": [
        "error_df.loc[error_df['actual'] != error_df['predicted']].sample(10)"
      ]
    },
    {
      "cell_type": "markdown",
      "metadata": {
        "id": "wRqtq1zNPJpr"
      },
      "source": [
        "# Metodo 1: KNN\n",
        "Juan Felipe Patiño 201922857"
      ]
    },
    {
      "cell_type": "code",
      "execution_count": 142,
      "metadata": {
        "id": "pGKGN6J0TtPB"
      },
      "outputs": [],
      "source": [
        "knn_model = KNeighborsClassifier(n_neighbors = 3) # 5 neighbors is the default value"
      ]
    },
    {
      "cell_type": "code",
      "execution_count": 143,
      "metadata": {
        "id": "k_sqHiEGTtQ8"
      },
      "outputs": [
        {
          "data": {
            "text/plain": [
              "KNeighborsClassifier(n_neighbors=3)"
            ]
          },
          "execution_count": 143,
          "metadata": {},
          "output_type": "execute_result"
        }
      ],
      "source": [
        "knn_model.fit(X_bow, y_train)"
      ]
    },
    {
      "cell_type": "code",
      "execution_count": 144,
      "metadata": {
        "id": "KTnBQN3PZx0_"
      },
      "outputs": [
        {
          "data": {
            "text/plain": [
              "<1000x24988 sparse matrix of type '<class 'numpy.int64'>'\n",
              "\twith 99944 stored elements in Compressed Sparse Row format>"
            ]
          },
          "execution_count": 144,
          "metadata": {},
          "output_type": "execute_result"
        }
      ],
      "source": [
        "bow.transform(X_test)"
      ]
    },
    {
      "cell_type": "code",
      "execution_count": 145,
      "metadata": {
        "id": "j5ljqJPqNrYx"
      },
      "outputs": [],
      "source": [
        "# Generación de predicciones para entrenamiento y test para el cálculo de errores\n",
        "preds_train = knn_model.predict(X_bow)\n",
        "preds_test = knn_model.predict(bow.transform(X_test))"
      ]
    },
    {
      "cell_type": "code",
      "execution_count": 146,
      "metadata": {
        "id": "USIv1M_7NrYy"
      },
      "outputs": [
        {
          "name": "stdout",
          "output_type": "stream",
          "text": [
            "Accuracy (train): 0.76375\n",
            "Accuracy (test): 0.557\n"
          ]
        }
      ],
      "source": [
        "# Se evalua la accuracy (1 - error) del \"modelo\" en ambos conjuntos en términos porcentuales: porcetaje de instancias bien etiquetadas:\n",
        "print('Accuracy (train):', accuracy_score(y_train, preds_train))\n",
        "print('Accuracy (test):', accuracy_score(y_test, preds_test))"
      ]
    },
    {
      "cell_type": "code",
      "execution_count": 147,
      "metadata": {
        "id": "Ge2Gi4O4NrYy"
      },
      "outputs": [
        {
          "data": {
            "image/png": "[encoded data removed]",
            "text/plain": [
              "<Figure size 936x720 with 8 Axes>"
            ]
          },
          "metadata": {
            "needs_background": "light"
          },
          "output_type": "display_data"
        }
      ],
      "source": [
        "# Se empieza calculando la matriz de confusión\n",
        "\n",
        "cm_train = confusion_matrix(y_train, preds_train, labels = knn_model.classes_)\n",
        "cm_train_norm = confusion_matrix(y_train, preds_train, labels = knn_model.classes_, normalize = 'true')\n",
        "cm_test = confusion_matrix(y_test, preds_test, labels = knn_model.classes_)\n",
        "cm_test_norm = confusion_matrix(y_test, preds_test, labels = knn_model.classes_, normalize = 'true')\n",
        "\n",
        "fig, ((ax1, ax2), (ax3, ax4)) = plt.subplots(2, 2, figsize = (13, 10))\n",
        "ConfusionMatrixDisplay(confusion_matrix = cm_train, display_labels = knn_model.classes_).plot(ax = ax1, values_format = ',.0f')\n",
        "ConfusionMatrixDisplay(confusion_matrix = cm_train_norm, display_labels = knn_model.classes_).plot(ax = ax2, values_format = '.3f')\n",
        "ConfusionMatrixDisplay(confusion_matrix = cm_test, display_labels = knn_model.classes_).plot(ax = ax3, values_format = ',.0f')\n",
        "ConfusionMatrixDisplay(confusion_matrix = cm_test_norm, display_labels = knn_model.classes_).plot(ax = ax4, values_format = '.3f')\n",
        "\n",
        "ax1.set_title('Train')\n",
        "ax2.set_title('Train (normalized)')\n",
        "ax3.set_title('Test')\n",
        "ax4.set_title('Test (normalized)')\n",
        "plt.show()"
      ]
    },
    {
      "cell_type": "code",
      "execution_count": 148,
      "metadata": {
        "id": "AZYfeT_9NrYy"
      },
      "outputs": [
        {
          "data": {
            "text/html": [
              "<div>\n",
              "<style scoped>\n",
              "    .dataframe tbody tr th:only-of-type {\n",
              "        vertical-align: middle;\n",
              "    }\n",
              "\n",
              "    .dataframe tbody tr th {\n",
              "        vertical-align: top;\n",
              "    }\n",
              "\n",
              "    .dataframe thead th {\n",
              "        text-align: right;\n",
              "    }\n",
              "</style>\n",
              "<table border=\"1\" class=\"dataframe\">\n",
              "  <thead>\n",
              "    <tr style=\"text-align: right;\">\n",
              "      <th></th>\n",
              "      <th>Train</th>\n",
              "      <th>Test</th>\n",
              "    </tr>\n",
              "  </thead>\n",
              "  <tbody>\n",
              "    <tr>\n",
              "      <th>Accuracy</th>\n",
              "      <td>0.763750</td>\n",
              "      <td>0.557000</td>\n",
              "    </tr>\n",
              "    <tr>\n",
              "      <th>Precision</th>\n",
              "      <td>0.808660</td>\n",
              "      <td>0.570025</td>\n",
              "    </tr>\n",
              "    <tr>\n",
              "      <th>Recall</th>\n",
              "      <td>0.691000</td>\n",
              "      <td>0.464000</td>\n",
              "    </tr>\n",
              "    <tr>\n",
              "      <th>F1</th>\n",
              "      <td>0.745214</td>\n",
              "      <td>0.511577</td>\n",
              "    </tr>\n",
              "  </tbody>\n",
              "</table>\n",
              "</div>"
            ],
            "text/plain": [
              "              Train      Test\n",
              "Accuracy   0.763750  0.557000\n",
              "Precision  0.808660  0.570025\n",
              "Recall     0.691000  0.464000\n",
              "F1         0.745214  0.511577"
            ]
          },
          "execution_count": 148,
          "metadata": {},
          "output_type": "execute_result"
        }
      ],
      "source": [
        "# Se calculan las diferentes métricas de error para una comparacion más directa:\n",
        "pd.DataFrame([\n",
        "    {\n",
        "        'Train': accuracy_score(y_train, preds_train),\n",
        "        'Test': accuracy_score(y_test, preds_test)\n",
        "    },\n",
        "    {\n",
        "        'Train': precision_score(y_train, preds_train),\n",
        "        'Test': precision_score(y_test, preds_test)\n",
        "    },\n",
        "    {\n",
        "        'Train': recall_score(y_train, preds_train),\n",
        "        'Test': recall_score(y_test, preds_test)\n",
        "    },\n",
        "    {\n",
        "        'Train': f1_score(y_train, preds_train),\n",
        "        'Test': f1_score(y_test, preds_test)\n",
        "    }\n",
        "], index = ['Accuracy', 'Precision', 'Recall', 'F1'])"
      ]
    },
    {
      "cell_type": "markdown",
      "metadata": {
        "id": "tB75LnU3PNu2"
      },
      "source": [
        "# Metodo 2: Decision Tree\n",
        "Juan Felipe Patiño 201922857"
      ]
    },
    {
      "cell_type": "code",
      "execution_count": 149,
      "metadata": {
        "id": "XpXbbVo2R3WM"
      },
      "outputs": [],
      "source": [
        "bow_model = RandomForestClassifier(random_state = 2)"
      ]
    },
    {
      "cell_type": "code",
      "execution_count": 150,
      "metadata": {
        "id": "HFXrnrUER3WN"
      },
      "outputs": [
        {
          "data": {
            "text/plain": [
              "RandomForestClassifier(random_state=2)"
            ]
          },
          "execution_count": 150,
          "metadata": {},
          "output_type": "execute_result"
        }
      ],
      "source": [
        "bow_model.fit(X_bow, y_train)"
      ]
    },
    {
      "cell_type": "code",
      "execution_count": 151,
      "metadata": {
        "id": "pm1V3V99R3WN"
      },
      "outputs": [
        {
          "data": {
            "text/plain": [
              "<AxesSubplot:>"
            ]
          },
          "execution_count": 151,
          "metadata": {},
          "output_type": "execute_result"
        },
        {
          "data": {
            "image/png": "[encoded data removed]",
            "text/plain": [
              "<Figure size 1080x720 with 1 Axes>"
            ]
          },
          "metadata": {
            "needs_background": "light"
          },
          "output_type": "display_data"
        }
      ],
      "source": [
        "# La 'feature importance' en modelos basados en árboles de decisión indican cuales son las características más importantes al momento de tomar una decisión\n",
        "pd.Series(bow_model.feature_importances_, index = bow.vocabulary_).sort_values().tail(20).plot.barh(figsize = (15, 10))"
      ]
    },
    {
      "cell_type": "code",
      "execution_count": 152,
      "metadata": {
        "id": "xmHmUPdUR3WO"
      },
      "outputs": [
        {
          "name": "stdout",
          "output_type": "stream",
          "text": [
            "Number of trees: 100\n",
            "Trees depth (mean): 152.33\n"
          ]
        }
      ],
      "source": [
        "bow_estimators = bow_model.estimators_\n",
        "print('Number of trees:', len(bow_estimators))\n",
        "print('Trees depth (mean):', np.mean([tree.get_depth() for tree in bow_estimators]))"
      ]
    },
    {
      "cell_type": "code",
      "execution_count": 153,
      "metadata": {
        "id": "olttyOxWR3WO"
      },
      "outputs": [],
      "source": [
        "y_train_bow_predict = bow_model.predict(X_bow)\n",
        "y_test_bow_predict = bow_model.predict(bow.transform(X_test))"
      ]
    },
    {
      "cell_type": "code",
      "execution_count": 154,
      "metadata": {
        "id": "AjoEUt4BR3WP"
      },
      "outputs": [
        {
          "data": {
            "text/plain": [
              "<sklearn.metrics._plot.confusion_matrix.ConfusionMatrixDisplay at 0x7fb94bb61a60>"
            ]
          },
          "execution_count": 154,
          "metadata": {},
          "output_type": "execute_result"
        },
        {
          "data": {
            "image/png": "[encoded data removed]",
            "text/plain": [
              "<Figure size 432x288 with 2 Axes>"
            ]
          },
          "metadata": {
            "needs_background": "light"
          },
          "output_type": "display_data"
        }
      ],
      "source": [
        "ConfusionMatrixDisplay.from_predictions(y_train, y_train_bow_predict)"
      ]
    },
    {
      "cell_type": "code",
      "execution_count": 155,
      "metadata": {
        "id": "Nd3NxBJhR3WP"
      },
      "outputs": [
        {
          "data": {
            "text/plain": [
              "<sklearn.metrics._plot.confusion_matrix.ConfusionMatrixDisplay at 0x7fb94bb6a0d0>"
            ]
          },
          "execution_count": 155,
          "metadata": {},
          "output_type": "execute_result"
        },
        {
          "data": {
            "image/png": "[encoded data removed]",
            "text/plain": [
              "<Figure size 432x288 with 2 Axes>"
            ]
          },
          "metadata": {
            "needs_background": "light"
          },
          "output_type": "display_data"
        }
      ],
      "source": [
        "ConfusionMatrixDisplay.from_predictions(y_test, y_test_bow_predict)"
      ]
    },
    {
      "cell_type": "code",
      "execution_count": 156,
      "metadata": {
        "id": "fBaUGuvuR3WP"
      },
      "outputs": [
        {
          "name": "stdout",
          "output_type": "stream",
          "text": [
            "Precision: 1.0\n",
            "Recall: 1.0\n",
            "F1: 1.0\n"
          ]
        }
      ],
      "source": [
        "if len(bow_model.classes_) == 2:\n",
        "    print('Precision:', precision_score(y_train, y_train_bow_predict, pos_label = 1))\n",
        "    print('Recall:', recall_score(y_train, y_train_bow_predict, pos_label = 1))\n",
        "    print('F1:', f1_score(y_train, y_train_bow_predict, pos_label = 1))\n",
        "else:\n",
        "    # Para casos no binarios, es común calcular las métricas para cada clase\n",
        "    print('Precision:', precision_score(y_train, y_train_bow_predict, average = None))\n",
        "    print('Recall:', recall_score(y_train, y_train_bow_predict, average = None))\n",
        "    print('F1:', f1_score(y_train, y_train_bow_predict, average = None))"
      ]
    },
    {
      "cell_type": "code",
      "execution_count": 157,
      "metadata": {
        "id": "mArM8YApR3WQ"
      },
      "outputs": [
        {
          "name": "stdout",
          "output_type": "stream",
          "text": [
            "Precision: 0.8228105906313645\n",
            "Recall: 0.808\n",
            "F1: 0.8153380423814329\n"
          ]
        }
      ],
      "source": [
        "if len(bow_model.classes_) == 2:\n",
        "    print('Precision:', precision_score(y_test, y_test_bow_predict, pos_label = 1))\n",
        "    print('Recall:', recall_score(y_test, y_test_bow_predict, pos_label = 1))\n",
        "    print('F1:', f1_score(y_test, y_test_bow_predict, pos_label = 1))\n",
        "else:\n",
        "    # Para casos no binarios, es común calcular las métricas para cada clase\n",
        "    print('Precision:', precision_score(y_test, y_test_bow_predict, average = None))\n",
        "    print('Recall:', recall_score(y_test, y_test_bow_predict, average = None))\n",
        "    print('F1:', f1_score(y_test, y_test_bow_predict, average = None))"
      ]
    },
    {
      "cell_type": "markdown",
      "metadata": {
        "id": "GQ3wU2NBPP9y"
      },
      "source": [
        "# Metodo 3: Random Forest"
      ]
    },
    {
      "cell_type": "markdown",
      "metadata": {
        "id": "xVz-Y5kvTck2"
      },
      "source": [
        "Juan Ricardo Diaz - 201922167"
      ]
    },
    {
      "cell_type": "code",
      "execution_count": 158,
      "metadata": {
        "id": "SEcXxFZsKin2"
      },
      "outputs": [],
      "source": [
        "forest_model = RandomForestClassifier(random_state = 2)"
      ]
    },
    {
      "cell_type": "code",
      "execution_count": 159,
      "metadata": {
        "id": "i8fiqNDITizx"
      },
      "outputs": [],
      "source": [
        "param_grid = {\n",
        "    'n_estimators': [50, 100, 150, 200],\n",
        "    'criterion': ['gini', 'entropy'],\n",
        "    'max_depth': [4, 5, 6], # Utilizamos alturas mucho más bajas ya gracias a que usamos \"Bagging\"\n",
        "    'min_samples_split': [2, 3, 4, 5]\n",
        "}"
      ]
    },
    {
      "cell_type": "code",
      "execution_count": 160,
      "metadata": {
        "id": "LZCYE0aHTzZM"
      },
      "outputs": [
        {
          "name": "stdout",
          "output_type": "stream",
          "text": [
            "Total de combinaciones a validar: 96\n"
          ]
        }
      ],
      "source": [
        "combinations = 1\n",
        "for k, v in param_grid.items():\n",
        "    combinations *= len(v)\n",
        "\n",
        "print('Total de combinaciones a validar:', combinations)"
      ]
    },
    {
      "cell_type": "markdown",
      "metadata": {
        "id": "3tU-At9hUCta"
      },
      "source": [
        "Como mencioné antes, vamos a tomar en cuenta únicamente el 50% de las combinaciones totales"
      ]
    },
    {
      "cell_type": "code",
      "execution_count": 161,
      "metadata": {
        "id": "KOMbM7DnUJvG"
      },
      "outputs": [],
      "source": [
        "# En este caso se decide buscar solo sobre el ~33% de las combinaciones\n",
        "grid_forest_model = RandomizedSearchCV(forest_model, param_grid, n_iter = int(combinations / 2), scoring = ['precision', 'recall', 'f1'], refit = 'f1', cv = 10, n_jobs = -1, verbose = 1)"
      ]
    },
    {
      "cell_type": "code",
      "execution_count": 162,
      "metadata": {
        "id": "6JXEawMzURcD"
      },
      "outputs": [
        {
          "name": "stdout",
          "output_type": "stream",
          "text": [
            "Fitting 10 folds for each of 48 candidates, totalling 480 fits\n"
          ]
        },
        {
          "data": {
            "text/plain": [
              "RandomizedSearchCV(cv=10, estimator=RandomForestClassifier(random_state=2),\n",
              "                   n_iter=48, n_jobs=-1,\n",
              "                   param_distributions={'criterion': ['gini', 'entropy'],\n",
              "                                        'max_depth': [4, 5, 6],\n",
              "                                        'min_samples_split': [2, 3, 4, 5],\n",
              "                                        'n_estimators': [50, 100, 150, 200]},\n",
              "                   refit='f1', scoring=['precision', 'recall', 'f1'],\n",
              "                   verbose=1)"
            ]
          },
          "execution_count": 162,
          "metadata": {},
          "output_type": "execute_result"
        }
      ],
      "source": [
        "grid_forest_model.fit(X_bow, y_train)"
      ]
    },
    {
      "cell_type": "code",
      "execution_count": 163,
      "metadata": {
        "id": "ZTQpuc7MWsVp"
      },
      "outputs": [],
      "source": [
        "cv_results_df = pd.DataFrame(grid_forest_model.cv_results_)"
      ]
    },
    {
      "cell_type": "code",
      "execution_count": 164,
      "metadata": {
        "id": "1WPS3e51WzL0"
      },
      "outputs": [
        {
          "data": {
            "text/html": [
              "<div>\n",
              "<style scoped>\n",
              "    .dataframe tbody tr th:only-of-type {\n",
              "        vertical-align: middle;\n",
              "    }\n",
              "\n",
              "    .dataframe tbody tr th {\n",
              "        vertical-align: top;\n",
              "    }\n",
              "\n",
              "    .dataframe thead th {\n",
              "        text-align: right;\n",
              "    }\n",
              "</style>\n",
              "<table border=\"1\" class=\"dataframe\">\n",
              "  <thead>\n",
              "    <tr style=\"text-align: right;\">\n",
              "      <th></th>\n",
              "      <th>mean_fit_time</th>\n",
              "      <th>std_fit_time</th>\n",
              "      <th>mean_score_time</th>\n",
              "      <th>std_score_time</th>\n",
              "      <th>param_n_estimators</th>\n",
              "      <th>param_min_samples_split</th>\n",
              "      <th>param_max_depth</th>\n",
              "      <th>param_criterion</th>\n",
              "      <th>params</th>\n",
              "      <th>split0_test_precision</th>\n",
              "      <th>...</th>\n",
              "      <th>split3_test_f1</th>\n",
              "      <th>split4_test_f1</th>\n",
              "      <th>split5_test_f1</th>\n",
              "      <th>split6_test_f1</th>\n",
              "      <th>split7_test_f1</th>\n",
              "      <th>split8_test_f1</th>\n",
              "      <th>split9_test_f1</th>\n",
              "      <th>mean_test_f1</th>\n",
              "      <th>std_test_f1</th>\n",
              "      <th>rank_test_f1</th>\n",
              "    </tr>\n",
              "  </thead>\n",
              "  <tbody>\n",
              "    <tr>\n",
              "      <th>0</th>\n",
              "      <td>0.283655</td>\n",
              "      <td>0.027962</td>\n",
              "      <td>0.017448</td>\n",
              "      <td>0.003695</td>\n",
              "      <td>100</td>\n",
              "      <td>4</td>\n",
              "      <td>5</td>\n",
              "      <td>entropy</td>\n",
              "      <td>{'n_estimators': 100, 'min_samples_split': 4, 'max_depth': 5, 'criterion': 'entropy'}</td>\n",
              "      <td>0.737069</td>\n",
              "      <td>...</td>\n",
              "      <td>0.799054</td>\n",
              "      <td>0.782201</td>\n",
              "      <td>0.810427</td>\n",
              "      <td>0.771930</td>\n",
              "      <td>0.788512</td>\n",
              "      <td>0.760291</td>\n",
              "      <td>0.780142</td>\n",
              "      <td>0.786256</td>\n",
              "      <td>0.013886</td>\n",
              "      <td>26</td>\n",
              "    </tr>\n",
              "    <tr>\n",
              "      <th>1</th>\n",
              "      <td>0.466948</td>\n",
              "      <td>0.028253</td>\n",
              "      <td>0.026963</td>\n",
              "      <td>0.007055</td>\n",
              "      <td>200</td>\n",
              "      <td>2</td>\n",
              "      <td>4</td>\n",
              "      <td>entropy</td>\n",
              "      <td>{'n_estimators': 200, 'min_samples_split': 2, 'max_depth': 4, 'criterion': 'entropy'}</td>\n",
              "      <td>0.740088</td>\n",
              "      <td>...</td>\n",
              "      <td>0.816038</td>\n",
              "      <td>0.799076</td>\n",
              "      <td>0.816901</td>\n",
              "      <td>0.782178</td>\n",
              "      <td>0.782828</td>\n",
              "      <td>0.792453</td>\n",
              "      <td>0.775414</td>\n",
              "      <td>0.794617</td>\n",
              "      <td>0.013158</td>\n",
              "      <td>13</td>\n",
              "    </tr>\n",
              "    <tr>\n",
              "      <th>2</th>\n",
              "      <td>0.475049</td>\n",
              "      <td>0.031858</td>\n",
              "      <td>0.022257</td>\n",
              "      <td>0.002089</td>\n",
              "      <td>200</td>\n",
              "      <td>5</td>\n",
              "      <td>6</td>\n",
              "      <td>gini</td>\n",
              "      <td>{'n_estimators': 200, 'min_samples_split': 5, 'max_depth': 6, 'criterion': 'gini'}</td>\n",
              "      <td>0.751073</td>\n",
              "      <td>...</td>\n",
              "      <td>0.826087</td>\n",
              "      <td>0.765258</td>\n",
              "      <td>0.806604</td>\n",
              "      <td>0.804938</td>\n",
              "      <td>0.824390</td>\n",
              "      <td>0.780952</td>\n",
              "      <td>0.780952</td>\n",
              "      <td>0.801519</td>\n",
              "      <td>0.019155</td>\n",
              "      <td>1</td>\n",
              "    </tr>\n",
              "    <tr>\n",
              "      <th>3</th>\n",
              "      <td>0.383078</td>\n",
              "      <td>0.025082</td>\n",
              "      <td>0.028157</td>\n",
              "      <td>0.007628</td>\n",
              "      <td>200</td>\n",
              "      <td>5</td>\n",
              "      <td>4</td>\n",
              "      <td>gini</td>\n",
              "      <td>{'n_estimators': 200, 'min_samples_split': 5, 'max_depth': 4, 'criterion': 'gini'}</td>\n",
              "      <td>0.715481</td>\n",
              "      <td>...</td>\n",
              "      <td>0.819905</td>\n",
              "      <td>0.787037</td>\n",
              "      <td>0.836449</td>\n",
              "      <td>0.758105</td>\n",
              "      <td>0.800000</td>\n",
              "      <td>0.781991</td>\n",
              "      <td>0.765957</td>\n",
              "      <td>0.793386</td>\n",
              "      <td>0.022745</td>\n",
              "      <td>17</td>\n",
              "    </tr>\n",
              "    <tr>\n",
              "      <th>4</th>\n",
              "      <td>0.325474</td>\n",
              "      <td>0.029345</td>\n",
              "      <td>0.019273</td>\n",
              "      <td>0.004658</td>\n",
              "      <td>150</td>\n",
              "      <td>5</td>\n",
              "      <td>5</td>\n",
              "      <td>gini</td>\n",
              "      <td>{'n_estimators': 150, 'min_samples_split': 5, 'max_depth': 5, 'criterion': 'gini'}</td>\n",
              "      <td>0.725000</td>\n",
              "      <td>...</td>\n",
              "      <td>0.811736</td>\n",
              "      <td>0.767059</td>\n",
              "      <td>0.801909</td>\n",
              "      <td>0.773869</td>\n",
              "      <td>0.811881</td>\n",
              "      <td>0.762590</td>\n",
              "      <td>0.801865</td>\n",
              "      <td>0.793708</td>\n",
              "      <td>0.020038</td>\n",
              "      <td>16</td>\n",
              "    </tr>\n",
              "  </tbody>\n",
              "</table>\n",
              "<p>5 rows × 48 columns</p>\n",
              "</div>"
            ],
            "text/plain": [
              "   mean_fit_time  std_fit_time  mean_score_time  std_score_time  \\\n",
              "0       0.283655      0.027962         0.017448        0.003695   \n",
              "1       0.466948      0.028253         0.026963        0.007055   \n",
              "2       0.475049      0.031858         0.022257        0.002089   \n",
              "3       0.383078      0.025082         0.028157        0.007628   \n",
              "4       0.325474      0.029345         0.019273        0.004658   \n",
              "\n",
              "  param_n_estimators param_min_samples_split param_max_depth param_criterion  \\\n",
              "0                100                       4               5         entropy   \n",
              "1                200                       2               4         entropy   \n",
              "2                200                       5               6            gini   \n",
              "3                200                       5               4            gini   \n",
              "4                150                       5               5            gini   \n",
              "\n",
              "                                                                                  params  \\\n",
              "0  {'n_estimators': 100, 'min_samples_split': 4, 'max_depth': 5, 'criterion': 'entropy'}   \n",
              "1  {'n_estimators': 200, 'min_samples_split': 2, 'max_depth': 4, 'criterion': 'entropy'}   \n",
              "2     {'n_estimators': 200, 'min_samples_split': 5, 'max_depth': 6, 'criterion': 'gini'}   \n",
              "3     {'n_estimators': 200, 'min_samples_split': 5, 'max_depth': 4, 'criterion': 'gini'}   \n",
              "4     {'n_estimators': 150, 'min_samples_split': 5, 'max_depth': 5, 'criterion': 'gini'}   \n",
              "\n",
              "   split0_test_precision  ...  split3_test_f1  split4_test_f1  split5_test_f1  \\\n",
              "0               0.737069  ...        0.799054        0.782201        0.810427   \n",
              "1               0.740088  ...        0.816038        0.799076        0.816901   \n",
              "2               0.751073  ...        0.826087        0.765258        0.806604   \n",
              "3               0.715481  ...        0.819905        0.787037        0.836449   \n",
              "4               0.725000  ...        0.811736        0.767059        0.801909   \n",
              "\n",
              "   split6_test_f1  split7_test_f1  split8_test_f1  split9_test_f1  \\\n",
              "0        0.771930        0.788512        0.760291        0.780142   \n",
              "1        0.782178        0.782828        0.792453        0.775414   \n",
              "2        0.804938        0.824390        0.780952        0.780952   \n",
              "3        0.758105        0.800000        0.781991        0.765957   \n",
              "4        0.773869        0.811881        0.762590        0.801865   \n",
              "\n",
              "   mean_test_f1  std_test_f1  rank_test_f1  \n",
              "0      0.786256     0.013886            26  \n",
              "1      0.794617     0.013158            13  \n",
              "2      0.801519     0.019155             1  \n",
              "3      0.793386     0.022745            17  \n",
              "4      0.793708     0.020038            16  \n",
              "\n",
              "[5 rows x 48 columns]"
            ]
          },
          "execution_count": 164,
          "metadata": {},
          "output_type": "execute_result"
        }
      ],
      "source": [
        "cv_results_df.head()"
      ]
    },
    {
      "cell_type": "code",
      "execution_count": 165,
      "metadata": {
        "id": "c2BeSWeHW1B2"
      },
      "outputs": [
        {
          "data": {
            "text/plain": [
              "{'n_estimators': 200,\n",
              " 'min_samples_split': 5,\n",
              " 'max_depth': 6,\n",
              " 'criterion': 'gini'}"
            ]
          },
          "execution_count": 165,
          "metadata": {},
          "output_type": "execute_result"
        }
      ],
      "source": [
        "grid_forest_model.best_params_"
      ]
    },
    {
      "cell_type": "code",
      "execution_count": 166,
      "metadata": {
        "id": "tbt8yOURXDFH"
      },
      "outputs": [
        {
          "data": {
            "text/plain": [
              "0.80151877203947"
            ]
          },
          "execution_count": 166,
          "metadata": {},
          "output_type": "execute_result"
        }
      ],
      "source": [
        "grid_forest_model.best_score_"
      ]
    },
    {
      "cell_type": "code",
      "execution_count": 167,
      "metadata": {
        "id": "uYe88Gy7XFP7"
      },
      "outputs": [],
      "source": [
        "best_forest_model_results_df = cv_results_df[[ c for c in cv_results_df.columns if 'split' in c][1:]].iloc[grid_forest_model.best_index_].reset_index()\n",
        "best_forest_model_results_df['split'], best_forest_model_results_df['set'], best_forest_model_results_df['metric'] = zip(*list(best_forest_model_results_df['index'].apply(lambda x: x.split('_'))))\n",
        "best_forest_model_results_df.rename(columns = {grid_forest_model.best_index_: 'value'}, inplace = True)\n",
        "best_forest_model_results_df.drop(columns = 'index', inplace = True)"
      ]
    },
    {
      "cell_type": "code",
      "execution_count": 168,
      "metadata": {
        "id": "sSPy4hxrXHiP"
      },
      "outputs": [
        {
          "data": {
            "text/plain": [
              "<AxesSubplot:xlabel='metric', ylabel='value'>"
            ]
          },
          "execution_count": 168,
          "metadata": {},
          "output_type": "execute_result"
        },
        {
          "data": {
            "image/png": "[encoded data removed]",
            "text/plain": [
              "<Figure size 720x504 with 1 Axes>"
            ]
          },
          "metadata": {
            "needs_background": "light"
          },
          "output_type": "display_data"
        }
      ],
      "source": [
        "plt.figure(figsize = (10, 7))\n",
        "sns.boxplot(x = 'metric', y = 'value', showmeans = True, data = best_forest_model_results_df)"
      ]
    },
    {
      "cell_type": "code",
      "execution_count": 169,
      "metadata": {
        "id": "liJb8PmSXLAx"
      },
      "outputs": [],
      "source": [
        "preds_train = grid_forest_model.best_estimator_.predict(X_bow)\n",
        "preds_test = grid_forest_model.best_estimator_.predict(bow.transform(X_test))"
      ]
    },
    {
      "cell_type": "code",
      "execution_count": 170,
      "metadata": {
        "id": "QK_HBINeXlIl"
      },
      "outputs": [
        {
          "data": {
            "image/png": "[encoded data removed]",
            "text/plain": [
              "<Figure size 936x720 with 8 Axes>"
            ]
          },
          "metadata": {
            "needs_background": "light"
          },
          "output_type": "display_data"
        }
      ],
      "source": [
        "cm_train = confusion_matrix(y_train, preds_train, labels = grid_forest_model.best_estimator_.classes_)\n",
        "cm_train_norm = confusion_matrix(y_train, preds_train, labels = grid_forest_model.best_estimator_.classes_, normalize = 'true')\n",
        "cm_test = confusion_matrix(y_test, preds_test, labels = grid_forest_model.best_estimator_.classes_)\n",
        "cm_test_norm = confusion_matrix(y_test, preds_test, labels = grid_forest_model.best_estimator_.classes_, normalize = 'true')\n",
        "\n",
        "fig, ((ax1, ax2), (ax3, ax4)) = plt.subplots(2, 2, figsize = (13, 10))\n",
        "ConfusionMatrixDisplay(confusion_matrix = cm_train, display_labels = grid_forest_model.best_estimator_.classes_).plot(ax = ax1, values_format = ',.0f')\n",
        "ConfusionMatrixDisplay(confusion_matrix = cm_train_norm, display_labels = grid_forest_model.best_estimator_.classes_).plot(ax = ax2, values_format = '.3f')\n",
        "ConfusionMatrixDisplay(confusion_matrix = cm_test, display_labels = grid_forest_model.best_estimator_.classes_).plot(ax = ax3, values_format = ',.0f')\n",
        "ConfusionMatrixDisplay(confusion_matrix = cm_test_norm, display_labels = grid_forest_model.best_estimator_.classes_).plot(ax = ax4, values_format = '.3f')\n",
        "\n",
        "ax1.set_title('Train+Val')\n",
        "ax2.set_title('Train+Val (normalized)')\n",
        "ax3.set_title('Test')\n",
        "ax4.set_title('Test (normalized)')\n",
        "plt.show()"
      ]
    },
    {
      "cell_type": "code",
      "execution_count": 171,
      "metadata": {
        "id": "kZifx_gCZRS7"
      },
      "outputs": [
        {
          "data": {
            "text/html": [
              "<div>\n",
              "<style scoped>\n",
              "    .dataframe tbody tr th:only-of-type {\n",
              "        vertical-align: middle;\n",
              "    }\n",
              "\n",
              "    .dataframe tbody tr th {\n",
              "        vertical-align: top;\n",
              "    }\n",
              "\n",
              "    .dataframe thead th {\n",
              "        text-align: right;\n",
              "    }\n",
              "</style>\n",
              "<table border=\"1\" class=\"dataframe\">\n",
              "  <thead>\n",
              "    <tr style=\"text-align: right;\">\n",
              "      <th></th>\n",
              "      <th>Train+Val</th>\n",
              "      <th>Test</th>\n",
              "    </tr>\n",
              "  </thead>\n",
              "  <tbody>\n",
              "    <tr>\n",
              "      <th>Accuracy</th>\n",
              "      <td>0.879250</td>\n",
              "      <td>0.809000</td>\n",
              "    </tr>\n",
              "    <tr>\n",
              "      <th>Precision</th>\n",
              "      <td>0.850023</td>\n",
              "      <td>0.787709</td>\n",
              "    </tr>\n",
              "    <tr>\n",
              "      <th>Recall</th>\n",
              "      <td>0.921000</td>\n",
              "      <td>0.846000</td>\n",
              "    </tr>\n",
              "    <tr>\n",
              "      <th>F1</th>\n",
              "      <td>0.884089</td>\n",
              "      <td>0.815815</td>\n",
              "    </tr>\n",
              "  </tbody>\n",
              "</table>\n",
              "</div>"
            ],
            "text/plain": [
              "           Train+Val      Test\n",
              "Accuracy    0.879250  0.809000\n",
              "Precision   0.850023  0.787709\n",
              "Recall      0.921000  0.846000\n",
              "F1          0.884089  0.815815"
            ]
          },
          "execution_count": 171,
          "metadata": {},
          "output_type": "execute_result"
        }
      ],
      "source": [
        "pd.DataFrame([\n",
        "    {\n",
        "        'Train+Val': accuracy_score(y_train, preds_train),\n",
        "        'Test': accuracy_score(y_test, preds_test)\n",
        "    },\n",
        "    {\n",
        "        'Train+Val': precision_score(y_train, preds_train),\n",
        "        'Test': precision_score(y_test, preds_test)\n",
        "    },\n",
        "    {\n",
        "        'Train+Val': recall_score(y_train, preds_train),\n",
        "        'Test': recall_score(y_test, preds_test)\n",
        "    },\n",
        "    {\n",
        "        'Train+Val': f1_score(y_train, preds_train),\n",
        "        'Test': f1_score(y_test, preds_test)\n",
        "    }\n",
        "], index = ['Accuracy', 'Precision', 'Recall', 'F1'])"
      ]
    },
    {
      "cell_type": "markdown",
      "metadata": {
        "id": "gRPk43VBe4Qa"
      },
      "source": [
        "# Pipeline Creation"
      ]
    },
    {
      "cell_type": "code",
      "execution_count": 172,
      "metadata": {
        "id": "HA5rO7_tiwKR"
      },
      "outputs": [],
      "source": [
        "from joblib import dump, load\n",
        "from sklearn.pipeline import Pipeline\n",
        "import nltk\n",
        "from nltk.corpus import stopwords\n",
        "from nltk.tokenize import TweetTokenizer\n",
        "from sklearn.pipeline import Pipeline\n",
        "from sklearn.feature_extraction.text import CountVectorizer\n",
        "from sklearn.ensemble import RandomForestClassifier\n",
        "from nltk.corpus import stopwords\n",
        "from nltk.tokenize import word_tokenize\n",
        "import nltk"
      ]
    },
    {
      "cell_type": "code",
      "execution_count": 173,
      "metadata": {
        "id": "q0nlbVJoe59Q"
      },
      "outputs": [
        {
          "name": "stderr",
          "output_type": "stream",
          "text": [
            "[nltk_data] Downloading package stopwords to /Users/pipe/nltk_data...\n",
            "[nltk_data]   Package stopwords is already up-to-date!\n"
          ]
        },
        {
          "data": {
            "text/plain": [
              "['modelo.joblib']"
            ]
          },
          "execution_count": 173,
          "metadata": {},
          "output_type": "execute_result"
        }
      ],
      "source": [
        "# Descargando las stopwords\n",
        "nltk.download('stopwords')\n",
        "stop_words = set(stopwords.words('spanish'))\n",
        "\n",
        "# Función para tokenizar los tweets\n",
        "def tokenizer(text):\n",
        "    tt = TweetTokenizer()\n",
        "    return tt.tokenize(text)\n",
        "\n",
        "pipeline = Pipeline(\n",
        "    [\n",
        "    ('vectorizer', CountVectorizer(tokenizer=tokenizer, stop_words=stop_words, lowercase=True)),\n",
        "\n",
        "    ]\n",
        ")\n",
        "\n",
        "pipe = pipeline.fit(X_train, y_train)\n",
        "\n",
        "dump(pipe, 'modelo.joblib')"
      ]
    },
    {
      "cell_type": "code",
      "execution_count": 181,
      "metadata": {},
      "outputs": [
        {
          "name": "stdout",
          "output_type": "stream",
          "text": [
            "1.1.0\n"
          ]
        }
      ],
      "source": [
        "import joblib as jb\n",
        "print(jb.__version__)"
      ]
    },
    {
      "attachments": {},
      "cell_type": "markdown",
      "metadata": {},
      "source": [
        "Ahora probemos que el joblib quedo bien"
      ]
    },
    {
      "cell_type": "code",
      "execution_count": 182,
      "metadata": {},
      "outputs": [
        {
          "name": "stdout",
          "output_type": "stream",
          "text": [
            "Accuracy: 0.83\n",
            "Precision: 0.81\n",
            "Recall: 0.86\n",
            "F1-Score: 0.83\n"
          ]
        }
      ],
      "source": [
        "import joblib\n",
        "from sklearn.metrics import accuracy_score, precision_score, recall_score, f1_score\n",
        "\n",
        "# load the trained joblib model\n",
        "model = joblib.load('/Users/pipe/Desktop/GitHub/BI/Etapa 2/modelo.joblib')\n",
        "\n",
        "# make predictions on the test dataset\n",
        "y_pred = model.predict(X_test)d\n",
        "\n",
        "# evaluate the performance of the model\n",
        "accuracy = accuracy_score(y_test, y_pred)\n",
        "precision = precision_score(y_test, y_pred)\n",
        "recall = recall_score(y_test, y_pred)\n",
        "f1 = f1_score(y_test, y_pred)\n",
        "\n",
        "print('Accuracy: {:.2f}'.format(accuracy))\n",
        "print('Precision: {:.2f}'.format(precision))\n",
        "print('Recall: {:.2f}'.format(recall))\n",
        "print('F1-Score: {:.2f}'.format(f1))\n"
      ]
    },
    {
      "cell_type": "code",
      "execution_count": 192,
      "metadata": {},
      "outputs": [
        {
          "name": "stdout",
          "output_type": "stream",
          "text": [
            "Index(['Unnamed: 0', 'review_es'], dtype='object')\n"
          ]
        }
      ],
      "source": [
        "import joblib\n",
        "\n",
        "# load the trained joblib model\n",
        "model2 = joblib.load('/Users/pipe/Desktop/GitHub/BI/Etapa 2/modelo.joblib')\n",
        "\n",
        "tweets_df2 = pd.read_csv('/Users/pipe/Downloads/PeliculasRevisiones/MovieReviewsPruebas.csv', sep = ',')\n",
        "print(tweets_df2.columns)\n",
        "data2 = tweets_df2['review_es']\n",
        "\n",
        "# make predictions on the test dataset\n",
        "pred = model2.predict(data2)\n"
      ]
    },
    {
      "cell_type": "code",
      "execution_count": 193,
      "metadata": {},
      "outputs": [
        {
          "data": {
            "text/plain": [
              "array([1, 1, 1, 1, 1, 0, 1, 1, 1, 1, 1, 1, 1, 1, 1, 1, 0, 0, 1, 1, 1, 1,\n",
              "       1, 1, 1, 0, 1, 1, 1, 1, 1, 1, 0, 1, 1, 1, 1, 0, 1, 1, 0, 1, 1, 1,\n",
              "       1, 1, 1, 1, 0, 1, 1, 1, 1, 0, 1, 1, 1, 1, 1, 1, 1, 1, 1, 1, 0, 1,\n",
              "       1, 1, 1, 0, 1, 1, 1, 1, 1, 1, 0, 1, 0, 1, 1, 1, 0, 1, 1, 1, 1, 1,\n",
              "       1, 0, 1, 1, 1, 1, 1, 1, 1, 1, 1, 1, 1, 0, 1, 1, 1, 1, 1, 1, 1, 1,\n",
              "       1, 1, 0, 1, 1, 1, 1, 0, 1, 1, 1, 1, 1, 1, 1, 1, 1, 1, 1, 1, 1, 1,\n",
              "       0, 1, 1, 1, 1, 0, 1, 1, 1, 1, 1, 1, 0, 0, 1, 1, 1, 1, 0, 0, 0, 0,\n",
              "       0, 0, 1, 0, 1, 1, 0, 1, 0, 0, 0, 0, 1, 1, 1, 0, 0, 1, 0, 0, 1, 0,\n",
              "       0, 0, 1, 0, 0, 1, 0, 1, 0, 1, 1, 0, 1, 0, 0, 0, 0, 0, 0, 0, 1, 1,\n",
              "       0, 0, 0, 0, 0, 0, 1, 0, 0, 0, 0, 0, 0, 1, 1, 1, 0, 0, 1, 0, 0, 0,\n",
              "       1, 0, 0, 1, 0, 0, 0, 0, 0, 0, 0, 0, 0, 0, 0, 1, 0, 1, 0, 0, 0, 0,\n",
              "       1, 0, 0, 0, 0, 0, 1, 0, 0, 1, 0, 0, 0, 0, 0, 1, 0, 1, 0, 0, 1, 0,\n",
              "       0, 0, 1, 0, 1, 1, 1, 1, 0, 0, 1, 0, 0, 0, 0, 1, 0, 0, 0, 1, 0, 0,\n",
              "       0, 0, 1, 0, 0, 0, 0, 0, 0, 0, 1, 1, 1, 0])"
            ]
          },
          "execution_count": 193,
          "metadata": {},
          "output_type": "execute_result"
        }
      ],
      "source": [
        "pred"
      ]
    },
    {
      "cell_type": "code",
      "execution_count": 188,
      "metadata": {},
      "outputs": [],
      "source": [
        "class Model:\n",
        "\n",
        "    def __init__(self):\n",
        "        self.model = None\n",
        "        # Descargando las stopwords\n",
        "        nltk.download('stopwords')\n",
        "        stop_words = set(stopwords.words('spanish'))\n",
        "\n",
        "    def make_predictions(self, data):\n",
        "        model = joblib.load('/Users/pipe/Desktop/GitHub/BI/Etapa 2/modelo.joblib')\n",
        "        pred = model.predict(data)\n",
        "        return pred\n",
        "\n",
        "# Función para tokenizar los tweets\n",
        "def tokenizer(text):\n",
        "    tt = TweetTokenizer()\n",
        "    return tt.tokenize(text) "
      ]
    },
    {
      "cell_type": "code",
      "execution_count": 189,
      "metadata": {},
      "outputs": [
        {
          "name": "stderr",
          "output_type": "stream",
          "text": [
            "[nltk_data] Downloading package stopwords to /Users/pipe/nltk_data...\n",
            "[nltk_data]   Package stopwords is already up-to-date!\n"
          ]
        },
        {
          "name": "stdout",
          "output_type": "stream",
          "text": [
            "[1 1 1 1 1 0 1 1 1 1 1 1 1 1 1 1 0 0 1 1 1 1 1 1 1 0 1 1 1 1 1 1 0 1 1 1 1\n",
            " 0 1 1 0 1 1 1 1 1 1 1 0 1 1 1 1 0 1 1 1 1 1 1 1 1 1 1 0 1 1 1 1 0 1 1 1 1\n",
            " 1 1 0 1 0 1 1 1 0 1 1 1 1 1 1 0 1 1 1 1 1 1 1 1 1 1 1 0 1 1 1 1 1 1 1 1 1\n",
            " 1 0 1 1 1 1 0 1 1 1 1 1 1 1 1 1 1 1 1 1 1 0 1 1 1 1 0 1 1 1 1 1 1 0 0 1 1\n",
            " 1 1 0 0 0 0 0 0 1 0 1 1 0 1 0 0 0 0 1 1 1 0 0 1 0 0 1 0 0 0 1 0 0 1 0 1 0\n",
            " 1 1 0 1 0 0 0 0 0 0 0 1 1 0 0 0 0 0 0 1 0 0 0 0 0 0 1 1 1 0 0 1 0 0 0 1 0\n",
            " 0 1 0 0 0 0 0 0 0 0 0 0 0 1 0 1 0 0 0 0 1 0 0 0 0 0 1 0 0 1 0 0 0 0 0 1 0\n",
            " 1 0 0 1 0 0 0 1 0 1 1 1 1 0 0 1 0 0 0 0 1 0 0 0 1 0 0 0 0 1 0 0 0 0 0 0 0\n",
            " 1 1 1 0]\n"
          ]
        }
      ],
      "source": [
        "model = Model()\n",
        "\n",
        "tweets_df = pd.read_csv('/Users/pipe/Downloads/PeliculasRevisiones/MovieReviewsPruebas.csv', sep = ',')\n",
        "data = tweets_df['review_es']\n",
        "\n",
        "pred = model.make_predictions(data)\n",
        "print(pred)"
      ]
    }
  ],
  "metadata": {
    "colab": {
      "collapsed_sections": [
        "i66s_iKNErEt",
        "iUjq05ziJ6P5",
        "hO4mNm_fG_7X",
        "wRqtq1zNPJpr",
        "tB75LnU3PNu2"
      ],
      "provenance": []
    },
    "kernelspec": {
      "display_name": "Python 3",
      "name": "python3"
    },
    "language_info": {
      "codemirror_mode": {
        "name": "ipython",
        "version": 3
      },
      "file_extension": ".py",
      "mimetype": "text/x-python",
      "name": "python",
      "nbconvert_exporter": "python",
      "pygments_lexer": "ipython3",
      "version": "3.9.12"
    }
  },
  "nbformat": 4,
  "nbformat_minor": 0
}
