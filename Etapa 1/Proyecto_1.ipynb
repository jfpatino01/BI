{
  "nbformat": 4,
  "nbformat_minor": 0,
  "metadata": {
    "colab": {
      "provenance": [],
      "collapsed_sections": [
        "OAs8LeOUnEMP",
        "buZb9lcVnatg",
        "reAJpchGn7Mo",
        "IWeyR_VXpgQz",
        "9sUMg_FutpKp",
        "i66s_iKNErEt"
      ]
    },
    "kernelspec": {
      "name": "python3",
      "display_name": "Python 3"
    },
    "language_info": {
      "name": "python"
    }
  },
  "cells": [
    {
      "cell_type": "markdown",
      "source": [
        "Proyecto 1 BI\n",
        "Tema: Datos Peliculas"
      ],
      "metadata": {
        "id": "NH_j9_nQbIEN"
      }
    },
    {
      "cell_type": "markdown",
      "source": [
        "# Librerias"
      ],
      "metadata": {
        "id": "7JNTJIJBnEfX"
      }
    },
    {
      "cell_type": "code",
      "execution_count": 1,
      "metadata": {
        "id": "u8Tb0mY0YV5w"
      },
      "outputs": [],
      "source": [
        "import string\n",
        "\n",
        "import numpy as np\n",
        "import pandas as pd\n",
        "\n",
        "import nltk\n",
        "from nltk.corpus import stopwords\n",
        "from nltk.tokenize import TweetTokenizer\n",
        "\n",
        "from sklearn.model_selection import train_test_split\n",
        "from sklearn.feature_extraction.text import CountVectorizer, TfidfVectorizer\n",
        "\n",
        "from sklearn.ensemble import RandomForestClassifier\n",
        "\n",
        "from sklearn.pipeline import Pipeline\n",
        "from sklearn.model_selection import GridSearchCV\n",
        "\n",
        "from sklearn.metrics import ConfusionMatrixDisplay, precision_score, recall_score, f1_score\n",
        "\n",
        "import pickle\n",
        "\n",
        "import numpy as np\n",
        "import pandas as pd\n",
        "\n",
        "from sklearn.model_selection import train_test_split, GridSearchCV, RandomizedSearchCV\n",
        "from sklearn.preprocessing import StandardScaler\n",
        "from sklearn.neighbors import KNeighborsClassifier\n",
        "from sklearn.tree import DecisionTreeClassifier\n",
        "from sklearn.ensemble import RandomForestClassifier\n",
        "from sklearn.metrics import accuracy_score, confusion_matrix, ConfusionMatrixDisplay, precision_score, recall_score, f1_score\n",
        "from sklearn import tree\n",
        "\n",
        "import matplotlib.pyplot as plt\n",
        "import seaborn as sns"
      ]
    },
    {
      "cell_type": "markdown",
      "source": [
        "# Set Up Inicial"
      ],
      "metadata": {
        "id": "OAs8LeOUnEMP"
      }
    },
    {
      "cell_type": "code",
      "source": [
        "pd.set_option('display.max_colwidth', None)"
      ],
      "metadata": {
        "id": "pTb900uUm7xC"
      },
      "execution_count": 2,
      "outputs": []
    },
    {
      "cell_type": "code",
      "source": [
        "# Descargando las stopwords\n",
        "nltk.download('stopwords')\n",
        "stop_words = set(stopwords.words('spanish'))"
      ],
      "metadata": {
        "colab": {
          "base_uri": "https://localhost:8080/"
        },
        "id": "v7LRz1cQm7zh",
        "outputId": "2c1a0f70-5a79-4d66-effb-a71d36643146"
      },
      "execution_count": 3,
      "outputs": [
        {
          "output_type": "stream",
          "name": "stderr",
          "text": [
            "[nltk_data] Downloading package stopwords to /root/nltk_data...\n",
            "[nltk_data]   Unzipping corpora/stopwords.zip.\n"
          ]
        }
      ]
    },
    {
      "cell_type": "code",
      "source": [
        "# Función para tokenizar los tweets\n",
        "def tokenizer(text):\n",
        "    tt = TweetTokenizer()\n",
        "    return tt.tokenize(text)"
      ],
      "metadata": {
        "id": "pByHw_z7m71x"
      },
      "execution_count": 4,
      "outputs": []
    },
    {
      "cell_type": "markdown",
      "source": [
        "# Cargar Info"
      ],
      "metadata": {
        "id": "buZb9lcVnatg"
      }
    },
    {
      "cell_type": "code",
      "source": [
        "tweets_df = pd.read_csv('/content/MovieReviews.csv', sep = ',')"
      ],
      "metadata": {
        "id": "vN0EJL04m73_"
      },
      "execution_count": 6,
      "outputs": []
    },
    {
      "cell_type": "code",
      "source": [
        "tweets_df.shape"
      ],
      "metadata": {
        "colab": {
          "base_uri": "https://localhost:8080/"
        },
        "id": "gUxTpgY_m76L",
        "outputId": "c3d1bc2b-8b39-4d69-cc56-b31dfd9445a4"
      },
      "execution_count": 7,
      "outputs": [
        {
          "output_type": "execute_result",
          "data": {
            "text/plain": [
              "(5000, 3)"
            ]
          },
          "metadata": {},
          "execution_count": 7
        }
      ]
    },
    {
      "cell_type": "code",
      "source": [
        "tweets_df.sample(5)"
      ],
      "metadata": {
        "colab": {
          "base_uri": "https://localhost:8080/",
          "height": 1000
        },
        "id": "cXnRBxfDm78f",
        "outputId": "b3efb4ff-4c49-40ae-a41e-3f55f8196daa"
      },
      "execution_count": 8,
      "outputs": [
        {
          "output_type": "execute_result",
          "data": {
            "text/plain": [
              "      Unnamed: 0  \\\n",
              "2449        2449   \n",
              "3249        3249   \n",
              "1616        1616   \n",
              "1947        1947   \n",
              "162          162   \n",
              "\n",
              "                                                                                                                                                                                                                                                                                                                                                                                                                                                                                                                                                                                                                                                                                                                                                                                                                                                                                                                                                                                                                                                                                                                                                                                                                                                                                                                                                                                                                                                                                                                                                                                                                                                                                                                                                                                                                                                                                                                                                                                                                                                                                                                                                                                                                                                                                                                                                                                                                                                                                                                          review_es  \\\n",
              "2449  David Cronenberg, al igual que el colega David Lynch, es un gusto adquirido. Un director que juega con temas como la realidad, la perversión, el sexo, la locura y la muerte, está obligado a obtener las mejoras más extremas de las audiencias. Probó esto con las películas como la mosca, el almuerzo desnudo, el choque y Extentez (Capital X, Capital Z) y más recientemente, Spider. Es mejor ver a Existenz con una mente clara. Trate de no leer demasiado sobre la trama, o se arruinará para usted. Lo que puedo decirte es que Cronenberg te lleva a un viaje hacia el mundo de los videojuegos que actúa como una metáfora para cualquier tipo de comportamiento escapista. Living Out Fantasies es algo que la gente siempre sueña, pero ¿a qué distancia puede entrar en él, antes de que la realidad se vuelva borrosa y la fantasía se hace cargo y se convierte en una pesadilla? Esos son los temas tocados en existenz, una exploración de identidad, la psique humana, los cuerpos físicos que son invadidos por la enfermedad y lo más importante, la realidad misma. La historia y la dirección son excelentes. Cronenberg conoce a su comercio muy bien y tiene éxito a la vida un mundo artificial, evitando los escollos habituales y los clichés vinculados a historias como esta. La película muestra algunas cosas bastante repugnantes, pero es una clave inusualmente baja en el departamento de Gore en comparación con Cronenbergs Otro trabajo. Los efectos de choque que juega nunca están por encima y la progresión de la trama es muy inteligente y creativa. No es la película más intelectual de todos, pero te dejará pensar en ello, preguntándose y bastante confundido. La actuación también obtiene dos pulgares arriba. Tanto los protagonistas, Jennifer Jason Leigh y Jude Dery, juegan sus partes perfectamente e inteligentemente retratan los cambios e identidades cambiantes de su personaje. El diálogo puede parecer un poco estancado y clínico a veces, pero eso es parte del efecto que estaba iba a crear, crear una atmósfera no afectada y alienígena que lo pone en exceso. Apoyando a los actores como Ian Holm, Don McKellar y un Willem, especialmente espeluznante, Dafoe, levanta la película aún más alta con sus actuaciones inquietantemente familiares. Esta película lleva a los demás acostumbrarse, pero si puedes apreciar el tono oscuro, las imágenes de la sangre de la sangre y la historia de la deformación existencial. , te va a encantar.   \n",
              "3249                                                                                                                                                                                                                                                                                                                                                                                                                                                                                                    (Avast, leve spoilers por delante) Tengo esta cinta de mi biblioteca local, que mantiene una copia por razones obvias. Una vez fui a la ciudad de Matewan, Virginia Occidental, y en un pequeño museo, vi el horario para el teatro de la ciudad. CITRA MAYO DE 1954. Las películas cambiarían en el teatro cada día. Como no habría televisión por otra década aproximadamente en esas partes, este fue gran parte del entretenimiento disponible en la ciudad. \"El RAID\" parece haberse hecho para ciudades como Matewan en la década de 1950. Aunque no se cotizaba en la lista de ese mes, estoy seguro de que había un poco de lunes o martes por la noche para una audiencia que probablemente no era demasiado exigente. La incursión histórica, atrevida y notablemente exitosa, no parecía haber sido muy bien investigada, por lo que la película está llena de adornos de Hollywood, incluyendo un cañón suelto jugado por Lee Marvin. Marvin utiliza la oportunidad de practicar la libertad de libertad. Y St. Albans parece haber tenido más soldados de Yankee que vienen y pasan por la ciudad que Washington D.C.. ¿Qué realmente me hizo risificar fue cuando los asaltantes cambian a sus uniformes confederados? Solo en pinturas de guerra civil pegajosa, los uniformes rebeldes se ven tan prístinos. Cuando el hijo de Anne Bancroft atrapa a Van Heflin en su uniforme justo antes de la redada, esperaba que el niño creyera que era Halloween. Y luego está a sí misma Anne Bancroft. Mientras observaba la película, realmente miré al IMDB para ver si había un segundo Anne Bancroft. La actriz del contrato de entonces estudio no parece nada en sus películas posteriores, y no tiene ninguna de la presencia que más tarde tendría en \"el trabajador milagroso\", \"Agnes of God\", y, por supuesto, \"el graduado\". Vale la pena ver si solo 1 ). Vives en St. Albans y 2). Tienes un par de horas para matar en una ficción de Hollywood de la historia más grande de su ciudad de su casa.   \n",
              "1616                                                                                                                                                                                                                                                                                                                                                                                                                                                                                                                                                                                                                                                                                                                                                                                                                                                                                                                                                                                                                                                                                                                                                                                                        Mientras que las películas de Hayao Miyazaki siempre han sido golpeadas o extrañas conmigo con respecto a la historia, son inequívocamente hermosas al ojo, con personajes de la simple animación contra un fondo de imágenes artísticas. Ponyo se pega a esa fórmula, con un personaje de plomo tan adorable, quiero una muñeca de lujo de ella y el paisaje, así que bonita, no se vería fuera de lugar enmarque una imagen en una pared. La historia, por otro lado, no lo hice. No disfrutará tanto como sus dos últimas lanzamientos anchos, enérgicos y el castillo en movimiento de Howl. Era solo un poco de menor juvenil, apareciendo como más para los niños y dejando a los adultos solo disfrutar de la animación. También me decepcionó que la puntuación hecha por Joe Hisaishi, que también las puntuaciones para las dos películas mencionadas anteriormente, no era Casi tan memorable esta vez. Si bien no puedo recordar el puntaje de Howl, todavía recuerdo que es uno de los más hermosos que había escuchado. Ditto Spirited's, aunque solo recuerdo que es muy complementario a la película. Tal vez sea porque Ponyo es más tarifa juvenil que la puntuación no es tan inquietante. En cualquier caso, esta película sigue siendo una visita obligada para los fanáticos de anime o miyazaki.   \n",
              "1947                                                                                                                                                                                                                                                                                                                                                                                                                                                                                                                                                                                                                                                                                                                                                                                                                                                                                                                                                                                                                                                                                                                                                                                                                                                                                                                                                                                                                                                                                                                                                                                                             Excelente reparto, línea de historia, actuaciones.Totalmente creíble.Me doy cuenta del grupo de punto cerrado que ejemplifica el Cuerpo de Marines.Pero esta película trajo miedo a mi corazón.Los marines dejan que los principios sean condenados.Parece que esta película se basaba en incidentes de la vida real.Muestra lo difícil que es subir contra el establecimiento.Anne Heche fue absolutamente convincente.La representación de Sam Shepard de un Gung Ho Marine estaba sobrio.Y Eric Stoltz, como su abogado, fue tan decidido equilibrar su lealtad al CORP, sino también su lealtad a su cliente, mientras estaba en lo alto de su cuerda floja.Sabía cuál tenía que ser su verdadero curso de acción.Pero fue separado por su inmersión en la tradición marina, lealtad al cuerpo sobre todo lo demás.Me senté remachado a la pantalla de TV.En general, le doy a este un resonante 9 de cada 10.   \n",
              "162                                                                                                                                                                                                                                                                                                                                                                                                                                                                                                                                                                                                                                                                                                                                                                                                                                                                                                                                                                                                                                                                                                                                                                                                                                                                                                                                                                                                                                                                                                                                  This is a really great short from Hal Roach This is because of two main reasons: The littlest kids in the short are among the cutest to have ever been on film and the plot has so many funny and well-written elementsAs for the littlest of the Little Rascals, I honestly can't think of a cuter kid than Spanky at about age four Despite being a rather chubby and unattractive kid in later years, he was just precious here And, placing the little tiny boy in charge of babysitting the even younger kids was not only funny, but once again high on the cute factorAfter the older kids blackmail Spanky into doing this awful babysitting job, all kinds of funny mayhem breaks loose The gags are pretty effective and well-done for the time--with an accidental crank call involving a murder and a final scene where Spanky FINALLY gets control of the little ones being the most memorable I haven't seen these shorts in many decades and I am glad I gave this one a chance   \n",
              "\n",
              "     sentimiento  \n",
              "2449    positivo  \n",
              "3249    negativo  \n",
              "1616    positivo  \n",
              "1947    positivo  \n",
              "162     positivo  "
            ],
            "text/html": [
              "\n",
              "  <div id=\"df-ab4cdcc3-0a24-4179-86c8-1254339c0965\">\n",
              "    <div class=\"colab-df-container\">\n",
              "      <div>\n",
              "<style scoped>\n",
              "    .dataframe tbody tr th:only-of-type {\n",
              "        vertical-align: middle;\n",
              "    }\n",
              "\n",
              "    .dataframe tbody tr th {\n",
              "        vertical-align: top;\n",
              "    }\n",
              "\n",
              "    .dataframe thead th {\n",
              "        text-align: right;\n",
              "    }\n",
              "</style>\n",
              "<table border=\"1\" class=\"dataframe\">\n",
              "  <thead>\n",
              "    <tr style=\"text-align: right;\">\n",
              "      <th></th>\n",
              "      <th>Unnamed: 0</th>\n",
              "      <th>review_es</th>\n",
              "      <th>sentimiento</th>\n",
              "    </tr>\n",
              "  </thead>\n",
              "  <tbody>\n",
              "    <tr>\n",
              "      <th>2449</th>\n",
              "      <td>2449</td>\n",
              "      <td>David Cronenberg, al igual que el colega David Lynch, es un gusto adquirido. Un director que juega con temas como la realidad, la perversión, el sexo, la locura y la muerte, está obligado a obtener las mejoras más extremas de las audiencias. Probó esto con las películas como la mosca, el almuerzo desnudo, el choque y Extentez (Capital X, Capital Z) y más recientemente, Spider. Es mejor ver a Existenz con una mente clara. Trate de no leer demasiado sobre la trama, o se arruinará para usted. Lo que puedo decirte es que Cronenberg te lleva a un viaje hacia el mundo de los videojuegos que actúa como una metáfora para cualquier tipo de comportamiento escapista. Living Out Fantasies es algo que la gente siempre sueña, pero ¿a qué distancia puede entrar en él, antes de que la realidad se vuelva borrosa y la fantasía se hace cargo y se convierte en una pesadilla? Esos son los temas tocados en existenz, una exploración de identidad, la psique humana, los cuerpos físicos que son invadidos por la enfermedad y lo más importante, la realidad misma. La historia y la dirección son excelentes. Cronenberg conoce a su comercio muy bien y tiene éxito a la vida un mundo artificial, evitando los escollos habituales y los clichés vinculados a historias como esta. La película muestra algunas cosas bastante repugnantes, pero es una clave inusualmente baja en el departamento de Gore en comparación con Cronenbergs Otro trabajo. Los efectos de choque que juega nunca están por encima y la progresión de la trama es muy inteligente y creativa. No es la película más intelectual de todos, pero te dejará pensar en ello, preguntándose y bastante confundido. La actuación también obtiene dos pulgares arriba. Tanto los protagonistas, Jennifer Jason Leigh y Jude Dery, juegan sus partes perfectamente e inteligentemente retratan los cambios e identidades cambiantes de su personaje. El diálogo puede parecer un poco estancado y clínico a veces, pero eso es parte del efecto que estaba iba a crear, crear una atmósfera no afectada y alienígena que lo pone en exceso. Apoyando a los actores como Ian Holm, Don McKellar y un Willem, especialmente espeluznante, Dafoe, levanta la película aún más alta con sus actuaciones inquietantemente familiares. Esta película lleva a los demás acostumbrarse, pero si puedes apreciar el tono oscuro, las imágenes de la sangre de la sangre y la historia de la deformación existencial. , te va a encantar.</td>\n",
              "      <td>positivo</td>\n",
              "    </tr>\n",
              "    <tr>\n",
              "      <th>3249</th>\n",
              "      <td>3249</td>\n",
              "      <td>(Avast, leve spoilers por delante) Tengo esta cinta de mi biblioteca local, que mantiene una copia por razones obvias. Una vez fui a la ciudad de Matewan, Virginia Occidental, y en un pequeño museo, vi el horario para el teatro de la ciudad. CITRA MAYO DE 1954. Las películas cambiarían en el teatro cada día. Como no habría televisión por otra década aproximadamente en esas partes, este fue gran parte del entretenimiento disponible en la ciudad. \"El RAID\" parece haberse hecho para ciudades como Matewan en la década de 1950. Aunque no se cotizaba en la lista de ese mes, estoy seguro de que había un poco de lunes o martes por la noche para una audiencia que probablemente no era demasiado exigente. La incursión histórica, atrevida y notablemente exitosa, no parecía haber sido muy bien investigada, por lo que la película está llena de adornos de Hollywood, incluyendo un cañón suelto jugado por Lee Marvin. Marvin utiliza la oportunidad de practicar la libertad de libertad. Y St. Albans parece haber tenido más soldados de Yankee que vienen y pasan por la ciudad que Washington D.C.. ¿Qué realmente me hizo risificar fue cuando los asaltantes cambian a sus uniformes confederados? Solo en pinturas de guerra civil pegajosa, los uniformes rebeldes se ven tan prístinos. Cuando el hijo de Anne Bancroft atrapa a Van Heflin en su uniforme justo antes de la redada, esperaba que el niño creyera que era Halloween. Y luego está a sí misma Anne Bancroft. Mientras observaba la película, realmente miré al IMDB para ver si había un segundo Anne Bancroft. La actriz del contrato de entonces estudio no parece nada en sus películas posteriores, y no tiene ninguna de la presencia que más tarde tendría en \"el trabajador milagroso\", \"Agnes of God\", y, por supuesto, \"el graduado\". Vale la pena ver si solo 1 ). Vives en St. Albans y 2). Tienes un par de horas para matar en una ficción de Hollywood de la historia más grande de su ciudad de su casa.</td>\n",
              "      <td>negativo</td>\n",
              "    </tr>\n",
              "    <tr>\n",
              "      <th>1616</th>\n",
              "      <td>1616</td>\n",
              "      <td>Mientras que las películas de Hayao Miyazaki siempre han sido golpeadas o extrañas conmigo con respecto a la historia, son inequívocamente hermosas al ojo, con personajes de la simple animación contra un fondo de imágenes artísticas. Ponyo se pega a esa fórmula, con un personaje de plomo tan adorable, quiero una muñeca de lujo de ella y el paisaje, así que bonita, no se vería fuera de lugar enmarque una imagen en una pared. La historia, por otro lado, no lo hice. No disfrutará tanto como sus dos últimas lanzamientos anchos, enérgicos y el castillo en movimiento de Howl. Era solo un poco de menor juvenil, apareciendo como más para los niños y dejando a los adultos solo disfrutar de la animación. También me decepcionó que la puntuación hecha por Joe Hisaishi, que también las puntuaciones para las dos películas mencionadas anteriormente, no era Casi tan memorable esta vez. Si bien no puedo recordar el puntaje de Howl, todavía recuerdo que es uno de los más hermosos que había escuchado. Ditto Spirited's, aunque solo recuerdo que es muy complementario a la película. Tal vez sea porque Ponyo es más tarifa juvenil que la puntuación no es tan inquietante. En cualquier caso, esta película sigue siendo una visita obligada para los fanáticos de anime o miyazaki.</td>\n",
              "      <td>positivo</td>\n",
              "    </tr>\n",
              "    <tr>\n",
              "      <th>1947</th>\n",
              "      <td>1947</td>\n",
              "      <td>Excelente reparto, línea de historia, actuaciones.Totalmente creíble.Me doy cuenta del grupo de punto cerrado que ejemplifica el Cuerpo de Marines.Pero esta película trajo miedo a mi corazón.Los marines dejan que los principios sean condenados.Parece que esta película se basaba en incidentes de la vida real.Muestra lo difícil que es subir contra el establecimiento.Anne Heche fue absolutamente convincente.La representación de Sam Shepard de un Gung Ho Marine estaba sobrio.Y Eric Stoltz, como su abogado, fue tan decidido equilibrar su lealtad al CORP, sino también su lealtad a su cliente, mientras estaba en lo alto de su cuerda floja.Sabía cuál tenía que ser su verdadero curso de acción.Pero fue separado por su inmersión en la tradición marina, lealtad al cuerpo sobre todo lo demás.Me senté remachado a la pantalla de TV.En general, le doy a este un resonante 9 de cada 10.</td>\n",
              "      <td>positivo</td>\n",
              "    </tr>\n",
              "    <tr>\n",
              "      <th>162</th>\n",
              "      <td>162</td>\n",
              "      <td>This is a really great short from Hal Roach This is because of two main reasons: The littlest kids in the short are among the cutest to have ever been on film and the plot has so many funny and well-written elementsAs for the littlest of the Little Rascals, I honestly can't think of a cuter kid than Spanky at about age four Despite being a rather chubby and unattractive kid in later years, he was just precious here And, placing the little tiny boy in charge of babysitting the even younger kids was not only funny, but once again high on the cute factorAfter the older kids blackmail Spanky into doing this awful babysitting job, all kinds of funny mayhem breaks loose The gags are pretty effective and well-done for the time--with an accidental crank call involving a murder and a final scene where Spanky FINALLY gets control of the little ones being the most memorable I haven't seen these shorts in many decades and I am glad I gave this one a chance</td>\n",
              "      <td>positivo</td>\n",
              "    </tr>\n",
              "  </tbody>\n",
              "</table>\n",
              "</div>\n",
              "      <button class=\"colab-df-convert\" onclick=\"convertToInteractive('df-ab4cdcc3-0a24-4179-86c8-1254339c0965')\"\n",
              "              title=\"Convert this dataframe to an interactive table.\"\n",
              "              style=\"display:none;\">\n",
              "        \n",
              "  <svg xmlns=\"http://www.w3.org/2000/svg\" height=\"24px\"viewBox=\"0 0 24 24\"\n",
              "       width=\"24px\">\n",
              "    <path d=\"M0 0h24v24H0V0z\" fill=\"none\"/>\n",
              "    <path d=\"M18.56 5.44l.94 2.06.94-2.06 2.06-.94-2.06-.94-.94-2.06-.94 2.06-2.06.94zm-11 1L8.5 8.5l.94-2.06 2.06-.94-2.06-.94L8.5 2.5l-.94 2.06-2.06.94zm10 10l.94 2.06.94-2.06 2.06-.94-2.06-.94-.94-2.06-.94 2.06-2.06.94z\"/><path d=\"M17.41 7.96l-1.37-1.37c-.4-.4-.92-.59-1.43-.59-.52 0-1.04.2-1.43.59L10.3 9.45l-7.72 7.72c-.78.78-.78 2.05 0 2.83L4 21.41c.39.39.9.59 1.41.59.51 0 1.02-.2 1.41-.59l7.78-7.78 2.81-2.81c.8-.78.8-2.07 0-2.86zM5.41 20L4 18.59l7.72-7.72 1.47 1.35L5.41 20z\"/>\n",
              "  </svg>\n",
              "      </button>\n",
              "      \n",
              "  <style>\n",
              "    .colab-df-container {\n",
              "      display:flex;\n",
              "      flex-wrap:wrap;\n",
              "      gap: 12px;\n",
              "    }\n",
              "\n",
              "    .colab-df-convert {\n",
              "      background-color: #E8F0FE;\n",
              "      border: none;\n",
              "      border-radius: 50%;\n",
              "      cursor: pointer;\n",
              "      display: none;\n",
              "      fill: #1967D2;\n",
              "      height: 32px;\n",
              "      padding: 0 0 0 0;\n",
              "      width: 32px;\n",
              "    }\n",
              "\n",
              "    .colab-df-convert:hover {\n",
              "      background-color: #E2EBFA;\n",
              "      box-shadow: 0px 1px 2px rgba(60, 64, 67, 0.3), 0px 1px 3px 1px rgba(60, 64, 67, 0.15);\n",
              "      fill: #174EA6;\n",
              "    }\n",
              "\n",
              "    [theme=dark] .colab-df-convert {\n",
              "      background-color: #3B4455;\n",
              "      fill: #D2E3FC;\n",
              "    }\n",
              "\n",
              "    [theme=dark] .colab-df-convert:hover {\n",
              "      background-color: #434B5C;\n",
              "      box-shadow: 0px 1px 3px 1px rgba(0, 0, 0, 0.15);\n",
              "      filter: drop-shadow(0px 1px 2px rgba(0, 0, 0, 0.3));\n",
              "      fill: #FFFFFF;\n",
              "    }\n",
              "  </style>\n",
              "\n",
              "      <script>\n",
              "        const buttonEl =\n",
              "          document.querySelector('#df-ab4cdcc3-0a24-4179-86c8-1254339c0965 button.colab-df-convert');\n",
              "        buttonEl.style.display =\n",
              "          google.colab.kernel.accessAllowed ? 'block' : 'none';\n",
              "\n",
              "        async function convertToInteractive(key) {\n",
              "          const element = document.querySelector('#df-ab4cdcc3-0a24-4179-86c8-1254339c0965');\n",
              "          const dataTable =\n",
              "            await google.colab.kernel.invokeFunction('convertToInteractive',\n",
              "                                                     [key], {});\n",
              "          if (!dataTable) return;\n",
              "\n",
              "          const docLinkHtml = 'Like what you see? Visit the ' +\n",
              "            '<a target=\"_blank\" href=https://colab.research.google.com/notebooks/data_table.ipynb>data table notebook</a>'\n",
              "            + ' to learn more about interactive tables.';\n",
              "          element.innerHTML = '';\n",
              "          dataTable['output_type'] = 'display_data';\n",
              "          await google.colab.output.renderOutput(dataTable, element);\n",
              "          const docLink = document.createElement('div');\n",
              "          docLink.innerHTML = docLinkHtml;\n",
              "          element.appendChild(docLink);\n",
              "        }\n",
              "      </script>\n",
              "    </div>\n",
              "  </div>\n",
              "  "
            ]
          },
          "metadata": {},
          "execution_count": 8
        }
      ]
    },
    {
      "cell_type": "code",
      "source": [
        "tweets_df['sentimiento'].value_counts(dropna = False, normalize = True)"
      ],
      "metadata": {
        "colab": {
          "base_uri": "https://localhost:8080/"
        },
        "id": "kD_bdTvvm8Ab",
        "outputId": "8c19fcc7-0725-4c61-f4fd-16b8861fd0bb"
      },
      "execution_count": 9,
      "outputs": [
        {
          "output_type": "execute_result",
          "data": {
            "text/plain": [
              "positivo    0.5\n",
              "negativo    0.5\n",
              "Name: sentimiento, dtype: float64"
            ]
          },
          "metadata": {},
          "execution_count": 9
        }
      ]
    },
    {
      "cell_type": "markdown",
      "source": [
        "# Filtrando Tuits No Etiquetados"
      ],
      "metadata": {
        "id": "reAJpchGn7Mo"
      }
    },
    {
      "cell_type": "code",
      "source": [
        "tweets_labeled_df = tweets_df.loc[tweets_df['sentimiento'].notnull()]"
      ],
      "metadata": {
        "id": "4yrCzP-Im8Cd"
      },
      "execution_count": 10,
      "outputs": []
    },
    {
      "cell_type": "code",
      "source": [
        "# Tweets a ser usados para entrenar y evaluar el modelo\n",
        "tweets_labeled_df.shape"
      ],
      "metadata": {
        "colab": {
          "base_uri": "https://localhost:8080/"
        },
        "id": "gIeHbtPxn-tp",
        "outputId": "09562fab-b1f8-4c28-b9fd-e23f775046dc"
      },
      "execution_count": 11,
      "outputs": [
        {
          "output_type": "execute_result",
          "data": {
            "text/plain": [
              "(5000, 3)"
            ]
          },
          "metadata": {},
          "execution_count": 11
        }
      ]
    },
    {
      "cell_type": "code",
      "source": [
        "# Tweets descartados debido a que no se encuentran etiquetados\n",
        "tweets_df.loc[tweets_df['sentimiento'].isnull()].shape"
      ],
      "metadata": {
        "colab": {
          "base_uri": "https://localhost:8080/"
        },
        "id": "Xj4KCfFnn-vn",
        "outputId": "7587b6c3-d8f7-4cef-fb00-2e370fb263ae"
      },
      "execution_count": 12,
      "outputs": [
        {
          "output_type": "execute_result",
          "data": {
            "text/plain": [
              "(0, 3)"
            ]
          },
          "metadata": {},
          "execution_count": 12
        }
      ]
    },
    {
      "cell_type": "code",
      "source": [
        "tweets_df['sentimiento'].value_counts(dropna = False, normalize = True)"
      ],
      "metadata": {
        "colab": {
          "base_uri": "https://localhost:8080/"
        },
        "id": "mRBCRMSen-yE",
        "outputId": "f272af1d-3261-4867-83e5-a8681a40d29c"
      },
      "execution_count": 13,
      "outputs": [
        {
          "output_type": "execute_result",
          "data": {
            "text/plain": [
              "positivo    0.5\n",
              "negativo    0.5\n",
              "Name: sentimiento, dtype: float64"
            ]
          },
          "metadata": {},
          "execution_count": 13
        }
      ]
    },
    {
      "cell_type": "markdown",
      "source": [
        "#Conjuntos de Prueba"
      ],
      "metadata": {
        "id": "9wE5TlAmo_3q"
      }
    },
    {
      "cell_type": "code",
      "source": [
        "tweets_df['sentimiento'] = tweets_df['sentimiento'].map({'positivo': 1, 'negativo': 0})"
      ],
      "metadata": {
        "id": "Jy6CxoptaFur"
      },
      "execution_count": 50,
      "outputs": []
    },
    {
      "cell_type": "code",
      "source": [
        "tweets_df['sentimiento'].unique()"
      ],
      "metadata": {
        "colab": {
          "base_uri": "https://localhost:8080/"
        },
        "id": "cSoF-TtbVfwV",
        "outputId": "d88aa3f9-d90f-4c6c-dda2-a3e9cfd2dbd2"
      },
      "execution_count": 17,
      "outputs": [
        {
          "output_type": "execute_result",
          "data": {
            "text/plain": [
              "array([1, 0])"
            ]
          },
          "metadata": {},
          "execution_count": 17
        }
      ]
    },
    {
      "cell_type": "code",
      "source": [
        "X_train, X_test, y_train, y_test = train_test_split(tweets_df['review_es'], tweets_df['sentimiento'], test_size = 0.2, stratify = tweets_df['sentimiento'], random_state = 1)"
      ],
      "metadata": {
        "id": "HzP7mryvn-z5"
      },
      "execution_count": 18,
      "outputs": []
    },
    {
      "cell_type": "code",
      "source": [
        "X_train.shape"
      ],
      "metadata": {
        "colab": {
          "base_uri": "https://localhost:8080/"
        },
        "id": "8-vAuwEMn-2A",
        "outputId": "8354d558-974b-4580-afe7-4e21a2d3ab92"
      },
      "execution_count": 19,
      "outputs": [
        {
          "output_type": "execute_result",
          "data": {
            "text/plain": [
              "(4000,)"
            ]
          },
          "metadata": {},
          "execution_count": 19
        }
      ]
    },
    {
      "cell_type": "code",
      "source": [
        "pd.Series(y_train).value_counts(normalize = True)"
      ],
      "metadata": {
        "colab": {
          "base_uri": "https://localhost:8080/"
        },
        "id": "WfYyDl1vn-8F",
        "outputId": "167da311-08b9-403a-fdc5-7741326a3e32"
      },
      "execution_count": 20,
      "outputs": [
        {
          "output_type": "execute_result",
          "data": {
            "text/plain": [
              "0    0.5\n",
              "1    0.5\n",
              "Name: sentimiento, dtype: float64"
            ]
          },
          "metadata": {},
          "execution_count": 20
        }
      ]
    },
    {
      "cell_type": "code",
      "source": [
        "X_test.shape"
      ],
      "metadata": {
        "colab": {
          "base_uri": "https://localhost:8080/"
        },
        "id": "-tyfhfg1n_Cx",
        "outputId": "eb6d448b-1302-4bf5-fedd-1f758160a9dc"
      },
      "execution_count": 21,
      "outputs": [
        {
          "output_type": "execute_result",
          "data": {
            "text/plain": [
              "(1000,)"
            ]
          },
          "metadata": {},
          "execution_count": 21
        }
      ]
    },
    {
      "cell_type": "code",
      "source": [
        "pd.Series(y_test).value_counts(normalize = True)"
      ],
      "metadata": {
        "colab": {
          "base_uri": "https://localhost:8080/"
        },
        "id": "lHwCclnspa46",
        "outputId": "f5475b36-a520-404c-aa14-a1158ff8d9b7"
      },
      "execution_count": 22,
      "outputs": [
        {
          "output_type": "execute_result",
          "data": {
            "text/plain": [
              "0    0.5\n",
              "1    0.5\n",
              "Name: sentimiento, dtype: float64"
            ]
          },
          "metadata": {},
          "execution_count": 22
        }
      ]
    },
    {
      "cell_type": "markdown",
      "source": [
        "# Vectorización de Tuits"
      ],
      "metadata": {
        "id": "IWeyR_VXpgQz"
      }
    },
    {
      "cell_type": "code",
      "source": [
        "stop_words=list(stop_words)"
      ],
      "metadata": {
        "id": "ZaCnHMbVF2CN"
      },
      "execution_count": 23,
      "outputs": []
    },
    {
      "cell_type": "code",
      "source": [
        "bow = CountVectorizer(tokenizer = tokenizer, stop_words = stop_words, lowercase = True)"
      ],
      "metadata": {
        "id": "QmmqdtHgpa7T"
      },
      "execution_count": 24,
      "outputs": []
    },
    {
      "cell_type": "code",
      "source": [
        "X_bow = bow.fit_transform(X_train)"
      ],
      "metadata": {
        "colab": {
          "base_uri": "https://localhost:8080/"
        },
        "id": "5Us4UmOipa9P",
        "outputId": "ada11f29-9664-4135-89b4-cc2a73077d37"
      },
      "execution_count": 25,
      "outputs": [
        {
          "output_type": "stream",
          "name": "stderr",
          "text": [
            "/usr/local/lib/python3.9/dist-packages/sklearn/feature_extraction/text.py:528: UserWarning: The parameter 'token_pattern' will not be used since 'tokenizer' is not None'\n",
            "  warnings.warn(\n"
          ]
        }
      ]
    },
    {
      "cell_type": "code",
      "source": [
        "len(bow.vocabulary_)"
      ],
      "metadata": {
        "colab": {
          "base_uri": "https://localhost:8080/"
        },
        "id": "MeHEurWHpa_b",
        "outputId": "735716e7-8452-49c5-eba4-07363e233ac5"
      },
      "execution_count": 26,
      "outputs": [
        {
          "output_type": "execute_result",
          "data": {
            "text/plain": [
              "58404"
            ]
          },
          "metadata": {},
          "execution_count": 26
        }
      ]
    },
    {
      "cell_type": "code",
      "source": [
        "tfidf = TfidfVectorizer(tokenizer = tokenizer, stop_words = stop_words, lowercase = True)"
      ],
      "metadata": {
        "id": "c0QTPXC6pbBh"
      },
      "execution_count": 27,
      "outputs": []
    },
    {
      "cell_type": "code",
      "source": [
        "X_tfidf = tfidf.fit_transform(X_train)"
      ],
      "metadata": {
        "id": "ciAsElaopbDU"
      },
      "execution_count": 28,
      "outputs": []
    },
    {
      "cell_type": "code",
      "source": [
        "len(tfidf.vocabulary_)"
      ],
      "metadata": {
        "colab": {
          "base_uri": "https://localhost:8080/"
        },
        "id": "lpBqDgsFn_Hp",
        "outputId": "31188b08-51ef-4a64-a931-97ae49d6a6ad"
      },
      "execution_count": 29,
      "outputs": [
        {
          "output_type": "execute_result",
          "data": {
            "text/plain": [
              "58404"
            ]
          },
          "metadata": {},
          "execution_count": 29
        }
      ]
    },
    {
      "cell_type": "markdown",
      "source": [
        "# Entreno con Bow"
      ],
      "metadata": {
        "id": "9sUMg_FutpKp"
      }
    },
    {
      "cell_type": "code",
      "source": [
        "bow_model = RandomForestClassifier(random_state = 2)"
      ],
      "metadata": {
        "id": "DSEzVXR3tnKA"
      },
      "execution_count": 30,
      "outputs": []
    },
    {
      "cell_type": "code",
      "source": [
        "bow_model.fit(X_bow, y_train)"
      ],
      "metadata": {
        "colab": {
          "base_uri": "https://localhost:8080/",
          "height": 74
        },
        "id": "4dIvYW7JtnL2",
        "outputId": "b115f14c-433c-4aa8-a38b-607d4e19a8f5"
      },
      "execution_count": 31,
      "outputs": [
        {
          "output_type": "execute_result",
          "data": {
            "text/plain": [
              "RandomForestClassifier(random_state=2)"
            ],
            "text/html": [
              "<style>#sk-container-id-1 {color: black;background-color: white;}#sk-container-id-1 pre{padding: 0;}#sk-container-id-1 div.sk-toggleable {background-color: white;}#sk-container-id-1 label.sk-toggleable__label {cursor: pointer;display: block;width: 100%;margin-bottom: 0;padding: 0.3em;box-sizing: border-box;text-align: center;}#sk-container-id-1 label.sk-toggleable__label-arrow:before {content: \"▸\";float: left;margin-right: 0.25em;color: #696969;}#sk-container-id-1 label.sk-toggleable__label-arrow:hover:before {color: black;}#sk-container-id-1 div.sk-estimator:hover label.sk-toggleable__label-arrow:before {color: black;}#sk-container-id-1 div.sk-toggleable__content {max-height: 0;max-width: 0;overflow: hidden;text-align: left;background-color: #f0f8ff;}#sk-container-id-1 div.sk-toggleable__content pre {margin: 0.2em;color: black;border-radius: 0.25em;background-color: #f0f8ff;}#sk-container-id-1 input.sk-toggleable__control:checked~div.sk-toggleable__content {max-height: 200px;max-width: 100%;overflow: auto;}#sk-container-id-1 input.sk-toggleable__control:checked~label.sk-toggleable__label-arrow:before {content: \"▾\";}#sk-container-id-1 div.sk-estimator input.sk-toggleable__control:checked~label.sk-toggleable__label {background-color: #d4ebff;}#sk-container-id-1 div.sk-label input.sk-toggleable__control:checked~label.sk-toggleable__label {background-color: #d4ebff;}#sk-container-id-1 input.sk-hidden--visually {border: 0;clip: rect(1px 1px 1px 1px);clip: rect(1px, 1px, 1px, 1px);height: 1px;margin: -1px;overflow: hidden;padding: 0;position: absolute;width: 1px;}#sk-container-id-1 div.sk-estimator {font-family: monospace;background-color: #f0f8ff;border: 1px dotted black;border-radius: 0.25em;box-sizing: border-box;margin-bottom: 0.5em;}#sk-container-id-1 div.sk-estimator:hover {background-color: #d4ebff;}#sk-container-id-1 div.sk-parallel-item::after {content: \"\";width: 100%;border-bottom: 1px solid gray;flex-grow: 1;}#sk-container-id-1 div.sk-label:hover label.sk-toggleable__label {background-color: #d4ebff;}#sk-container-id-1 div.sk-serial::before {content: \"\";position: absolute;border-left: 1px solid gray;box-sizing: border-box;top: 0;bottom: 0;left: 50%;z-index: 0;}#sk-container-id-1 div.sk-serial {display: flex;flex-direction: column;align-items: center;background-color: white;padding-right: 0.2em;padding-left: 0.2em;position: relative;}#sk-container-id-1 div.sk-item {position: relative;z-index: 1;}#sk-container-id-1 div.sk-parallel {display: flex;align-items: stretch;justify-content: center;background-color: white;position: relative;}#sk-container-id-1 div.sk-item::before, #sk-container-id-1 div.sk-parallel-item::before {content: \"\";position: absolute;border-left: 1px solid gray;box-sizing: border-box;top: 0;bottom: 0;left: 50%;z-index: -1;}#sk-container-id-1 div.sk-parallel-item {display: flex;flex-direction: column;z-index: 1;position: relative;background-color: white;}#sk-container-id-1 div.sk-parallel-item:first-child::after {align-self: flex-end;width: 50%;}#sk-container-id-1 div.sk-parallel-item:last-child::after {align-self: flex-start;width: 50%;}#sk-container-id-1 div.sk-parallel-item:only-child::after {width: 0;}#sk-container-id-1 div.sk-dashed-wrapped {border: 1px dashed gray;margin: 0 0.4em 0.5em 0.4em;box-sizing: border-box;padding-bottom: 0.4em;background-color: white;}#sk-container-id-1 div.sk-label label {font-family: monospace;font-weight: bold;display: inline-block;line-height: 1.2em;}#sk-container-id-1 div.sk-label-container {text-align: center;}#sk-container-id-1 div.sk-container {/* jupyter's `normalize.less` sets `[hidden] { display: none; }` but bootstrap.min.css set `[hidden] { display: none !important; }` so we also need the `!important` here to be able to override the default hidden behavior on the sphinx rendered scikit-learn.org. See: https://github.com/scikit-learn/scikit-learn/issues/21755 */display: inline-block !important;position: relative;}#sk-container-id-1 div.sk-text-repr-fallback {display: none;}</style><div id=\"sk-container-id-1\" class=\"sk-top-container\"><div class=\"sk-text-repr-fallback\"><pre>RandomForestClassifier(random_state=2)</pre><b>In a Jupyter environment, please rerun this cell to show the HTML representation or trust the notebook. <br />On GitHub, the HTML representation is unable to render, please try loading this page with nbviewer.org.</b></div><div class=\"sk-container\" hidden><div class=\"sk-item\"><div class=\"sk-estimator sk-toggleable\"><input class=\"sk-toggleable__control sk-hidden--visually\" id=\"sk-estimator-id-1\" type=\"checkbox\" checked><label for=\"sk-estimator-id-1\" class=\"sk-toggleable__label sk-toggleable__label-arrow\">RandomForestClassifier</label><div class=\"sk-toggleable__content\"><pre>RandomForestClassifier(random_state=2)</pre></div></div></div></div></div>"
            ]
          },
          "metadata": {},
          "execution_count": 31
        }
      ]
    },
    {
      "cell_type": "code",
      "source": [
        "# La 'feature importance' en modelos basados en árboles de decisión indican cuales son las características más importantes al momento de tomar una decisión\n",
        "pd.Series(bow_model.feature_importances_, index = bow.vocabulary_).sort_values().tail(20).plot.barh(figsize = (15, 10))"
      ],
      "metadata": {
        "colab": {
          "base_uri": "https://localhost:8080/",
          "height": 713
        },
        "id": "UH1ut5dptnOD",
        "outputId": "2a9c66a8-6d76-4076-ad3d-3742065751bb"
      },
      "execution_count": 32,
      "outputs": [
        {
          "output_type": "execute_result",
          "data": {
            "text/plain": [
              "<Axes: >"
            ]
          },
          "metadata": {},
          "execution_count": 32
        },
        {
          "output_type": "display_data",
          "data": {
            "text/plain": [
              "<Figure size 1500x1000 with 1 Axes>"
            ],
            "image/png": "[encoded data removed]"
          },
          "metadata": {}
        }
      ]
    },
    {
      "cell_type": "code",
      "source": [
        "bow_estimators = bow_model.estimators_\n",
        "print('Number of trees:', len(bow_estimators))\n",
        "print('Trees depth (mean):', np.mean([tree.get_depth() for tree in bow_estimators]))"
      ],
      "metadata": {
        "colab": {
          "base_uri": "https://localhost:8080/"
        },
        "id": "otHkLfJjtnQA",
        "outputId": "6f60b7e3-ecfe-4c77-cb8b-f9ae73d2f317"
      },
      "execution_count": 33,
      "outputs": [
        {
          "output_type": "stream",
          "name": "stdout",
          "text": [
            "Number of trees: 100\n",
            "Trees depth (mean): 185.1\n"
          ]
        }
      ]
    },
    {
      "cell_type": "code",
      "source": [
        "y_train_bow_predict = bow_model.predict(X_bow)\n",
        "y_test_bow_predict = bow_model.predict(bow.transform(X_test))"
      ],
      "metadata": {
        "id": "XPjaRCu7tnSF"
      },
      "execution_count": 34,
      "outputs": []
    },
    {
      "cell_type": "code",
      "source": [
        "ConfusionMatrixDisplay.from_predictions(y_train, y_train_bow_predict)"
      ],
      "metadata": {
        "colab": {
          "base_uri": "https://localhost:8080/",
          "height": 473
        },
        "id": "P0RxyyJ8tnUA",
        "outputId": "d56af671-f0e0-4805-ca91-e70747240981"
      },
      "execution_count": 35,
      "outputs": [
        {
          "output_type": "execute_result",
          "data": {
            "text/plain": [
              "<sklearn.metrics._plot.confusion_matrix.ConfusionMatrixDisplay at 0x7fda02ab6790>"
            ]
          },
          "metadata": {},
          "execution_count": 35
        },
        {
          "output_type": "display_data",
          "data": {
            "text/plain": [
              "<Figure size 640x480 with 2 Axes>"
            ],
            "image/png": "[encoded data removed]"
          },
          "metadata": {}
        }
      ]
    },
    {
      "cell_type": "code",
      "source": [
        "ConfusionMatrixDisplay.from_predictions(y_test, y_test_bow_predict)"
      ],
      "metadata": {
        "colab": {
          "base_uri": "https://localhost:8080/",
          "height": 467
        },
        "id": "Jek0GS7RtnWR",
        "outputId": "c241eb2a-a7d0-4810-8fa8-c0490d66449a"
      },
      "execution_count": 36,
      "outputs": [
        {
          "output_type": "execute_result",
          "data": {
            "text/plain": [
              "<sklearn.metrics._plot.confusion_matrix.ConfusionMatrixDisplay at 0x7fda018bb370>"
            ]
          },
          "metadata": {},
          "execution_count": 36
        },
        {
          "output_type": "display_data",
          "data": {
            "text/plain": [
              "<Figure size 640x480 with 2 Axes>"
            ],
            "image/png": "[encoded data removed]"
          },
          "metadata": {}
        }
      ]
    },
    {
      "cell_type": "code",
      "source": [
        "if len(bow_model.classes_) == 2:\n",
        "    print('Precision:', precision_score(y_train, y_train_bow_predict, pos_label = 1))\n",
        "    print('Recall:', recall_score(y_train, y_train_bow_predict, pos_label = 1))\n",
        "    print('F1:', f1_score(y_train, y_train_bow_predict, pos_label = 1))\n",
        "else:\n",
        "    # Para casos no binarios, es común calcular las métricas para cada clase\n",
        "    print('Precision:', precision_score(y_train, y_train_bow_predict, average = None))\n",
        "    print('Recall:', recall_score(y_train, y_train_bow_predict, average = None))\n",
        "    print('F1:', f1_score(y_train, y_train_bow_predict, average = None))"
      ],
      "metadata": {
        "colab": {
          "base_uri": "https://localhost:8080/"
        },
        "id": "tyxDgEIIEmwY",
        "outputId": "3e886813-7a68-4c2c-bcc6-dd63421e2093"
      },
      "execution_count": 37,
      "outputs": [
        {
          "output_type": "stream",
          "name": "stdout",
          "text": [
            "Precision: 1.0\n",
            "Recall: 1.0\n",
            "F1: 1.0\n"
          ]
        }
      ]
    },
    {
      "cell_type": "code",
      "source": [
        "if len(bow_model.classes_) == 2:\n",
        "    print('Precision:', precision_score(y_test, y_test_bow_predict, pos_label = 1))\n",
        "    print('Recall:', recall_score(y_test, y_test_bow_predict, pos_label = 1))\n",
        "    print('F1:', f1_score(y_test, y_test_bow_predict, pos_label = 1))\n",
        "else:\n",
        "    # Para casos no binarios, es común calcular las métricas para cada clase\n",
        "    print('Precision:', precision_score(y_test, y_test_bow_predict, average = None))\n",
        "    print('Recall:', recall_score(y_test, y_test_bow_predict, average = None))\n",
        "    print('F1:', f1_score(y_test, y_test_bow_predict, average = None))"
      ],
      "metadata": {
        "colab": {
          "base_uri": "https://localhost:8080/"
        },
        "id": "LTHN7iXbEmye",
        "outputId": "083778a4-3b01-49f2-f8b5-2ec3d7b96529"
      },
      "execution_count": 38,
      "outputs": [
        {
          "output_type": "stream",
          "name": "stdout",
          "text": [
            "Precision: 0.819838056680162\n",
            "Recall: 0.81\n",
            "F1: 0.8148893360160966\n"
          ]
        }
      ]
    },
    {
      "cell_type": "markdown",
      "source": [
        "# Evaluando e utilizando TF-IDF"
      ],
      "metadata": {
        "id": "i66s_iKNErEt"
      }
    },
    {
      "cell_type": "code",
      "source": [
        "tfidf_model = RandomForestClassifier(random_state = 3)"
      ],
      "metadata": {
        "id": "2BJPH1nKEm0b"
      },
      "execution_count": 39,
      "outputs": []
    },
    {
      "cell_type": "code",
      "source": [
        "tfidf_model.fit(X_tfidf, y_train)"
      ],
      "metadata": {
        "colab": {
          "base_uri": "https://localhost:8080/",
          "height": 74
        },
        "id": "SzEBBdGzEm2Z",
        "outputId": "8381cdbf-b918-4622-9c7a-48aac04b14c6"
      },
      "execution_count": 40,
      "outputs": [
        {
          "output_type": "execute_result",
          "data": {
            "text/plain": [
              "RandomForestClassifier(random_state=3)"
            ],
            "text/html": [
              "<style>#sk-container-id-2 {color: black;background-color: white;}#sk-container-id-2 pre{padding: 0;}#sk-container-id-2 div.sk-toggleable {background-color: white;}#sk-container-id-2 label.sk-toggleable__label {cursor: pointer;display: block;width: 100%;margin-bottom: 0;padding: 0.3em;box-sizing: border-box;text-align: center;}#sk-container-id-2 label.sk-toggleable__label-arrow:before {content: \"▸\";float: left;margin-right: 0.25em;color: #696969;}#sk-container-id-2 label.sk-toggleable__label-arrow:hover:before {color: black;}#sk-container-id-2 div.sk-estimator:hover label.sk-toggleable__label-arrow:before {color: black;}#sk-container-id-2 div.sk-toggleable__content {max-height: 0;max-width: 0;overflow: hidden;text-align: left;background-color: #f0f8ff;}#sk-container-id-2 div.sk-toggleable__content pre {margin: 0.2em;color: black;border-radius: 0.25em;background-color: #f0f8ff;}#sk-container-id-2 input.sk-toggleable__control:checked~div.sk-toggleable__content {max-height: 200px;max-width: 100%;overflow: auto;}#sk-container-id-2 input.sk-toggleable__control:checked~label.sk-toggleable__label-arrow:before {content: \"▾\";}#sk-container-id-2 div.sk-estimator input.sk-toggleable__control:checked~label.sk-toggleable__label {background-color: #d4ebff;}#sk-container-id-2 div.sk-label input.sk-toggleable__control:checked~label.sk-toggleable__label {background-color: #d4ebff;}#sk-container-id-2 input.sk-hidden--visually {border: 0;clip: rect(1px 1px 1px 1px);clip: rect(1px, 1px, 1px, 1px);height: 1px;margin: -1px;overflow: hidden;padding: 0;position: absolute;width: 1px;}#sk-container-id-2 div.sk-estimator {font-family: monospace;background-color: #f0f8ff;border: 1px dotted black;border-radius: 0.25em;box-sizing: border-box;margin-bottom: 0.5em;}#sk-container-id-2 div.sk-estimator:hover {background-color: #d4ebff;}#sk-container-id-2 div.sk-parallel-item::after {content: \"\";width: 100%;border-bottom: 1px solid gray;flex-grow: 1;}#sk-container-id-2 div.sk-label:hover label.sk-toggleable__label {background-color: #d4ebff;}#sk-container-id-2 div.sk-serial::before {content: \"\";position: absolute;border-left: 1px solid gray;box-sizing: border-box;top: 0;bottom: 0;left: 50%;z-index: 0;}#sk-container-id-2 div.sk-serial {display: flex;flex-direction: column;align-items: center;background-color: white;padding-right: 0.2em;padding-left: 0.2em;position: relative;}#sk-container-id-2 div.sk-item {position: relative;z-index: 1;}#sk-container-id-2 div.sk-parallel {display: flex;align-items: stretch;justify-content: center;background-color: white;position: relative;}#sk-container-id-2 div.sk-item::before, #sk-container-id-2 div.sk-parallel-item::before {content: \"\";position: absolute;border-left: 1px solid gray;box-sizing: border-box;top: 0;bottom: 0;left: 50%;z-index: -1;}#sk-container-id-2 div.sk-parallel-item {display: flex;flex-direction: column;z-index: 1;position: relative;background-color: white;}#sk-container-id-2 div.sk-parallel-item:first-child::after {align-self: flex-end;width: 50%;}#sk-container-id-2 div.sk-parallel-item:last-child::after {align-self: flex-start;width: 50%;}#sk-container-id-2 div.sk-parallel-item:only-child::after {width: 0;}#sk-container-id-2 div.sk-dashed-wrapped {border: 1px dashed gray;margin: 0 0.4em 0.5em 0.4em;box-sizing: border-box;padding-bottom: 0.4em;background-color: white;}#sk-container-id-2 div.sk-label label {font-family: monospace;font-weight: bold;display: inline-block;line-height: 1.2em;}#sk-container-id-2 div.sk-label-container {text-align: center;}#sk-container-id-2 div.sk-container {/* jupyter's `normalize.less` sets `[hidden] { display: none; }` but bootstrap.min.css set `[hidden] { display: none !important; }` so we also need the `!important` here to be able to override the default hidden behavior on the sphinx rendered scikit-learn.org. See: https://github.com/scikit-learn/scikit-learn/issues/21755 */display: inline-block !important;position: relative;}#sk-container-id-2 div.sk-text-repr-fallback {display: none;}</style><div id=\"sk-container-id-2\" class=\"sk-top-container\"><div class=\"sk-text-repr-fallback\"><pre>RandomForestClassifier(random_state=3)</pre><b>In a Jupyter environment, please rerun this cell to show the HTML representation or trust the notebook. <br />On GitHub, the HTML representation is unable to render, please try loading this page with nbviewer.org.</b></div><div class=\"sk-container\" hidden><div class=\"sk-item\"><div class=\"sk-estimator sk-toggleable\"><input class=\"sk-toggleable__control sk-hidden--visually\" id=\"sk-estimator-id-2\" type=\"checkbox\" checked><label for=\"sk-estimator-id-2\" class=\"sk-toggleable__label sk-toggleable__label-arrow\">RandomForestClassifier</label><div class=\"sk-toggleable__content\"><pre>RandomForestClassifier(random_state=3)</pre></div></div></div></div></div>"
            ]
          },
          "metadata": {},
          "execution_count": 40
        }
      ]
    },
    {
      "cell_type": "code",
      "source": [
        "pd.Series(tfidf_model.feature_importances_, index = tfidf.vocabulary_).sort_values().tail(20).plot.barh(figsize = (15, 10))"
      ],
      "metadata": {
        "colab": {
          "base_uri": "https://localhost:8080/",
          "height": 706
        },
        "id": "7ge_10eNEm4V",
        "outputId": "fe69b3ff-338e-45c5-831d-d1d8f56d32ec"
      },
      "execution_count": 41,
      "outputs": [
        {
          "output_type": "execute_result",
          "data": {
            "text/plain": [
              "<Axes: >"
            ]
          },
          "metadata": {},
          "execution_count": 41
        },
        {
          "output_type": "display_data",
          "data": {
            "text/plain": [
              "<Figure size 1500x1000 with 1 Axes>"
            ],
            "image/png": "[encoded data removed]"
          },
          "metadata": {}
        }
      ]
    },
    {
      "cell_type": "code",
      "source": [
        "tfidf_estimators = tfidf_model.estimators_\n",
        "print('Number of trees:', len(tfidf_estimators))\n",
        "print('Trees depth (mean):', np.mean([tree.get_depth() for tree in tfidf_estimators]))"
      ],
      "metadata": {
        "colab": {
          "base_uri": "https://localhost:8080/"
        },
        "id": "NMMCNGM-Em6R",
        "outputId": "8964d572-d249-4d5d-c3a9-d1c8f6454aa5"
      },
      "execution_count": 42,
      "outputs": [
        {
          "output_type": "stream",
          "name": "stdout",
          "text": [
            "Number of trees: 100\n",
            "Trees depth (mean): 162.79\n"
          ]
        }
      ]
    },
    {
      "cell_type": "code",
      "source": [
        "y_train_tfidf_predict = tfidf_model.predict(X_tfidf)\n",
        "y_test_tfidf_predict = tfidf_model.predict(tfidf.transform(X_test))"
      ],
      "metadata": {
        "id": "XrT8rTVVJwqn"
      },
      "execution_count": 43,
      "outputs": []
    },
    {
      "cell_type": "code",
      "source": [
        "ConfusionMatrixDisplay.from_predictions(y_train, y_train_tfidf_predict)"
      ],
      "metadata": {
        "colab": {
          "base_uri": "https://localhost:8080/",
          "height": 473
        },
        "id": "pDImFEhVJwst",
        "outputId": "126cef07-b9f5-4064-f076-830e78ecd7b2"
      },
      "execution_count": 44,
      "outputs": [
        {
          "output_type": "execute_result",
          "data": {
            "text/plain": [
              "<sklearn.metrics._plot.confusion_matrix.ConfusionMatrixDisplay at 0x7fd9feeaed90>"
            ]
          },
          "metadata": {},
          "execution_count": 44
        },
        {
          "output_type": "display_data",
          "data": {
            "text/plain": [
              "<Figure size 640x480 with 2 Axes>"
            ],
            "image/png": "[encoded data removed]"
          },
          "metadata": {}
        }
      ]
    },
    {
      "cell_type": "code",
      "source": [
        "ConfusionMatrixDisplay.from_predictions(y_test,y_test_tfidf_predict)"
      ],
      "metadata": {
        "colab": {
          "base_uri": "https://localhost:8080/",
          "height": 467
        },
        "id": "KOMUdINI8v6-",
        "outputId": "6e3961b6-95cf-45ea-e27c-d87671125605"
      },
      "execution_count": 45,
      "outputs": [
        {
          "output_type": "execute_result",
          "data": {
            "text/plain": [
              "<sklearn.metrics._plot.confusion_matrix.ConfusionMatrixDisplay at 0x7fd9fef007f0>"
            ]
          },
          "metadata": {},
          "execution_count": 45
        },
        {
          "output_type": "display_data",
          "data": {
            "text/plain": [
              "<Figure size 640x480 with 2 Axes>"
            ],
            "image/png": "[encoded data removed]"
          },
          "metadata": {}
        }
      ]
    },
    {
      "cell_type": "code",
      "source": [
        "if len(bow_model.classes_) == 2:\n",
        "    print('Precision:', precision_score(y_train, y_train_tfidf_predict, pos_label = 1))\n",
        "    print('Recall:', recall_score(y_train, y_train_tfidf_predict, pos_label = 1))\n",
        "    print('F1:', f1_score(y_train, y_train_tfidf_predict, pos_label = 1))\n",
        "else:\n",
        "    # Para casos no binarios, es común calcular las métricas para cada clase\n",
        "    print('Precision:', precision_score(y_train, y_train_tfidf_predict, average = None))\n",
        "    print('Recall:', recall_score(y_train, y_train_tfidf_predict, average = None))\n",
        "    print('F1:', f1_score(y_train, y_train_tfidf_predict, average = None))"
      ],
      "metadata": {
        "colab": {
          "base_uri": "https://localhost:8080/"
        },
        "id": "HbvPkmxcJwuo",
        "outputId": "22878ed8-7117-4050-8814-d17da724c728"
      },
      "execution_count": 51,
      "outputs": [
        {
          "output_type": "stream",
          "name": "stdout",
          "text": [
            "Precision: 1.0\n",
            "Recall: 1.0\n",
            "F1: 1.0\n"
          ]
        }
      ]
    },
    {
      "cell_type": "code",
      "source": [
        "if len(tfidf_model.classes_) == 2:\n",
        "    print('Precision:', precision_score(y_test, y_test_tfidf_predict, pos_label = 1))\n",
        "    print('Recall:', recall_score(y_test, y_test_tfidf_predict, pos_label = 1))\n",
        "    print('F1:', f1_score(y_test, y_test_tfidf_predict, pos_label = 1))\n",
        "else:\n",
        "    # Para casos no binarios, es común calcular las métricas para cada clase\n",
        "    print('Precision:', precision_score(y_test, y_test_tfidf_predict, average = None))\n",
        "    print('Recall:', recall_score(y_test, y_test_tfidf_predict, average = None))\n",
        "    print('F1:', f1_score(y_test, y_test_tfidf_predict, average = None))"
      ],
      "metadata": {
        "colab": {
          "base_uri": "https://localhost:8080/"
        },
        "id": "1fvE2GRgJwwe",
        "outputId": "daba97fe-8aa2-449c-e375-c2b8ec02a312"
      },
      "execution_count": 52,
      "outputs": [
        {
          "output_type": "stream",
          "name": "stdout",
          "text": [
            "Precision: 0.8311688311688312\n",
            "Recall: 0.768\n",
            "F1: 0.7983367983367984\n"
          ]
        }
      ]
    },
    {
      "cell_type": "markdown",
      "source": [
        "# Limpieza de Datos y decisión de tipo de vectorización (Bag of Words)\n",
        "\n",
        "Mejores resultados Bow entonces trabajaremos con ese. Pero sin incluir los tokens de aparición de 1 solo caso."
      ],
      "metadata": {
        "id": "iUjq05ziJ6P5"
      }
    },
    {
      "cell_type": "code",
      "source": [
        "stop_words=list(stop_words)"
      ],
      "metadata": {
        "id": "afBxaJU-Jw0W"
      },
      "execution_count": 53,
      "outputs": []
    },
    {
      "cell_type": "code",
      "source": [
        "bow = CountVectorizer(tokenizer = tokenizer, stop_words = stop_words, lowercase = True, min_df=2)"
      ],
      "metadata": {
        "id": "DZZMaVxxJw2d"
      },
      "execution_count": 54,
      "outputs": []
    },
    {
      "cell_type": "code",
      "source": [
        "X_bow = bow.fit_transform(X_train)"
      ],
      "metadata": {
        "id": "Hx7_9qkSKV00",
        "colab": {
          "base_uri": "https://localhost:8080/"
        },
        "outputId": "e109417a-4e82-4738-e6e6-351b8c276255"
      },
      "execution_count": 55,
      "outputs": [
        {
          "output_type": "stream",
          "name": "stderr",
          "text": [
            "/usr/local/lib/python3.9/dist-packages/sklearn/feature_extraction/text.py:528: UserWarning: The parameter 'token_pattern' will not be used since 'tokenizer' is not None'\n",
            "  warnings.warn(\n"
          ]
        }
      ]
    },
    {
      "cell_type": "code",
      "source": [
        "len(bow.vocabulary_)"
      ],
      "metadata": {
        "colab": {
          "base_uri": "https://localhost:8080/"
        },
        "id": "cQNegU6kOlwK",
        "outputId": "2ddf5667-bc09-4ff7-ac32-1b70ab6d881b"
      },
      "execution_count": 56,
      "outputs": [
        {
          "output_type": "execute_result",
          "data": {
            "text/plain": [
              "24988"
            ]
          },
          "metadata": {},
          "execution_count": 56
        }
      ]
    },
    {
      "cell_type": "code",
      "source": [
        "tfidf = TfidfVectorizer(tokenizer = tokenizer, stop_words = stop_words, lowercase = True)"
      ],
      "metadata": {
        "id": "wFIvD73vKV27"
      },
      "execution_count": 57,
      "outputs": []
    },
    {
      "cell_type": "code",
      "source": [
        "X_tfidf = tfidf.fit_transform(X_train)"
      ],
      "metadata": {
        "id": "NeC_g5ePKV4V"
      },
      "execution_count": 58,
      "outputs": []
    },
    {
      "cell_type": "code",
      "source": [
        "len(tfidf.vocabulary_)"
      ],
      "metadata": {
        "colab": {
          "base_uri": "https://localhost:8080/"
        },
        "id": "evA_H7hBKiOW",
        "outputId": "ee2b3669-7821-4abf-a98e-6d354df78783"
      },
      "execution_count": 59,
      "outputs": [
        {
          "output_type": "execute_result",
          "data": {
            "text/plain": [
              "58404"
            ]
          },
          "metadata": {},
          "execution_count": 59
        }
      ]
    },
    {
      "cell_type": "markdown",
      "source": [
        "# Análisis del error\n"
      ],
      "metadata": {
        "id": "hO4mNm_fG_7X"
      }
    },
    {
      "cell_type": "code",
      "source": [
        "error_df = pd.concat([\n",
        "    pd.concat([X_test, y_test], axis = 1).reset_index(),\n",
        "    pd.Series(y_test_bow_predict)\n",
        "], axis = 1).rename(columns = { 'sentimiento': 'actual', 0: 'predicted' })\n",
        "\n",
        "error_df.drop('index', inplace = True, axis = 1)"
      ],
      "metadata": {
        "id": "ffAZB1qdHC1i"
      },
      "execution_count": 59,
      "outputs": []
    },
    {
      "cell_type": "code",
      "source": [
        "error_df.loc[error_df['actual'] != error_df['predicted']].shape"
      ],
      "metadata": {
        "colab": {
          "base_uri": "https://localhost:8080/"
        },
        "id": "Q6oMYqOAHIGe",
        "outputId": "aee40fcc-1967-43ff-c3ec-437314744bef"
      },
      "execution_count": 60,
      "outputs": [
        {
          "output_type": "execute_result",
          "data": {
            "text/plain": [
              "(184, 3)"
            ]
          },
          "metadata": {},
          "execution_count": 60
        }
      ]
    },
    {
      "cell_type": "code",
      "source": [
        "error_df.loc[error_df['actual'] != error_df['predicted']].sample(10)"
      ],
      "metadata": {
        "colab": {
          "base_uri": "https://localhost:8080/",
          "height": 1000
        },
        "id": "OZluXrtPHtES",
        "outputId": "30f742ae-ef47-4dd5-a26c-5eef37095946"
      },
      "execution_count": 61,
      "outputs": [
        {
          "output_type": "execute_result",
          "data": {
            "text/plain": [
              "                                                                                                                                                                                                                                                                                                                                                                                                                                                                                                                                                                                                                                                                                                                                                                                                                                                                                                                                                                                                                                                                                                                                                                                                                                                                                                                                                                                                                                                                                                                                                                                                                                                                                                                                                                                                                                                                                                       review_es  \\\n",
              "887  Confieso: Emma, ​​en mi opinión, es la mejor novela más grande jamás escrita. Está tan cerca de la perfección, ya que puede ser cualquier creación mortal. Jane Austen llega al pináculo de su arte aquí. Desafortunadamente, esto es, en el mejor de los casos, una versión de Gwynett Paltrow es inevitable, esa versión es mucho más fiel al espíritu ingenioso del libro y mucho más agradable para ver. Hay algunos buenos elementos aquí: Kate Berkinsale (Habiendo jugado previamente la flora Poste en Fría Comfort Farm, claramente Emma's Smarter Spiritual gemelo) es una emma maravillosa. Raymond Coulthard hace una decoración apropiada Frank Churchill. La producción es guapo, pero los interiores son demasiado oscuros. Sin embargo, hay varios problemas importantes. El primero es Mark Strong, en primer lugar, no se ve bien para el Sr. Knightley. Esto es quizás porque juega el papel como un párroco victoriano censurable. Está muy fuera de la melodía. El segundo problema es de la longitud. En pocas palabras, la película es demasiado corta: para obtener el tipo de sensación correcto, tendría que ser el doble de largo. Finalmente, y lo más significativamente, existe la calidad de la adaptación. Austen es el sueño de un adaptador, todo el diálogo ya está allí. Solo necesita ser podado y arreglado adecuadamente. Andrew Davies parece pensar de otra manera. Primero, esta es una película bastante sombría, y lo último que debe ser Emma es sombrío. Más significativamente, Davies ha visto apto para reescribir el final como algún tipo de fiesta bucólica. ¿De qué planeta, o trabajo menor de Thomas Hardy, es esto de? Está completamente fuera del estilo y el espíritu de la novela. Y creo que es enormemente presuntuoso para tratar de realizar mejoras en: una preservación de la versión de Paltrow, o observar a Kate en Fría Comfort Farm.   \n",
              "581                                                                                                                                                                                                                                                                                                                                                                                                                                                                                                                                                                                                                                                                                                                                                                                                                                                                                                                                                                                                                                                                                                        No podría relacionarme con esta película.No se convirtió en comprometerme intelectualmente, emocional o estéticamente.El diálogo fue muy denso y sin resolver.No podía conectarme y, por lo tanto, me preocupo por ninguno de los personajes y me resulta difícil encontrar mucho que sea positivo para decirlo. He leído que para entenderlo adecuadamente, se necesita familiarizarse con algunos de los másASPECTOS oscuros de la teología católica.Admito que, como ateo, probablemente estoy familiarizado con muchos de los detalles más finos del catolicismo, pero también he visto muchas películas que tratan los problemas religiosos que me han tocado porque sus temas siguen siendo universales para la condición humana y DonConfíe en el conocimiento o las creencias especializadas.   \n",
              "971                                                                                                                                                                                                                                                                                                                                                                                                                                                                                                                                                                                                                                                                                  Mi esposa y yo vimos esta película porque planeamos visitar Sicilia y Stromboli pronto. Afortunadamente (o desafortunadamente) el paisaje y el paisaje marino (completo con atún) son los únicos miembros creíbles de este elenco. Esperábamos una película razonable bien escrita y bien actuada, pero nos decepcionó. Su única gracia redentora es una secuencia de pesca extendida y extraordinaria llena de autenticidad: thrashing atuna, redes, botes de madera con largos remos, y apasionados, aunque supersticiosos, pescadores. La secuenciación de la película está estrellada, su diálogo se precipitó, y la actuación varía de rigidez. para \"sobre-timbre\" por completo. Una escena, en la que Bergman se esfuerza como su macho, nativo e ingenuo, chifero, su hurón en un conejo \"inocente\" (pero aparentemente ya fallecido) sería un grano perfecto para un sketín de Monty Python. Cuando el volcán soplaba que esperábamos un misericordioso. Fin al sufrimiento (nuestro y los moldes '). Desafortunadamente, la película continúa corriendo, tambaleándose finalmente a un final melodramático y absurdo. A menos que esté realmente en la pesca de atún en el vejez, pase este esfuerzo de tanquilo.   \n",
              "393                                                                                                                                                                                                                                                                                                                                                                                                                                                                                                                                                                                                                                                                                                                                                                                                                                                                       Hoy, Bea Arthur murió, así que estaba navegando por el sitio web del IMDb y de alguna manera terminó en un espectáculo llamado \"Gloria\".\"Todo en la familia\" fue un espectáculo brillante por sus primeros cuatro o cinco años y apuesto a que observé a cada episodio más de una vez.Sin embargo, juro que no sabía un espectáculo llamado \"Gloria\" existía.Tal vez, eso es algo bueno.Tal vez, significa que tuve una vida como un adulto joven en lugar de ver la televisión. En la otra mano, es patético que la franquicia \"Todo en la familia\" se había deteriorado tanto que engendría un espectáculo que nunca he escuchado.Uno que se califica muy mal por los revisores anteriores. Calificó el programa 1 por dos razones: el sistema no me permitió registrar un no voto y los escritores y los ejecutores de televisión deben ser condenados por comenzar una demostración que no tenía un negocio.en el aire y besmirches el recuerdo de uno de los mejores espectáculos en la historia de la televisión. CHALOM, ZWRITE   \n",
              "67                                                                                                                                                                                                                                                                                                                                                                                                                                                                                                                                                                                                                                                                                                                                                                                                                                                                                                                                                                                                                                                                                                                                                                                                                                                                                                                                                                                                                         Ni siquiera el fanático de Stooge más ardiente podría gustarle la película, (yo uno de ellos), los Stooges no se les da ningún material para trabajar.También es una vergüenza también porque esta es la única película de largometraje, los Stooges lo hicieron con rizado, y este esfuerzo por ellos es dolorosamente unido, cuando podría haber tenido un gran potencial.Los terribles números musicales tampoco ayudan.El corto que hicieron con el mismo título tiene más risas.   \n",
              "572                                                                                                                                                          No sé si recomendar esta película a los fanáticos de \"Tetsuo\" o no. ¿Por qué \"Tetsuo\"? Debido a que puede etiquetar fácilmente algunas cosas sobre esta película como una estafa \"Tetsuo\" muy obvia. El concepto es similar, la edición es igualmente frenética y rápida, lo cual es bueno porque, además, aparte de hacer que la película sea más dinámica, oscurece algunos defectos causados ​​por un bajo presupuesto y otros factores. Hay mucha más sangre, menos erotismo y, en el caso. de la \"máquina de albóndiga\", la transformación del ser humano en una criatura que es parcialmente una máquina (sonidos familiares \", llamada\" necroborg \"(muy original) es causada por pequeños alienígenas viscosas. Estas pequeñas escándulas viscosas del espacio exterior en realidad usan seres humanos como Buques para sus juegos de gladiadores que juegan entre sí. Infestan el cuerpo, de alguna manera logran poner una cantidad de piezas mecánicas de una lucha mecánica en ella, atrasándolas aparentemente de la nada y convertirla en una máquina de asesinato que se dirige a otros Necroborgs. Su objetivo es derrotar a otro extranjero que está en otro Necroborg, rígelo fuera del cadáver y cadánelo .Todo en total, la trama suena un poco tonta y no esperaba mucho, pero al final disfruté de esta película. Como dije antes, esta es una película de bajo presupuesto, pero sigue siendo relativamente decente. No esperes mucho de los actores, en su mayoría no son muy buenos, pero se puede tolerar. Me gustó el ambiente y la Gore, ciertas situaciones extrañas y la forma en que la película está dirigida y editada. Aunque la historia no es demasiado original, posee cierto encanto, a mí, al menos .7 de 10.   \n",
              "92                                                                                                                                                                                                                                                                                                                                                                                                                                                                                                                                                                                                                                                                                                                                                                                                                        Eso es lo que t.v.debiera ser.Y empujar margaritas vive hasta esas expectativas.Un espectáculo bellamente hecho y bien diseñado, empujando a las margaritas es uno de los pocos espectáculos que quedan en la hora máxima que tiene integridad, es bueno para toda la familia y desplaza su imaginación.No se trata de la acción normal, el sexo, el dinero o los ángulos de asesinato de todos los demás show en T.V.Es un espectáculo que te hace pensar y reír, pero aunque la trama básica puede parecer imposible, los conceptos son reales para todos nosotros.Queriendo algo que no puedas tener, esperando que alguien nos quiera, huyendo de su pasado y buscando a la familia, incluso en los lugares más improbables, etc. Me doy cuenta de que ABC ha cancelado básicamente este maravilloso espectáculo en este punto., y lo más probable es que lo reemplace con algún programa más allá del punto de integridad.Supongo que todo vuelve al dinero ... es demasiado malo que ahora no haya otros programas en ABC que en realidad te hacen sentir bien después de mirar.   \n",
              "658                                                                                                                                                                                                                                                                                                                                                                                                                                                                                                                                                                                                                                                                                                                                                                                                                                                                                                                                                                                                                                                                                                                                                 O bien amarás o odiarás películas como este thriller colocado dentro de un asilo solitario en una tierra solitaria lejana.No es una demostración de terror, sino una mezcla de imágenes aterradoras y pacientes mentales de Wackoide.\"Scream\" es el mejor término para usar en lo que obviamente fue un lugar clásico popular que se destacó para algunos comportamientos extraños y malvados.¡Note el \"juez\", que está a punto de ponerse el hacha detrás del médico!BRR-R-R-R-R !!!No se puede describir mucho más que aquí, aparte de una bondad sabrosa sangrienta, pero cuando tienes la oportunidad, recuerda el viejo dicho que dice el viejo dicho por la dama Hag: \"¡Salga! ¡Salga! ¡Y nunca vuelvas!\".¿No deseas que no hayas mirado en el sótano?   \n",
              "284                                                                                                                                                                                                                                                                                                                                                                                                                                                                                                                                                                                                                                                                                                                                                                                                                                                                                                                                                                                                                                                                                                                                      Está bien, así que esto no era lo que esperaba.Alquilé esta película solo para ver cómo sería desde que quiero ver el primero de todos modos.Pero, esta película tenía la película de B por todas partes.Pero cuando lo vi, me di cuenta de que era muy divertido.Durante los primeros 30 minutos, fue cómo el muñeco de nieve estaba kiiling, gente y un hombre perdiendo su cordura.Pero, esos primeros minutos tuvieron algunos forros divertidos en él.Cuando lanza el primero de sus pequeños minions, sabía que esto sería muy divertido.Todos actúan como los gremlins en el noveno de ochenta y cuatro golpes de gremlins que lo hicieron, parecía que era falsificándolo y me hizo olvidar que era una película de B.Así que si te gusta reírse alquilar este.   \n",
              "749                                                                                                                                                                                                                                                                                                                                                                                                                                                                                                                                                                                                                                                                                                                                                                                                                                                                                                                                                                                                                                                                                       Tengo que admitir que me puse a esto, pensando que algo tendría que suceder, además del cadáver en las primeras escenas ... y su disposición de él.Estaba equivocado.Fue un cine vertical de Betty hits la playa encerrada por la primera parte de Mordant Morven.Realmente, realmente no me importa lo que las alasas jóvenes de Escocia hagan estos días, que tu tornillo, qué drogas toman.Visualmente, el paseo por el Cabo de Gata en Andalucía fue agradable y seguramente el punto más alto para mí.El Nadir era la tienda de chop a su novio muerto.A medida que la película se acercaba a mí, tenía dos pensamientos ... 1. Eso es todo lo que hay?2. Ahora veo por qué su novio se mató a sí mismo.Renombrarlo.\"Burs Bitch Boredom, o lo que hice en mi viaje a España\".Soy un tonto para sacar estas cosas.   \n",
              "\n",
              "     actual  predicted  \n",
              "887       0          1  \n",
              "581       0          1  \n",
              "971       0          1  \n",
              "393       0          1  \n",
              "67        0          1  \n",
              "572       1          0  \n",
              "92        1          0  \n",
              "658       1          0  \n",
              "284       1          0  \n",
              "749       0          1  "
            ],
            "text/html": [
              "\n",
              "  <div id=\"df-e6080ecc-55a8-4bd6-aac3-986c6e754491\">\n",
              "    <div class=\"colab-df-container\">\n",
              "      <div>\n",
              "<style scoped>\n",
              "    .dataframe tbody tr th:only-of-type {\n",
              "        vertical-align: middle;\n",
              "    }\n",
              "\n",
              "    .dataframe tbody tr th {\n",
              "        vertical-align: top;\n",
              "    }\n",
              "\n",
              "    .dataframe thead th {\n",
              "        text-align: right;\n",
              "    }\n",
              "</style>\n",
              "<table border=\"1\" class=\"dataframe\">\n",
              "  <thead>\n",
              "    <tr style=\"text-align: right;\">\n",
              "      <th></th>\n",
              "      <th>review_es</th>\n",
              "      <th>actual</th>\n",
              "      <th>predicted</th>\n",
              "    </tr>\n",
              "  </thead>\n",
              "  <tbody>\n",
              "    <tr>\n",
              "      <th>887</th>\n",
              "      <td>Confieso: Emma, ​​en mi opinión, es la mejor novela más grande jamás escrita. Está tan cerca de la perfección, ya que puede ser cualquier creación mortal. Jane Austen llega al pináculo de su arte aquí. Desafortunadamente, esto es, en el mejor de los casos, una versión de Gwynett Paltrow es inevitable, esa versión es mucho más fiel al espíritu ingenioso del libro y mucho más agradable para ver. Hay algunos buenos elementos aquí: Kate Berkinsale (Habiendo jugado previamente la flora Poste en Fría Comfort Farm, claramente Emma's Smarter Spiritual gemelo) es una emma maravillosa. Raymond Coulthard hace una decoración apropiada Frank Churchill. La producción es guapo, pero los interiores son demasiado oscuros. Sin embargo, hay varios problemas importantes. El primero es Mark Strong, en primer lugar, no se ve bien para el Sr. Knightley. Esto es quizás porque juega el papel como un párroco victoriano censurable. Está muy fuera de la melodía. El segundo problema es de la longitud. En pocas palabras, la película es demasiado corta: para obtener el tipo de sensación correcto, tendría que ser el doble de largo. Finalmente, y lo más significativamente, existe la calidad de la adaptación. Austen es el sueño de un adaptador, todo el diálogo ya está allí. Solo necesita ser podado y arreglado adecuadamente. Andrew Davies parece pensar de otra manera. Primero, esta es una película bastante sombría, y lo último que debe ser Emma es sombrío. Más significativamente, Davies ha visto apto para reescribir el final como algún tipo de fiesta bucólica. ¿De qué planeta, o trabajo menor de Thomas Hardy, es esto de? Está completamente fuera del estilo y el espíritu de la novela. Y creo que es enormemente presuntuoso para tratar de realizar mejoras en: una preservación de la versión de Paltrow, o observar a Kate en Fría Comfort Farm.</td>\n",
              "      <td>0</td>\n",
              "      <td>1</td>\n",
              "    </tr>\n",
              "    <tr>\n",
              "      <th>581</th>\n",
              "      <td>No podría relacionarme con esta película.No se convirtió en comprometerme intelectualmente, emocional o estéticamente.El diálogo fue muy denso y sin resolver.No podía conectarme y, por lo tanto, me preocupo por ninguno de los personajes y me resulta difícil encontrar mucho que sea positivo para decirlo. He leído que para entenderlo adecuadamente, se necesita familiarizarse con algunos de los másASPECTOS oscuros de la teología católica.Admito que, como ateo, probablemente estoy familiarizado con muchos de los detalles más finos del catolicismo, pero también he visto muchas películas que tratan los problemas religiosos que me han tocado porque sus temas siguen siendo universales para la condición humana y DonConfíe en el conocimiento o las creencias especializadas.</td>\n",
              "      <td>0</td>\n",
              "      <td>1</td>\n",
              "    </tr>\n",
              "    <tr>\n",
              "      <th>971</th>\n",
              "      <td>Mi esposa y yo vimos esta película porque planeamos visitar Sicilia y Stromboli pronto. Afortunadamente (o desafortunadamente) el paisaje y el paisaje marino (completo con atún) son los únicos miembros creíbles de este elenco. Esperábamos una película razonable bien escrita y bien actuada, pero nos decepcionó. Su única gracia redentora es una secuencia de pesca extendida y extraordinaria llena de autenticidad: thrashing atuna, redes, botes de madera con largos remos, y apasionados, aunque supersticiosos, pescadores. La secuenciación de la película está estrellada, su diálogo se precipitó, y la actuación varía de rigidez. para \"sobre-timbre\" por completo. Una escena, en la que Bergman se esfuerza como su macho, nativo e ingenuo, chifero, su hurón en un conejo \"inocente\" (pero aparentemente ya fallecido) sería un grano perfecto para un sketín de Monty Python. Cuando el volcán soplaba que esperábamos un misericordioso. Fin al sufrimiento (nuestro y los moldes '). Desafortunadamente, la película continúa corriendo, tambaleándose finalmente a un final melodramático y absurdo. A menos que esté realmente en la pesca de atún en el vejez, pase este esfuerzo de tanquilo.</td>\n",
              "      <td>0</td>\n",
              "      <td>1</td>\n",
              "    </tr>\n",
              "    <tr>\n",
              "      <th>393</th>\n",
              "      <td>Hoy, Bea Arthur murió, así que estaba navegando por el sitio web del IMDb y de alguna manera terminó en un espectáculo llamado \"Gloria\".\"Todo en la familia\" fue un espectáculo brillante por sus primeros cuatro o cinco años y apuesto a que observé a cada episodio más de una vez.Sin embargo, juro que no sabía un espectáculo llamado \"Gloria\" existía.Tal vez, eso es algo bueno.Tal vez, significa que tuve una vida como un adulto joven en lugar de ver la televisión. En la otra mano, es patético que la franquicia \"Todo en la familia\" se había deteriorado tanto que engendría un espectáculo que nunca he escuchado.Uno que se califica muy mal por los revisores anteriores. Calificó el programa 1 por dos razones: el sistema no me permitió registrar un no voto y los escritores y los ejecutores de televisión deben ser condenados por comenzar una demostración que no tenía un negocio.en el aire y besmirches el recuerdo de uno de los mejores espectáculos en la historia de la televisión. CHALOM, ZWRITE</td>\n",
              "      <td>0</td>\n",
              "      <td>1</td>\n",
              "    </tr>\n",
              "    <tr>\n",
              "      <th>67</th>\n",
              "      <td>Ni siquiera el fanático de Stooge más ardiente podría gustarle la película, (yo uno de ellos), los Stooges no se les da ningún material para trabajar.También es una vergüenza también porque esta es la única película de largometraje, los Stooges lo hicieron con rizado, y este esfuerzo por ellos es dolorosamente unido, cuando podría haber tenido un gran potencial.Los terribles números musicales tampoco ayudan.El corto que hicieron con el mismo título tiene más risas.</td>\n",
              "      <td>0</td>\n",
              "      <td>1</td>\n",
              "    </tr>\n",
              "    <tr>\n",
              "      <th>572</th>\n",
              "      <td>No sé si recomendar esta película a los fanáticos de \"Tetsuo\" o no. ¿Por qué \"Tetsuo\"? Debido a que puede etiquetar fácilmente algunas cosas sobre esta película como una estafa \"Tetsuo\" muy obvia. El concepto es similar, la edición es igualmente frenética y rápida, lo cual es bueno porque, además, aparte de hacer que la película sea más dinámica, oscurece algunos defectos causados ​​por un bajo presupuesto y otros factores. Hay mucha más sangre, menos erotismo y, en el caso. de la \"máquina de albóndiga\", la transformación del ser humano en una criatura que es parcialmente una máquina (sonidos familiares \", llamada\" necroborg \"(muy original) es causada por pequeños alienígenas viscosas. Estas pequeñas escándulas viscosas del espacio exterior en realidad usan seres humanos como Buques para sus juegos de gladiadores que juegan entre sí. Infestan el cuerpo, de alguna manera logran poner una cantidad de piezas mecánicas de una lucha mecánica en ella, atrasándolas aparentemente de la nada y convertirla en una máquina de asesinato que se dirige a otros Necroborgs. Su objetivo es derrotar a otro extranjero que está en otro Necroborg, rígelo fuera del cadáver y cadánelo .Todo en total, la trama suena un poco tonta y no esperaba mucho, pero al final disfruté de esta película. Como dije antes, esta es una película de bajo presupuesto, pero sigue siendo relativamente decente. No esperes mucho de los actores, en su mayoría no son muy buenos, pero se puede tolerar. Me gustó el ambiente y la Gore, ciertas situaciones extrañas y la forma en que la película está dirigida y editada. Aunque la historia no es demasiado original, posee cierto encanto, a mí, al menos .7 de 10.</td>\n",
              "      <td>1</td>\n",
              "      <td>0</td>\n",
              "    </tr>\n",
              "    <tr>\n",
              "      <th>92</th>\n",
              "      <td>Eso es lo que t.v.debiera ser.Y empujar margaritas vive hasta esas expectativas.Un espectáculo bellamente hecho y bien diseñado, empujando a las margaritas es uno de los pocos espectáculos que quedan en la hora máxima que tiene integridad, es bueno para toda la familia y desplaza su imaginación.No se trata de la acción normal, el sexo, el dinero o los ángulos de asesinato de todos los demás show en T.V.Es un espectáculo que te hace pensar y reír, pero aunque la trama básica puede parecer imposible, los conceptos son reales para todos nosotros.Queriendo algo que no puedas tener, esperando que alguien nos quiera, huyendo de su pasado y buscando a la familia, incluso en los lugares más improbables, etc. Me doy cuenta de que ABC ha cancelado básicamente este maravilloso espectáculo en este punto., y lo más probable es que lo reemplace con algún programa más allá del punto de integridad.Supongo que todo vuelve al dinero ... es demasiado malo que ahora no haya otros programas en ABC que en realidad te hacen sentir bien después de mirar.</td>\n",
              "      <td>1</td>\n",
              "      <td>0</td>\n",
              "    </tr>\n",
              "    <tr>\n",
              "      <th>658</th>\n",
              "      <td>O bien amarás o odiarás películas como este thriller colocado dentro de un asilo solitario en una tierra solitaria lejana.No es una demostración de terror, sino una mezcla de imágenes aterradoras y pacientes mentales de Wackoide.\"Scream\" es el mejor término para usar en lo que obviamente fue un lugar clásico popular que se destacó para algunos comportamientos extraños y malvados.¡Note el \"juez\", que está a punto de ponerse el hacha detrás del médico!BRR-R-R-R-R !!!No se puede describir mucho más que aquí, aparte de una bondad sabrosa sangrienta, pero cuando tienes la oportunidad, recuerda el viejo dicho que dice el viejo dicho por la dama Hag: \"¡Salga! ¡Salga! ¡Y nunca vuelvas!\".¿No deseas que no hayas mirado en el sótano?</td>\n",
              "      <td>1</td>\n",
              "      <td>0</td>\n",
              "    </tr>\n",
              "    <tr>\n",
              "      <th>284</th>\n",
              "      <td>Está bien, así que esto no era lo que esperaba.Alquilé esta película solo para ver cómo sería desde que quiero ver el primero de todos modos.Pero, esta película tenía la película de B por todas partes.Pero cuando lo vi, me di cuenta de que era muy divertido.Durante los primeros 30 minutos, fue cómo el muñeco de nieve estaba kiiling, gente y un hombre perdiendo su cordura.Pero, esos primeros minutos tuvieron algunos forros divertidos en él.Cuando lanza el primero de sus pequeños minions, sabía que esto sería muy divertido.Todos actúan como los gremlins en el noveno de ochenta y cuatro golpes de gremlins que lo hicieron, parecía que era falsificándolo y me hizo olvidar que era una película de B.Así que si te gusta reírse alquilar este.</td>\n",
              "      <td>1</td>\n",
              "      <td>0</td>\n",
              "    </tr>\n",
              "    <tr>\n",
              "      <th>749</th>\n",
              "      <td>Tengo que admitir que me puse a esto, pensando que algo tendría que suceder, además del cadáver en las primeras escenas ... y su disposición de él.Estaba equivocado.Fue un cine vertical de Betty hits la playa encerrada por la primera parte de Mordant Morven.Realmente, realmente no me importa lo que las alasas jóvenes de Escocia hagan estos días, que tu tornillo, qué drogas toman.Visualmente, el paseo por el Cabo de Gata en Andalucía fue agradable y seguramente el punto más alto para mí.El Nadir era la tienda de chop a su novio muerto.A medida que la película se acercaba a mí, tenía dos pensamientos ... 1. Eso es todo lo que hay?2. Ahora veo por qué su novio se mató a sí mismo.Renombrarlo.\"Burs Bitch Boredom, o lo que hice en mi viaje a España\".Soy un tonto para sacar estas cosas.</td>\n",
              "      <td>0</td>\n",
              "      <td>1</td>\n",
              "    </tr>\n",
              "  </tbody>\n",
              "</table>\n",
              "</div>\n",
              "      <button class=\"colab-df-convert\" onclick=\"convertToInteractive('df-e6080ecc-55a8-4bd6-aac3-986c6e754491')\"\n",
              "              title=\"Convert this dataframe to an interactive table.\"\n",
              "              style=\"display:none;\">\n",
              "        \n",
              "  <svg xmlns=\"http://www.w3.org/2000/svg\" height=\"24px\"viewBox=\"0 0 24 24\"\n",
              "       width=\"24px\">\n",
              "    <path d=\"M0 0h24v24H0V0z\" fill=\"none\"/>\n",
              "    <path d=\"M18.56 5.44l.94 2.06.94-2.06 2.06-.94-2.06-.94-.94-2.06-.94 2.06-2.06.94zm-11 1L8.5 8.5l.94-2.06 2.06-.94-2.06-.94L8.5 2.5l-.94 2.06-2.06.94zm10 10l.94 2.06.94-2.06 2.06-.94-2.06-.94-.94-2.06-.94 2.06-2.06.94z\"/><path d=\"M17.41 7.96l-1.37-1.37c-.4-.4-.92-.59-1.43-.59-.52 0-1.04.2-1.43.59L10.3 9.45l-7.72 7.72c-.78.78-.78 2.05 0 2.83L4 21.41c.39.39.9.59 1.41.59.51 0 1.02-.2 1.41-.59l7.78-7.78 2.81-2.81c.8-.78.8-2.07 0-2.86zM5.41 20L4 18.59l7.72-7.72 1.47 1.35L5.41 20z\"/>\n",
              "  </svg>\n",
              "      </button>\n",
              "      \n",
              "  <style>\n",
              "    .colab-df-container {\n",
              "      display:flex;\n",
              "      flex-wrap:wrap;\n",
              "      gap: 12px;\n",
              "    }\n",
              "\n",
              "    .colab-df-convert {\n",
              "      background-color: #E8F0FE;\n",
              "      border: none;\n",
              "      border-radius: 50%;\n",
              "      cursor: pointer;\n",
              "      display: none;\n",
              "      fill: #1967D2;\n",
              "      height: 32px;\n",
              "      padding: 0 0 0 0;\n",
              "      width: 32px;\n",
              "    }\n",
              "\n",
              "    .colab-df-convert:hover {\n",
              "      background-color: #E2EBFA;\n",
              "      box-shadow: 0px 1px 2px rgba(60, 64, 67, 0.3), 0px 1px 3px 1px rgba(60, 64, 67, 0.15);\n",
              "      fill: #174EA6;\n",
              "    }\n",
              "\n",
              "    [theme=dark] .colab-df-convert {\n",
              "      background-color: #3B4455;\n",
              "      fill: #D2E3FC;\n",
              "    }\n",
              "\n",
              "    [theme=dark] .colab-df-convert:hover {\n",
              "      background-color: #434B5C;\n",
              "      box-shadow: 0px 1px 3px 1px rgba(0, 0, 0, 0.15);\n",
              "      filter: drop-shadow(0px 1px 2px rgba(0, 0, 0, 0.3));\n",
              "      fill: #FFFFFF;\n",
              "    }\n",
              "  </style>\n",
              "\n",
              "      <script>\n",
              "        const buttonEl =\n",
              "          document.querySelector('#df-e6080ecc-55a8-4bd6-aac3-986c6e754491 button.colab-df-convert');\n",
              "        buttonEl.style.display =\n",
              "          google.colab.kernel.accessAllowed ? 'block' : 'none';\n",
              "\n",
              "        async function convertToInteractive(key) {\n",
              "          const element = document.querySelector('#df-e6080ecc-55a8-4bd6-aac3-986c6e754491');\n",
              "          const dataTable =\n",
              "            await google.colab.kernel.invokeFunction('convertToInteractive',\n",
              "                                                     [key], {});\n",
              "          if (!dataTable) return;\n",
              "\n",
              "          const docLinkHtml = 'Like what you see? Visit the ' +\n",
              "            '<a target=\"_blank\" href=https://colab.research.google.com/notebooks/data_table.ipynb>data table notebook</a>'\n",
              "            + ' to learn more about interactive tables.';\n",
              "          element.innerHTML = '';\n",
              "          dataTable['output_type'] = 'display_data';\n",
              "          await google.colab.output.renderOutput(dataTable, element);\n",
              "          const docLink = document.createElement('div');\n",
              "          docLink.innerHTML = docLinkHtml;\n",
              "          element.appendChild(docLink);\n",
              "        }\n",
              "      </script>\n",
              "    </div>\n",
              "  </div>\n",
              "  "
            ]
          },
          "metadata": {},
          "execution_count": 61
        }
      ]
    },
    {
      "cell_type": "markdown",
      "source": [
        "# Metodo 1: KNN\n",
        "Juan Felipe Patiño 201922857"
      ],
      "metadata": {
        "id": "wRqtq1zNPJpr"
      }
    },
    {
      "cell_type": "code",
      "source": [
        "knn_model = KNeighborsClassifier(n_neighbors = 3) # 5 neighbors is the default value"
      ],
      "metadata": {
        "id": "pGKGN6J0TtPB"
      },
      "execution_count": 60,
      "outputs": []
    },
    {
      "cell_type": "code",
      "source": [
        "knn_model.fit(X_bow, y_train)"
      ],
      "metadata": {
        "colab": {
          "base_uri": "https://localhost:8080/",
          "height": 74
        },
        "id": "k_sqHiEGTtQ8",
        "outputId": "d91b95fc-2ef3-4511-88d2-5a69dfae4a2b"
      },
      "execution_count": 61,
      "outputs": [
        {
          "output_type": "execute_result",
          "data": {
            "text/plain": [
              "KNeighborsClassifier(n_neighbors=3)"
            ],
            "text/html": [
              "<style>#sk-container-id-3 {color: black;background-color: white;}#sk-container-id-3 pre{padding: 0;}#sk-container-id-3 div.sk-toggleable {background-color: white;}#sk-container-id-3 label.sk-toggleable__label {cursor: pointer;display: block;width: 100%;margin-bottom: 0;padding: 0.3em;box-sizing: border-box;text-align: center;}#sk-container-id-3 label.sk-toggleable__label-arrow:before {content: \"▸\";float: left;margin-right: 0.25em;color: #696969;}#sk-container-id-3 label.sk-toggleable__label-arrow:hover:before {color: black;}#sk-container-id-3 div.sk-estimator:hover label.sk-toggleable__label-arrow:before {color: black;}#sk-container-id-3 div.sk-toggleable__content {max-height: 0;max-width: 0;overflow: hidden;text-align: left;background-color: #f0f8ff;}#sk-container-id-3 div.sk-toggleable__content pre {margin: 0.2em;color: black;border-radius: 0.25em;background-color: #f0f8ff;}#sk-container-id-3 input.sk-toggleable__control:checked~div.sk-toggleable__content {max-height: 200px;max-width: 100%;overflow: auto;}#sk-container-id-3 input.sk-toggleable__control:checked~label.sk-toggleable__label-arrow:before {content: \"▾\";}#sk-container-id-3 div.sk-estimator input.sk-toggleable__control:checked~label.sk-toggleable__label {background-color: #d4ebff;}#sk-container-id-3 div.sk-label input.sk-toggleable__control:checked~label.sk-toggleable__label {background-color: #d4ebff;}#sk-container-id-3 input.sk-hidden--visually {border: 0;clip: rect(1px 1px 1px 1px);clip: rect(1px, 1px, 1px, 1px);height: 1px;margin: -1px;overflow: hidden;padding: 0;position: absolute;width: 1px;}#sk-container-id-3 div.sk-estimator {font-family: monospace;background-color: #f0f8ff;border: 1px dotted black;border-radius: 0.25em;box-sizing: border-box;margin-bottom: 0.5em;}#sk-container-id-3 div.sk-estimator:hover {background-color: #d4ebff;}#sk-container-id-3 div.sk-parallel-item::after {content: \"\";width: 100%;border-bottom: 1px solid gray;flex-grow: 1;}#sk-container-id-3 div.sk-label:hover label.sk-toggleable__label {background-color: #d4ebff;}#sk-container-id-3 div.sk-serial::before {content: \"\";position: absolute;border-left: 1px solid gray;box-sizing: border-box;top: 0;bottom: 0;left: 50%;z-index: 0;}#sk-container-id-3 div.sk-serial {display: flex;flex-direction: column;align-items: center;background-color: white;padding-right: 0.2em;padding-left: 0.2em;position: relative;}#sk-container-id-3 div.sk-item {position: relative;z-index: 1;}#sk-container-id-3 div.sk-parallel {display: flex;align-items: stretch;justify-content: center;background-color: white;position: relative;}#sk-container-id-3 div.sk-item::before, #sk-container-id-3 div.sk-parallel-item::before {content: \"\";position: absolute;border-left: 1px solid gray;box-sizing: border-box;top: 0;bottom: 0;left: 50%;z-index: -1;}#sk-container-id-3 div.sk-parallel-item {display: flex;flex-direction: column;z-index: 1;position: relative;background-color: white;}#sk-container-id-3 div.sk-parallel-item:first-child::after {align-self: flex-end;width: 50%;}#sk-container-id-3 div.sk-parallel-item:last-child::after {align-self: flex-start;width: 50%;}#sk-container-id-3 div.sk-parallel-item:only-child::after {width: 0;}#sk-container-id-3 div.sk-dashed-wrapped {border: 1px dashed gray;margin: 0 0.4em 0.5em 0.4em;box-sizing: border-box;padding-bottom: 0.4em;background-color: white;}#sk-container-id-3 div.sk-label label {font-family: monospace;font-weight: bold;display: inline-block;line-height: 1.2em;}#sk-container-id-3 div.sk-label-container {text-align: center;}#sk-container-id-3 div.sk-container {/* jupyter's `normalize.less` sets `[hidden] { display: none; }` but bootstrap.min.css set `[hidden] { display: none !important; }` so we also need the `!important` here to be able to override the default hidden behavior on the sphinx rendered scikit-learn.org. See: https://github.com/scikit-learn/scikit-learn/issues/21755 */display: inline-block !important;position: relative;}#sk-container-id-3 div.sk-text-repr-fallback {display: none;}</style><div id=\"sk-container-id-3\" class=\"sk-top-container\"><div class=\"sk-text-repr-fallback\"><pre>KNeighborsClassifier(n_neighbors=3)</pre><b>In a Jupyter environment, please rerun this cell to show the HTML representation or trust the notebook. <br />On GitHub, the HTML representation is unable to render, please try loading this page with nbviewer.org.</b></div><div class=\"sk-container\" hidden><div class=\"sk-item\"><div class=\"sk-estimator sk-toggleable\"><input class=\"sk-toggleable__control sk-hidden--visually\" id=\"sk-estimator-id-3\" type=\"checkbox\" checked><label for=\"sk-estimator-id-3\" class=\"sk-toggleable__label sk-toggleable__label-arrow\">KNeighborsClassifier</label><div class=\"sk-toggleable__content\"><pre>KNeighborsClassifier(n_neighbors=3)</pre></div></div></div></div></div>"
            ]
          },
          "metadata": {},
          "execution_count": 61
        }
      ]
    },
    {
      "cell_type": "code",
      "source": [
        "bow.transform(X_test)"
      ],
      "metadata": {
        "colab": {
          "base_uri": "https://localhost:8080/"
        },
        "id": "KTnBQN3PZx0_",
        "outputId": "1d1399a2-1a33-429a-b3fa-a71f7c0ac926"
      },
      "execution_count": 62,
      "outputs": [
        {
          "output_type": "execute_result",
          "data": {
            "text/plain": [
              "<1000x24988 sparse matrix of type '<class 'numpy.int64'>'\n",
              "\twith 99944 stored elements in Compressed Sparse Row format>"
            ]
          },
          "metadata": {},
          "execution_count": 62
        }
      ]
    },
    {
      "cell_type": "code",
      "execution_count": 63,
      "metadata": {
        "id": "j5ljqJPqNrYx"
      },
      "outputs": [],
      "source": [
        "# Generación de predicciones para entrenamiento y test para el cálculo de errores\n",
        "preds_train = knn_model.predict(X_bow)\n",
        "preds_test = knn_model.predict(bow.transform(X_test))"
      ]
    },
    {
      "cell_type": "code",
      "execution_count": 64,
      "metadata": {
        "colab": {
          "base_uri": "https://localhost:8080/"
        },
        "id": "USIv1M_7NrYy",
        "outputId": "9cc7aeac-72ef-4e7b-8569-733422d63d44"
      },
      "outputs": [
        {
          "output_type": "stream",
          "name": "stdout",
          "text": [
            "Accuracy (train): 0.76375\n",
            "Accuracy (test): 0.557\n"
          ]
        }
      ],
      "source": [
        "# Se evalua la accuracy (1 - error) del \"modelo\" en ambos conjuntos en términos porcentuales: porcetaje de instancias bien etiquetadas:\n",
        "print('Accuracy (train):', accuracy_score(y_train, preds_train))\n",
        "print('Accuracy (test):', accuracy_score(y_test, preds_test))"
      ]
    },
    {
      "cell_type": "code",
      "execution_count": 65,
      "metadata": {
        "colab": {
          "base_uri": "https://localhost:8080/",
          "height": 872
        },
        "id": "Ge2Gi4O4NrYy",
        "outputId": "ef534f2f-5d54-48d4-8f03-60aace0633af"
      },
      "outputs": [
        {
          "output_type": "display_data",
          "data": {
            "text/plain": [
              "<Figure size 1300x1000 with 8 Axes>"
            ],
            "image/png": "[encoded data removed]"
          },
          "metadata": {}
        }
      ],
      "source": [
        "# Se empieza calculando la matriz de confusión\n",
        "\n",
        "cm_train = confusion_matrix(y_train, preds_train, labels = knn_model.classes_)\n",
        "cm_train_norm = confusion_matrix(y_train, preds_train, labels = knn_model.classes_, normalize = 'true')\n",
        "cm_test = confusion_matrix(y_test, preds_test, labels = knn_model.classes_)\n",
        "cm_test_norm = confusion_matrix(y_test, preds_test, labels = knn_model.classes_, normalize = 'true')\n",
        "\n",
        "fig, ((ax1, ax2), (ax3, ax4)) = plt.subplots(2, 2, figsize = (13, 10))\n",
        "ConfusionMatrixDisplay(confusion_matrix = cm_train, display_labels = knn_model.classes_).plot(ax = ax1, values_format = ',.0f')\n",
        "ConfusionMatrixDisplay(confusion_matrix = cm_train_norm, display_labels = knn_model.classes_).plot(ax = ax2, values_format = '.3f')\n",
        "ConfusionMatrixDisplay(confusion_matrix = cm_test, display_labels = knn_model.classes_).plot(ax = ax3, values_format = ',.0f')\n",
        "ConfusionMatrixDisplay(confusion_matrix = cm_test_norm, display_labels = knn_model.classes_).plot(ax = ax4, values_format = '.3f')\n",
        "\n",
        "ax1.set_title('Train')\n",
        "ax2.set_title('Train (normalized)')\n",
        "ax3.set_title('Test')\n",
        "ax4.set_title('Test (normalized)')\n",
        "plt.show()"
      ]
    },
    {
      "cell_type": "code",
      "execution_count": 66,
      "metadata": {
        "colab": {
          "base_uri": "https://localhost:8080/",
          "height": 175
        },
        "id": "AZYfeT_9NrYy",
        "outputId": "43201ca7-c93c-4577-aad2-cf944cddbee8"
      },
      "outputs": [
        {
          "output_type": "execute_result",
          "data": {
            "text/plain": [
              "              Train      Test\n",
              "Accuracy   0.763750  0.557000\n",
              "Precision  0.808660  0.570025\n",
              "Recall     0.691000  0.464000\n",
              "F1         0.745214  0.511577"
            ],
            "text/html": [
              "\n",
              "  <div id=\"df-58a7fe76-dddd-49c2-9bdf-b985c99ecf91\">\n",
              "    <div class=\"colab-df-container\">\n",
              "      <div>\n",
              "<style scoped>\n",
              "    .dataframe tbody tr th:only-of-type {\n",
              "        vertical-align: middle;\n",
              "    }\n",
              "\n",
              "    .dataframe tbody tr th {\n",
              "        vertical-align: top;\n",
              "    }\n",
              "\n",
              "    .dataframe thead th {\n",
              "        text-align: right;\n",
              "    }\n",
              "</style>\n",
              "<table border=\"1\" class=\"dataframe\">\n",
              "  <thead>\n",
              "    <tr style=\"text-align: right;\">\n",
              "      <th></th>\n",
              "      <th>Train</th>\n",
              "      <th>Test</th>\n",
              "    </tr>\n",
              "  </thead>\n",
              "  <tbody>\n",
              "    <tr>\n",
              "      <th>Accuracy</th>\n",
              "      <td>0.763750</td>\n",
              "      <td>0.557000</td>\n",
              "    </tr>\n",
              "    <tr>\n",
              "      <th>Precision</th>\n",
              "      <td>0.808660</td>\n",
              "      <td>0.570025</td>\n",
              "    </tr>\n",
              "    <tr>\n",
              "      <th>Recall</th>\n",
              "      <td>0.691000</td>\n",
              "      <td>0.464000</td>\n",
              "    </tr>\n",
              "    <tr>\n",
              "      <th>F1</th>\n",
              "      <td>0.745214</td>\n",
              "      <td>0.511577</td>\n",
              "    </tr>\n",
              "  </tbody>\n",
              "</table>\n",
              "</div>\n",
              "      <button class=\"colab-df-convert\" onclick=\"convertToInteractive('df-58a7fe76-dddd-49c2-9bdf-b985c99ecf91')\"\n",
              "              title=\"Convert this dataframe to an interactive table.\"\n",
              "              style=\"display:none;\">\n",
              "        \n",
              "  <svg xmlns=\"http://www.w3.org/2000/svg\" height=\"24px\"viewBox=\"0 0 24 24\"\n",
              "       width=\"24px\">\n",
              "    <path d=\"M0 0h24v24H0V0z\" fill=\"none\"/>\n",
              "    <path d=\"M18.56 5.44l.94 2.06.94-2.06 2.06-.94-2.06-.94-.94-2.06-.94 2.06-2.06.94zm-11 1L8.5 8.5l.94-2.06 2.06-.94-2.06-.94L8.5 2.5l-.94 2.06-2.06.94zm10 10l.94 2.06.94-2.06 2.06-.94-2.06-.94-.94-2.06-.94 2.06-2.06.94z\"/><path d=\"M17.41 7.96l-1.37-1.37c-.4-.4-.92-.59-1.43-.59-.52 0-1.04.2-1.43.59L10.3 9.45l-7.72 7.72c-.78.78-.78 2.05 0 2.83L4 21.41c.39.39.9.59 1.41.59.51 0 1.02-.2 1.41-.59l7.78-7.78 2.81-2.81c.8-.78.8-2.07 0-2.86zM5.41 20L4 18.59l7.72-7.72 1.47 1.35L5.41 20z\"/>\n",
              "  </svg>\n",
              "      </button>\n",
              "      \n",
              "  <style>\n",
              "    .colab-df-container {\n",
              "      display:flex;\n",
              "      flex-wrap:wrap;\n",
              "      gap: 12px;\n",
              "    }\n",
              "\n",
              "    .colab-df-convert {\n",
              "      background-color: #E8F0FE;\n",
              "      border: none;\n",
              "      border-radius: 50%;\n",
              "      cursor: pointer;\n",
              "      display: none;\n",
              "      fill: #1967D2;\n",
              "      height: 32px;\n",
              "      padding: 0 0 0 0;\n",
              "      width: 32px;\n",
              "    }\n",
              "\n",
              "    .colab-df-convert:hover {\n",
              "      background-color: #E2EBFA;\n",
              "      box-shadow: 0px 1px 2px rgba(60, 64, 67, 0.3), 0px 1px 3px 1px rgba(60, 64, 67, 0.15);\n",
              "      fill: #174EA6;\n",
              "    }\n",
              "\n",
              "    [theme=dark] .colab-df-convert {\n",
              "      background-color: #3B4455;\n",
              "      fill: #D2E3FC;\n",
              "    }\n",
              "\n",
              "    [theme=dark] .colab-df-convert:hover {\n",
              "      background-color: #434B5C;\n",
              "      box-shadow: 0px 1px 3px 1px rgba(0, 0, 0, 0.15);\n",
              "      filter: drop-shadow(0px 1px 2px rgba(0, 0, 0, 0.3));\n",
              "      fill: #FFFFFF;\n",
              "    }\n",
              "  </style>\n",
              "\n",
              "      <script>\n",
              "        const buttonEl =\n",
              "          document.querySelector('#df-58a7fe76-dddd-49c2-9bdf-b985c99ecf91 button.colab-df-convert');\n",
              "        buttonEl.style.display =\n",
              "          google.colab.kernel.accessAllowed ? 'block' : 'none';\n",
              "\n",
              "        async function convertToInteractive(key) {\n",
              "          const element = document.querySelector('#df-58a7fe76-dddd-49c2-9bdf-b985c99ecf91');\n",
              "          const dataTable =\n",
              "            await google.colab.kernel.invokeFunction('convertToInteractive',\n",
              "                                                     [key], {});\n",
              "          if (!dataTable) return;\n",
              "\n",
              "          const docLinkHtml = 'Like what you see? Visit the ' +\n",
              "            '<a target=\"_blank\" href=https://colab.research.google.com/notebooks/data_table.ipynb>data table notebook</a>'\n",
              "            + ' to learn more about interactive tables.';\n",
              "          element.innerHTML = '';\n",
              "          dataTable['output_type'] = 'display_data';\n",
              "          await google.colab.output.renderOutput(dataTable, element);\n",
              "          const docLink = document.createElement('div');\n",
              "          docLink.innerHTML = docLinkHtml;\n",
              "          element.appendChild(docLink);\n",
              "        }\n",
              "      </script>\n",
              "    </div>\n",
              "  </div>\n",
              "  "
            ]
          },
          "metadata": {},
          "execution_count": 66
        }
      ],
      "source": [
        "# Se calculan las diferentes métricas de error para una comparacion más directa:\n",
        "pd.DataFrame([\n",
        "    {\n",
        "        'Train': accuracy_score(y_train, preds_train),\n",
        "        'Test': accuracy_score(y_test, preds_test)\n",
        "    },\n",
        "    {\n",
        "        'Train': precision_score(y_train, preds_train),\n",
        "        'Test': precision_score(y_test, preds_test)\n",
        "    },\n",
        "    {\n",
        "        'Train': recall_score(y_train, preds_train),\n",
        "        'Test': recall_score(y_test, preds_test)\n",
        "    },\n",
        "    {\n",
        "        'Train': f1_score(y_train, preds_train),\n",
        "        'Test': f1_score(y_test, preds_test)\n",
        "    }\n",
        "], index = ['Accuracy', 'Precision', 'Recall', 'F1'])"
      ]
    },
    {
      "cell_type": "markdown",
      "source": [
        "# Metodo 2: Decision Tree\n",
        "Juan Felipe Patiño 201922857"
      ],
      "metadata": {
        "id": "tB75LnU3PNu2"
      }
    },
    {
      "cell_type": "code",
      "source": [
        "bow_model = RandomForestClassifier(random_state = 2)"
      ],
      "metadata": {
        "id": "XpXbbVo2R3WM"
      },
      "execution_count": 67,
      "outputs": []
    },
    {
      "cell_type": "code",
      "source": [
        "bow_model.fit(X_bow, y_train)"
      ],
      "metadata": {
        "colab": {
          "base_uri": "https://localhost:8080/",
          "height": 74
        },
        "outputId": "a2b5be40-1a0b-4027-bc42-be14978955a7",
        "id": "HFXrnrUER3WN"
      },
      "execution_count": 68,
      "outputs": [
        {
          "output_type": "execute_result",
          "data": {
            "text/plain": [
              "RandomForestClassifier(random_state=2)"
            ],
            "text/html": [
              "<style>#sk-container-id-4 {color: black;background-color: white;}#sk-container-id-4 pre{padding: 0;}#sk-container-id-4 div.sk-toggleable {background-color: white;}#sk-container-id-4 label.sk-toggleable__label {cursor: pointer;display: block;width: 100%;margin-bottom: 0;padding: 0.3em;box-sizing: border-box;text-align: center;}#sk-container-id-4 label.sk-toggleable__label-arrow:before {content: \"▸\";float: left;margin-right: 0.25em;color: #696969;}#sk-container-id-4 label.sk-toggleable__label-arrow:hover:before {color: black;}#sk-container-id-4 div.sk-estimator:hover label.sk-toggleable__label-arrow:before {color: black;}#sk-container-id-4 div.sk-toggleable__content {max-height: 0;max-width: 0;overflow: hidden;text-align: left;background-color: #f0f8ff;}#sk-container-id-4 div.sk-toggleable__content pre {margin: 0.2em;color: black;border-radius: 0.25em;background-color: #f0f8ff;}#sk-container-id-4 input.sk-toggleable__control:checked~div.sk-toggleable__content {max-height: 200px;max-width: 100%;overflow: auto;}#sk-container-id-4 input.sk-toggleable__control:checked~label.sk-toggleable__label-arrow:before {content: \"▾\";}#sk-container-id-4 div.sk-estimator input.sk-toggleable__control:checked~label.sk-toggleable__label {background-color: #d4ebff;}#sk-container-id-4 div.sk-label input.sk-toggleable__control:checked~label.sk-toggleable__label {background-color: #d4ebff;}#sk-container-id-4 input.sk-hidden--visually {border: 0;clip: rect(1px 1px 1px 1px);clip: rect(1px, 1px, 1px, 1px);height: 1px;margin: -1px;overflow: hidden;padding: 0;position: absolute;width: 1px;}#sk-container-id-4 div.sk-estimator {font-family: monospace;background-color: #f0f8ff;border: 1px dotted black;border-radius: 0.25em;box-sizing: border-box;margin-bottom: 0.5em;}#sk-container-id-4 div.sk-estimator:hover {background-color: #d4ebff;}#sk-container-id-4 div.sk-parallel-item::after {content: \"\";width: 100%;border-bottom: 1px solid gray;flex-grow: 1;}#sk-container-id-4 div.sk-label:hover label.sk-toggleable__label {background-color: #d4ebff;}#sk-container-id-4 div.sk-serial::before {content: \"\";position: absolute;border-left: 1px solid gray;box-sizing: border-box;top: 0;bottom: 0;left: 50%;z-index: 0;}#sk-container-id-4 div.sk-serial {display: flex;flex-direction: column;align-items: center;background-color: white;padding-right: 0.2em;padding-left: 0.2em;position: relative;}#sk-container-id-4 div.sk-item {position: relative;z-index: 1;}#sk-container-id-4 div.sk-parallel {display: flex;align-items: stretch;justify-content: center;background-color: white;position: relative;}#sk-container-id-4 div.sk-item::before, #sk-container-id-4 div.sk-parallel-item::before {content: \"\";position: absolute;border-left: 1px solid gray;box-sizing: border-box;top: 0;bottom: 0;left: 50%;z-index: -1;}#sk-container-id-4 div.sk-parallel-item {display: flex;flex-direction: column;z-index: 1;position: relative;background-color: white;}#sk-container-id-4 div.sk-parallel-item:first-child::after {align-self: flex-end;width: 50%;}#sk-container-id-4 div.sk-parallel-item:last-child::after {align-self: flex-start;width: 50%;}#sk-container-id-4 div.sk-parallel-item:only-child::after {width: 0;}#sk-container-id-4 div.sk-dashed-wrapped {border: 1px dashed gray;margin: 0 0.4em 0.5em 0.4em;box-sizing: border-box;padding-bottom: 0.4em;background-color: white;}#sk-container-id-4 div.sk-label label {font-family: monospace;font-weight: bold;display: inline-block;line-height: 1.2em;}#sk-container-id-4 div.sk-label-container {text-align: center;}#sk-container-id-4 div.sk-container {/* jupyter's `normalize.less` sets `[hidden] { display: none; }` but bootstrap.min.css set `[hidden] { display: none !important; }` so we also need the `!important` here to be able to override the default hidden behavior on the sphinx rendered scikit-learn.org. See: https://github.com/scikit-learn/scikit-learn/issues/21755 */display: inline-block !important;position: relative;}#sk-container-id-4 div.sk-text-repr-fallback {display: none;}</style><div id=\"sk-container-id-4\" class=\"sk-top-container\"><div class=\"sk-text-repr-fallback\"><pre>RandomForestClassifier(random_state=2)</pre><b>In a Jupyter environment, please rerun this cell to show the HTML representation or trust the notebook. <br />On GitHub, the HTML representation is unable to render, please try loading this page with nbviewer.org.</b></div><div class=\"sk-container\" hidden><div class=\"sk-item\"><div class=\"sk-estimator sk-toggleable\"><input class=\"sk-toggleable__control sk-hidden--visually\" id=\"sk-estimator-id-4\" type=\"checkbox\" checked><label for=\"sk-estimator-id-4\" class=\"sk-toggleable__label sk-toggleable__label-arrow\">RandomForestClassifier</label><div class=\"sk-toggleable__content\"><pre>RandomForestClassifier(random_state=2)</pre></div></div></div></div></div>"
            ]
          },
          "metadata": {},
          "execution_count": 68
        }
      ]
    },
    {
      "cell_type": "code",
      "source": [
        "# La 'feature importance' en modelos basados en árboles de decisión indican cuales son las características más importantes al momento de tomar una decisión\n",
        "pd.Series(bow_model.feature_importances_, index = bow.vocabulary_).sort_values().tail(20).plot.barh(figsize = (15, 10))"
      ],
      "metadata": {
        "colab": {
          "base_uri": "https://localhost:8080/",
          "height": 719
        },
        "outputId": "06ca61a8-1a16-4890-da37-bdcde779b45d",
        "id": "pm1V3V99R3WN"
      },
      "execution_count": 69,
      "outputs": [
        {
          "output_type": "execute_result",
          "data": {
            "text/plain": [
              "<Axes: >"
            ]
          },
          "metadata": {},
          "execution_count": 69
        },
        {
          "output_type": "display_data",
          "data": {
            "text/plain": [
              "<Figure size 1500x1000 with 1 Axes>"
            ],
            "image/png": "[encoded data removed]"
          },
          "metadata": {}
        }
      ]
    },
    {
      "cell_type": "code",
      "source": [
        "bow_estimators = bow_model.estimators_\n",
        "print('Number of trees:', len(bow_estimators))\n",
        "print('Trees depth (mean):', np.mean([tree.get_depth() for tree in bow_estimators]))"
      ],
      "metadata": {
        "colab": {
          "base_uri": "https://localhost:8080/"
        },
        "outputId": "697c8794-dc84-4b27-ecc4-f00d98a7103d",
        "id": "xmHmUPdUR3WO"
      },
      "execution_count": 70,
      "outputs": [
        {
          "output_type": "stream",
          "name": "stdout",
          "text": [
            "Number of trees: 100\n",
            "Trees depth (mean): 152.33\n"
          ]
        }
      ]
    },
    {
      "cell_type": "code",
      "source": [
        "y_train_bow_predict = bow_model.predict(X_bow)\n",
        "y_test_bow_predict = bow_model.predict(bow.transform(X_test))"
      ],
      "metadata": {
        "id": "olttyOxWR3WO"
      },
      "execution_count": 71,
      "outputs": []
    },
    {
      "cell_type": "code",
      "source": [
        "ConfusionMatrixDisplay.from_predictions(y_train, y_train_bow_predict)"
      ],
      "metadata": {
        "colab": {
          "base_uri": "https://localhost:8080/",
          "height": 473
        },
        "outputId": "7e608955-6b99-464b-c051-06e5c565c0a9",
        "id": "AjoEUt4BR3WP"
      },
      "execution_count": 72,
      "outputs": [
        {
          "output_type": "execute_result",
          "data": {
            "text/plain": [
              "<sklearn.metrics._plot.confusion_matrix.ConfusionMatrixDisplay at 0x7f18e3299a60>"
            ]
          },
          "metadata": {},
          "execution_count": 72
        },
        {
          "output_type": "display_data",
          "data": {
            "text/plain": [
              "<Figure size 640x480 with 2 Axes>"
            ],
            "image/png": "[encoded data removed]"
          },
          "metadata": {}
        }
      ]
    },
    {
      "cell_type": "code",
      "source": [
        "ConfusionMatrixDisplay.from_predictions(y_test, y_test_bow_predict)"
      ],
      "metadata": {
        "colab": {
          "base_uri": "https://localhost:8080/",
          "height": 467
        },
        "outputId": "fbf34257-4373-4cae-a0a4-d8210109dcf9",
        "id": "Nd3NxBJhR3WP"
      },
      "execution_count": 73,
      "outputs": [
        {
          "output_type": "execute_result",
          "data": {
            "text/plain": [
              "<sklearn.metrics._plot.confusion_matrix.ConfusionMatrixDisplay at 0x7f18e4b557f0>"
            ]
          },
          "metadata": {},
          "execution_count": 73
        },
        {
          "output_type": "display_data",
          "data": {
            "text/plain": [
              "<Figure size 640x480 with 2 Axes>"
            ],
            "image/png": "[encoded data removed]"
          },
          "metadata": {}
        }
      ]
    },
    {
      "cell_type": "code",
      "source": [
        "if len(bow_model.classes_) == 2:\n",
        "    print('Precision:', precision_score(y_train, y_train_bow_predict, pos_label = 1))\n",
        "    print('Recall:', recall_score(y_train, y_train_bow_predict, pos_label = 1))\n",
        "    print('F1:', f1_score(y_train, y_train_bow_predict, pos_label = 1))\n",
        "else:\n",
        "    # Para casos no binarios, es común calcular las métricas para cada clase\n",
        "    print('Precision:', precision_score(y_train, y_train_bow_predict, average = None))\n",
        "    print('Recall:', recall_score(y_train, y_train_bow_predict, average = None))\n",
        "    print('F1:', f1_score(y_train, y_train_bow_predict, average = None))"
      ],
      "metadata": {
        "colab": {
          "base_uri": "https://localhost:8080/"
        },
        "outputId": "a5d5ce37-cce3-4d22-8541-e4ef611e3154",
        "id": "fBaUGuvuR3WP"
      },
      "execution_count": 74,
      "outputs": [
        {
          "output_type": "stream",
          "name": "stdout",
          "text": [
            "Precision: 1.0\n",
            "Recall: 1.0\n",
            "F1: 1.0\n"
          ]
        }
      ]
    },
    {
      "cell_type": "code",
      "source": [
        "if len(bow_model.classes_) == 2:\n",
        "    print('Precision:', precision_score(y_test, y_test_bow_predict, pos_label = 1))\n",
        "    print('Recall:', recall_score(y_test, y_test_bow_predict, pos_label = 1))\n",
        "    print('F1:', f1_score(y_test, y_test_bow_predict, pos_label = 1))\n",
        "else:\n",
        "    # Para casos no binarios, es común calcular las métricas para cada clase\n",
        "    print('Precision:', precision_score(y_test, y_test_bow_predict, average = None))\n",
        "    print('Recall:', recall_score(y_test, y_test_bow_predict, average = None))\n",
        "    print('F1:', f1_score(y_test, y_test_bow_predict, average = None))"
      ],
      "metadata": {
        "colab": {
          "base_uri": "https://localhost:8080/"
        },
        "outputId": "f08f8311-25f9-4be5-cadf-2858380274f2",
        "id": "mArM8YApR3WQ"
      },
      "execution_count": 75,
      "outputs": [
        {
          "output_type": "stream",
          "name": "stdout",
          "text": [
            "Precision: 0.8228105906313645\n",
            "Recall: 0.808\n",
            "F1: 0.8153380423814329\n"
          ]
        }
      ]
    },
    {
      "cell_type": "markdown",
      "source": [
        "# Metodo 3: Random Forest"
      ],
      "metadata": {
        "id": "GQ3wU2NBPP9y"
      }
    },
    {
      "cell_type": "markdown",
      "source": [
        "Juan Ricardo Diaz - 201922167"
      ],
      "metadata": {
        "id": "xVz-Y5kvTck2"
      }
    },
    {
      "cell_type": "code",
      "source": [
        "forest_model = RandomForestClassifier(random_state = 2)"
      ],
      "metadata": {
        "id": "SEcXxFZsKin2"
      },
      "execution_count": 76,
      "outputs": []
    },
    {
      "cell_type": "code",
      "source": [
        "param_grid = {\n",
        "    'n_estimators': [50, 100, 150, 200],\n",
        "    'criterion': ['gini', 'entropy'],\n",
        "    'max_depth': [4, 5, 6], # Utilizamos alturas mucho más bajas ya gracias a que usamos \"Bagging\"\n",
        "    'min_samples_split': [2, 3, 4, 5]\n",
        "}"
      ],
      "metadata": {
        "id": "i8fiqNDITizx"
      },
      "execution_count": 111,
      "outputs": []
    },
    {
      "cell_type": "code",
      "source": [
        "combinations = 1\n",
        "for k, v in param_grid.items():\n",
        "    combinations *= len(v)\n",
        "\n",
        "print('Total de combinaciones a validar:', combinations)"
      ],
      "metadata": {
        "colab": {
          "base_uri": "https://localhost:8080/"
        },
        "id": "LZCYE0aHTzZM",
        "outputId": "dae2762b-03ef-4815-b7cd-7fb73d3f3dd2"
      },
      "execution_count": 112,
      "outputs": [
        {
          "output_type": "stream",
          "name": "stdout",
          "text": [
            "Total de combinaciones a validar: 96\n"
          ]
        }
      ]
    },
    {
      "cell_type": "markdown",
      "source": [
        "Como mencioné antes, vamos a tomar en cuenta únicamente el 50% de las combinaciones totales"
      ],
      "metadata": {
        "id": "3tU-At9hUCta"
      }
    },
    {
      "cell_type": "code",
      "source": [
        "# En este caso se decide buscar solo sobre el ~33% de las combinaciones\n",
        "grid_forest_model = RandomizedSearchCV(forest_model, param_grid, n_iter = int(combinations / 2), scoring = ['precision', 'recall', 'f1'], refit = 'f1', cv = 10, n_jobs = -1, verbose = 1)"
      ],
      "metadata": {
        "id": "KOMbM7DnUJvG"
      },
      "execution_count": 113,
      "outputs": []
    },
    {
      "cell_type": "code",
      "source": [
        "grid_forest_model.fit(X_bow, y_train)"
      ],
      "metadata": {
        "colab": {
          "base_uri": "https://localhost:8080/",
          "height": 135
        },
        "id": "6JXEawMzURcD",
        "outputId": "1d1fa040-2b06-416b-e3fa-d8d0b9d74c23"
      },
      "execution_count": 114,
      "outputs": [
        {
          "output_type": "stream",
          "name": "stdout",
          "text": [
            "Fitting 10 folds for each of 48 candidates, totalling 480 fits\n"
          ]
        },
        {
          "output_type": "execute_result",
          "data": {
            "text/plain": [
              "RandomizedSearchCV(cv=10, estimator=RandomForestClassifier(random_state=2),\n",
              "                   n_iter=48, n_jobs=-1,\n",
              "                   param_distributions={'criterion': ['gini', 'entropy'],\n",
              "                                        'max_depth': [4, 5, 6],\n",
              "                                        'min_samples_split': [2, 3, 4, 5],\n",
              "                                        'n_estimators': [50, 100, 150, 200]},\n",
              "                   refit='f1', scoring=['precision', 'recall', 'f1'],\n",
              "                   verbose=1)"
            ],
            "text/html": [
              "<style>#sk-container-id-7 {color: black;background-color: white;}#sk-container-id-7 pre{padding: 0;}#sk-container-id-7 div.sk-toggleable {background-color: white;}#sk-container-id-7 label.sk-toggleable__label {cursor: pointer;display: block;width: 100%;margin-bottom: 0;padding: 0.3em;box-sizing: border-box;text-align: center;}#sk-container-id-7 label.sk-toggleable__label-arrow:before {content: \"▸\";float: left;margin-right: 0.25em;color: #696969;}#sk-container-id-7 label.sk-toggleable__label-arrow:hover:before {color: black;}#sk-container-id-7 div.sk-estimator:hover label.sk-toggleable__label-arrow:before {color: black;}#sk-container-id-7 div.sk-toggleable__content {max-height: 0;max-width: 0;overflow: hidden;text-align: left;background-color: #f0f8ff;}#sk-container-id-7 div.sk-toggleable__content pre {margin: 0.2em;color: black;border-radius: 0.25em;background-color: #f0f8ff;}#sk-container-id-7 input.sk-toggleable__control:checked~div.sk-toggleable__content {max-height: 200px;max-width: 100%;overflow: auto;}#sk-container-id-7 input.sk-toggleable__control:checked~label.sk-toggleable__label-arrow:before {content: \"▾\";}#sk-container-id-7 div.sk-estimator input.sk-toggleable__control:checked~label.sk-toggleable__label {background-color: #d4ebff;}#sk-container-id-7 div.sk-label input.sk-toggleable__control:checked~label.sk-toggleable__label {background-color: #d4ebff;}#sk-container-id-7 input.sk-hidden--visually {border: 0;clip: rect(1px 1px 1px 1px);clip: rect(1px, 1px, 1px, 1px);height: 1px;margin: -1px;overflow: hidden;padding: 0;position: absolute;width: 1px;}#sk-container-id-7 div.sk-estimator {font-family: monospace;background-color: #f0f8ff;border: 1px dotted black;border-radius: 0.25em;box-sizing: border-box;margin-bottom: 0.5em;}#sk-container-id-7 div.sk-estimator:hover {background-color: #d4ebff;}#sk-container-id-7 div.sk-parallel-item::after {content: \"\";width: 100%;border-bottom: 1px solid gray;flex-grow: 1;}#sk-container-id-7 div.sk-label:hover label.sk-toggleable__label {background-color: #d4ebff;}#sk-container-id-7 div.sk-serial::before {content: \"\";position: absolute;border-left: 1px solid gray;box-sizing: border-box;top: 0;bottom: 0;left: 50%;z-index: 0;}#sk-container-id-7 div.sk-serial {display: flex;flex-direction: column;align-items: center;background-color: white;padding-right: 0.2em;padding-left: 0.2em;position: relative;}#sk-container-id-7 div.sk-item {position: relative;z-index: 1;}#sk-container-id-7 div.sk-parallel {display: flex;align-items: stretch;justify-content: center;background-color: white;position: relative;}#sk-container-id-7 div.sk-item::before, #sk-container-id-7 div.sk-parallel-item::before {content: \"\";position: absolute;border-left: 1px solid gray;box-sizing: border-box;top: 0;bottom: 0;left: 50%;z-index: -1;}#sk-container-id-7 div.sk-parallel-item {display: flex;flex-direction: column;z-index: 1;position: relative;background-color: white;}#sk-container-id-7 div.sk-parallel-item:first-child::after {align-self: flex-end;width: 50%;}#sk-container-id-7 div.sk-parallel-item:last-child::after {align-self: flex-start;width: 50%;}#sk-container-id-7 div.sk-parallel-item:only-child::after {width: 0;}#sk-container-id-7 div.sk-dashed-wrapped {border: 1px dashed gray;margin: 0 0.4em 0.5em 0.4em;box-sizing: border-box;padding-bottom: 0.4em;background-color: white;}#sk-container-id-7 div.sk-label label {font-family: monospace;font-weight: bold;display: inline-block;line-height: 1.2em;}#sk-container-id-7 div.sk-label-container {text-align: center;}#sk-container-id-7 div.sk-container {/* jupyter's `normalize.less` sets `[hidden] { display: none; }` but bootstrap.min.css set `[hidden] { display: none !important; }` so we also need the `!important` here to be able to override the default hidden behavior on the sphinx rendered scikit-learn.org. See: https://github.com/scikit-learn/scikit-learn/issues/21755 */display: inline-block !important;position: relative;}#sk-container-id-7 div.sk-text-repr-fallback {display: none;}</style><div id=\"sk-container-id-7\" class=\"sk-top-container\"><div class=\"sk-text-repr-fallback\"><pre>RandomizedSearchCV(cv=10, estimator=RandomForestClassifier(random_state=2),\n",
              "                   n_iter=48, n_jobs=-1,\n",
              "                   param_distributions={&#x27;criterion&#x27;: [&#x27;gini&#x27;, &#x27;entropy&#x27;],\n",
              "                                        &#x27;max_depth&#x27;: [4, 5, 6],\n",
              "                                        &#x27;min_samples_split&#x27;: [2, 3, 4, 5],\n",
              "                                        &#x27;n_estimators&#x27;: [50, 100, 150, 200]},\n",
              "                   refit=&#x27;f1&#x27;, scoring=[&#x27;precision&#x27;, &#x27;recall&#x27;, &#x27;f1&#x27;],\n",
              "                   verbose=1)</pre><b>In a Jupyter environment, please rerun this cell to show the HTML representation or trust the notebook. <br />On GitHub, the HTML representation is unable to render, please try loading this page with nbviewer.org.</b></div><div class=\"sk-container\" hidden><div class=\"sk-item sk-dashed-wrapped\"><div class=\"sk-label-container\"><div class=\"sk-label sk-toggleable\"><input class=\"sk-toggleable__control sk-hidden--visually\" id=\"sk-estimator-id-11\" type=\"checkbox\" ><label for=\"sk-estimator-id-11\" class=\"sk-toggleable__label sk-toggleable__label-arrow\">RandomizedSearchCV</label><div class=\"sk-toggleable__content\"><pre>RandomizedSearchCV(cv=10, estimator=RandomForestClassifier(random_state=2),\n",
              "                   n_iter=48, n_jobs=-1,\n",
              "                   param_distributions={&#x27;criterion&#x27;: [&#x27;gini&#x27;, &#x27;entropy&#x27;],\n",
              "                                        &#x27;max_depth&#x27;: [4, 5, 6],\n",
              "                                        &#x27;min_samples_split&#x27;: [2, 3, 4, 5],\n",
              "                                        &#x27;n_estimators&#x27;: [50, 100, 150, 200]},\n",
              "                   refit=&#x27;f1&#x27;, scoring=[&#x27;precision&#x27;, &#x27;recall&#x27;, &#x27;f1&#x27;],\n",
              "                   verbose=1)</pre></div></div></div><div class=\"sk-parallel\"><div class=\"sk-parallel-item\"><div class=\"sk-item\"><div class=\"sk-label-container\"><div class=\"sk-label sk-toggleable\"><input class=\"sk-toggleable__control sk-hidden--visually\" id=\"sk-estimator-id-12\" type=\"checkbox\" ><label for=\"sk-estimator-id-12\" class=\"sk-toggleable__label sk-toggleable__label-arrow\">estimator: RandomForestClassifier</label><div class=\"sk-toggleable__content\"><pre>RandomForestClassifier(random_state=2)</pre></div></div></div><div class=\"sk-serial\"><div class=\"sk-item\"><div class=\"sk-estimator sk-toggleable\"><input class=\"sk-toggleable__control sk-hidden--visually\" id=\"sk-estimator-id-13\" type=\"checkbox\" ><label for=\"sk-estimator-id-13\" class=\"sk-toggleable__label sk-toggleable__label-arrow\">RandomForestClassifier</label><div class=\"sk-toggleable__content\"><pre>RandomForestClassifier(random_state=2)</pre></div></div></div></div></div></div></div></div></div></div>"
            ]
          },
          "metadata": {},
          "execution_count": 114
        }
      ]
    },
    {
      "cell_type": "code",
      "source": [
        "cv_results_df = pd.DataFrame(grid_forest_model.cv_results_)"
      ],
      "metadata": {
        "id": "ZTQpuc7MWsVp"
      },
      "execution_count": 115,
      "outputs": []
    },
    {
      "cell_type": "code",
      "source": [
        "cv_results_df.head()"
      ],
      "metadata": {
        "colab": {
          "base_uri": "https://localhost:8080/",
          "height": 560
        },
        "id": "1WPS3e51WzL0",
        "outputId": "7305d117-4fe1-406b-ebad-e9d67e23b507"
      },
      "execution_count": 116,
      "outputs": [
        {
          "output_type": "execute_result",
          "data": {
            "text/plain": [
              "   mean_fit_time  std_fit_time  mean_score_time  std_score_time  \\\n",
              "0       1.032683      0.359334         0.102453        0.027305   \n",
              "1       0.341981      0.015711         0.032515        0.005886   \n",
              "2       0.514631      0.015674         0.053276        0.002973   \n",
              "3       0.331987      0.017606         0.030535        0.001091   \n",
              "4       0.578534      0.017898         0.058945        0.012694   \n",
              "\n",
              "  param_n_estimators param_min_samples_split param_max_depth param_criterion  \\\n",
              "0                150                       4               4         entropy   \n",
              "1                 50                       3               6            gini   \n",
              "2                100                       3               4            gini   \n",
              "3                 50                       4               6         entropy   \n",
              "4                100                       2               5         entropy   \n",
              "\n",
              "                                                                                  params  \\\n",
              "0  {'n_estimators': 150, 'min_samples_split': 4, 'max_depth': 4, 'criterion': 'entropy'}   \n",
              "1      {'n_estimators': 50, 'min_samples_split': 3, 'max_depth': 6, 'criterion': 'gini'}   \n",
              "2     {'n_estimators': 100, 'min_samples_split': 3, 'max_depth': 4, 'criterion': 'gini'}   \n",
              "3   {'n_estimators': 50, 'min_samples_split': 4, 'max_depth': 6, 'criterion': 'entropy'}   \n",
              "4  {'n_estimators': 100, 'min_samples_split': 2, 'max_depth': 5, 'criterion': 'entropy'}   \n",
              "\n",
              "   split0_test_precision  ...  split3_test_f1  split4_test_f1  split5_test_f1  \\\n",
              "0               0.725738  ...        0.786885        0.769953        0.823256   \n",
              "1               0.748858  ...        0.804938        0.725061        0.761194   \n",
              "2               0.708155  ...        0.793503        0.771765        0.802784   \n",
              "3               0.715517  ...        0.792271        0.736077        0.782609   \n",
              "4               0.742489  ...        0.796209        0.783019        0.807601   \n",
              "\n",
              "   split6_test_f1  split7_test_f1  split8_test_f1  split9_test_f1  \\\n",
              "0        0.779156        0.791774        0.770335        0.782407   \n",
              "1        0.758794        0.800983        0.766990        0.742317   \n",
              "2        0.765743        0.776942        0.759615        0.763033   \n",
              "3        0.777506        0.815725        0.763547        0.757647   \n",
              "4        0.773399        0.788512        0.761446        0.781176   \n",
              "\n",
              "   mean_test_f1  std_test_f1  rank_test_f1  \n",
              "0      0.789125     0.015475            18  \n",
              "1      0.767986     0.023397            34  \n",
              "2      0.777987     0.017303            32  \n",
              "3      0.775129     0.021558            33  \n",
              "4      0.787063     0.013577            21  \n",
              "\n",
              "[5 rows x 48 columns]"
            ],
            "text/html": [
              "\n",
              "  <div id=\"df-c941550c-c0fe-454e-89eb-2e02431e5332\">\n",
              "    <div class=\"colab-df-container\">\n",
              "      <div>\n",
              "<style scoped>\n",
              "    .dataframe tbody tr th:only-of-type {\n",
              "        vertical-align: middle;\n",
              "    }\n",
              "\n",
              "    .dataframe tbody tr th {\n",
              "        vertical-align: top;\n",
              "    }\n",
              "\n",
              "    .dataframe thead th {\n",
              "        text-align: right;\n",
              "    }\n",
              "</style>\n",
              "<table border=\"1\" class=\"dataframe\">\n",
              "  <thead>\n",
              "    <tr style=\"text-align: right;\">\n",
              "      <th></th>\n",
              "      <th>mean_fit_time</th>\n",
              "      <th>std_fit_time</th>\n",
              "      <th>mean_score_time</th>\n",
              "      <th>std_score_time</th>\n",
              "      <th>param_n_estimators</th>\n",
              "      <th>param_min_samples_split</th>\n",
              "      <th>param_max_depth</th>\n",
              "      <th>param_criterion</th>\n",
              "      <th>params</th>\n",
              "      <th>split0_test_precision</th>\n",
              "      <th>...</th>\n",
              "      <th>split3_test_f1</th>\n",
              "      <th>split4_test_f1</th>\n",
              "      <th>split5_test_f1</th>\n",
              "      <th>split6_test_f1</th>\n",
              "      <th>split7_test_f1</th>\n",
              "      <th>split8_test_f1</th>\n",
              "      <th>split9_test_f1</th>\n",
              "      <th>mean_test_f1</th>\n",
              "      <th>std_test_f1</th>\n",
              "      <th>rank_test_f1</th>\n",
              "    </tr>\n",
              "  </thead>\n",
              "  <tbody>\n",
              "    <tr>\n",
              "      <th>0</th>\n",
              "      <td>1.032683</td>\n",
              "      <td>0.359334</td>\n",
              "      <td>0.102453</td>\n",
              "      <td>0.027305</td>\n",
              "      <td>150</td>\n",
              "      <td>4</td>\n",
              "      <td>4</td>\n",
              "      <td>entropy</td>\n",
              "      <td>{'n_estimators': 150, 'min_samples_split': 4, 'max_depth': 4, 'criterion': 'entropy'}</td>\n",
              "      <td>0.725738</td>\n",
              "      <td>...</td>\n",
              "      <td>0.786885</td>\n",
              "      <td>0.769953</td>\n",
              "      <td>0.823256</td>\n",
              "      <td>0.779156</td>\n",
              "      <td>0.791774</td>\n",
              "      <td>0.770335</td>\n",
              "      <td>0.782407</td>\n",
              "      <td>0.789125</td>\n",
              "      <td>0.015475</td>\n",
              "      <td>18</td>\n",
              "    </tr>\n",
              "    <tr>\n",
              "      <th>1</th>\n",
              "      <td>0.341981</td>\n",
              "      <td>0.015711</td>\n",
              "      <td>0.032515</td>\n",
              "      <td>0.005886</td>\n",
              "      <td>50</td>\n",
              "      <td>3</td>\n",
              "      <td>6</td>\n",
              "      <td>gini</td>\n",
              "      <td>{'n_estimators': 50, 'min_samples_split': 3, 'max_depth': 6, 'criterion': 'gini'}</td>\n",
              "      <td>0.748858</td>\n",
              "      <td>...</td>\n",
              "      <td>0.804938</td>\n",
              "      <td>0.725061</td>\n",
              "      <td>0.761194</td>\n",
              "      <td>0.758794</td>\n",
              "      <td>0.800983</td>\n",
              "      <td>0.766990</td>\n",
              "      <td>0.742317</td>\n",
              "      <td>0.767986</td>\n",
              "      <td>0.023397</td>\n",
              "      <td>34</td>\n",
              "    </tr>\n",
              "    <tr>\n",
              "      <th>2</th>\n",
              "      <td>0.514631</td>\n",
              "      <td>0.015674</td>\n",
              "      <td>0.053276</td>\n",
              "      <td>0.002973</td>\n",
              "      <td>100</td>\n",
              "      <td>3</td>\n",
              "      <td>4</td>\n",
              "      <td>gini</td>\n",
              "      <td>{'n_estimators': 100, 'min_samples_split': 3, 'max_depth': 4, 'criterion': 'gini'}</td>\n",
              "      <td>0.708155</td>\n",
              "      <td>...</td>\n",
              "      <td>0.793503</td>\n",
              "      <td>0.771765</td>\n",
              "      <td>0.802784</td>\n",
              "      <td>0.765743</td>\n",
              "      <td>0.776942</td>\n",
              "      <td>0.759615</td>\n",
              "      <td>0.763033</td>\n",
              "      <td>0.777987</td>\n",
              "      <td>0.017303</td>\n",
              "      <td>32</td>\n",
              "    </tr>\n",
              "    <tr>\n",
              "      <th>3</th>\n",
              "      <td>0.331987</td>\n",
              "      <td>0.017606</td>\n",
              "      <td>0.030535</td>\n",
              "      <td>0.001091</td>\n",
              "      <td>50</td>\n",
              "      <td>4</td>\n",
              "      <td>6</td>\n",
              "      <td>entropy</td>\n",
              "      <td>{'n_estimators': 50, 'min_samples_split': 4, 'max_depth': 6, 'criterion': 'entropy'}</td>\n",
              "      <td>0.715517</td>\n",
              "      <td>...</td>\n",
              "      <td>0.792271</td>\n",
              "      <td>0.736077</td>\n",
              "      <td>0.782609</td>\n",
              "      <td>0.777506</td>\n",
              "      <td>0.815725</td>\n",
              "      <td>0.763547</td>\n",
              "      <td>0.757647</td>\n",
              "      <td>0.775129</td>\n",
              "      <td>0.021558</td>\n",
              "      <td>33</td>\n",
              "    </tr>\n",
              "    <tr>\n",
              "      <th>4</th>\n",
              "      <td>0.578534</td>\n",
              "      <td>0.017898</td>\n",
              "      <td>0.058945</td>\n",
              "      <td>0.012694</td>\n",
              "      <td>100</td>\n",
              "      <td>2</td>\n",
              "      <td>5</td>\n",
              "      <td>entropy</td>\n",
              "      <td>{'n_estimators': 100, 'min_samples_split': 2, 'max_depth': 5, 'criterion': 'entropy'}</td>\n",
              "      <td>0.742489</td>\n",
              "      <td>...</td>\n",
              "      <td>0.796209</td>\n",
              "      <td>0.783019</td>\n",
              "      <td>0.807601</td>\n",
              "      <td>0.773399</td>\n",
              "      <td>0.788512</td>\n",
              "      <td>0.761446</td>\n",
              "      <td>0.781176</td>\n",
              "      <td>0.787063</td>\n",
              "      <td>0.013577</td>\n",
              "      <td>21</td>\n",
              "    </tr>\n",
              "  </tbody>\n",
              "</table>\n",
              "<p>5 rows × 48 columns</p>\n",
              "</div>\n",
              "      <button class=\"colab-df-convert\" onclick=\"convertToInteractive('df-c941550c-c0fe-454e-89eb-2e02431e5332')\"\n",
              "              title=\"Convert this dataframe to an interactive table.\"\n",
              "              style=\"display:none;\">\n",
              "        \n",
              "  <svg xmlns=\"http://www.w3.org/2000/svg\" height=\"24px\"viewBox=\"0 0 24 24\"\n",
              "       width=\"24px\">\n",
              "    <path d=\"M0 0h24v24H0V0z\" fill=\"none\"/>\n",
              "    <path d=\"M18.56 5.44l.94 2.06.94-2.06 2.06-.94-2.06-.94-.94-2.06-.94 2.06-2.06.94zm-11 1L8.5 8.5l.94-2.06 2.06-.94-2.06-.94L8.5 2.5l-.94 2.06-2.06.94zm10 10l.94 2.06.94-2.06 2.06-.94-2.06-.94-.94-2.06-.94 2.06-2.06.94z\"/><path d=\"M17.41 7.96l-1.37-1.37c-.4-.4-.92-.59-1.43-.59-.52 0-1.04.2-1.43.59L10.3 9.45l-7.72 7.72c-.78.78-.78 2.05 0 2.83L4 21.41c.39.39.9.59 1.41.59.51 0 1.02-.2 1.41-.59l7.78-7.78 2.81-2.81c.8-.78.8-2.07 0-2.86zM5.41 20L4 18.59l7.72-7.72 1.47 1.35L5.41 20z\"/>\n",
              "  </svg>\n",
              "      </button>\n",
              "      \n",
              "  <style>\n",
              "    .colab-df-container {\n",
              "      display:flex;\n",
              "      flex-wrap:wrap;\n",
              "      gap: 12px;\n",
              "    }\n",
              "\n",
              "    .colab-df-convert {\n",
              "      background-color: #E8F0FE;\n",
              "      border: none;\n",
              "      border-radius: 50%;\n",
              "      cursor: pointer;\n",
              "      display: none;\n",
              "      fill: #1967D2;\n",
              "      height: 32px;\n",
              "      padding: 0 0 0 0;\n",
              "      width: 32px;\n",
              "    }\n",
              "\n",
              "    .colab-df-convert:hover {\n",
              "      background-color: #E2EBFA;\n",
              "      box-shadow: 0px 1px 2px rgba(60, 64, 67, 0.3), 0px 1px 3px 1px rgba(60, 64, 67, 0.15);\n",
              "      fill: #174EA6;\n",
              "    }\n",
              "\n",
              "    [theme=dark] .colab-df-convert {\n",
              "      background-color: #3B4455;\n",
              "      fill: #D2E3FC;\n",
              "    }\n",
              "\n",
              "    [theme=dark] .colab-df-convert:hover {\n",
              "      background-color: #434B5C;\n",
              "      box-shadow: 0px 1px 3px 1px rgba(0, 0, 0, 0.15);\n",
              "      filter: drop-shadow(0px 1px 2px rgba(0, 0, 0, 0.3));\n",
              "      fill: #FFFFFF;\n",
              "    }\n",
              "  </style>\n",
              "\n",
              "      <script>\n",
              "        const buttonEl =\n",
              "          document.querySelector('#df-c941550c-c0fe-454e-89eb-2e02431e5332 button.colab-df-convert');\n",
              "        buttonEl.style.display =\n",
              "          google.colab.kernel.accessAllowed ? 'block' : 'none';\n",
              "\n",
              "        async function convertToInteractive(key) {\n",
              "          const element = document.querySelector('#df-c941550c-c0fe-454e-89eb-2e02431e5332');\n",
              "          const dataTable =\n",
              "            await google.colab.kernel.invokeFunction('convertToInteractive',\n",
              "                                                     [key], {});\n",
              "          if (!dataTable) return;\n",
              "\n",
              "          const docLinkHtml = 'Like what you see? Visit the ' +\n",
              "            '<a target=\"_blank\" href=https://colab.research.google.com/notebooks/data_table.ipynb>data table notebook</a>'\n",
              "            + ' to learn more about interactive tables.';\n",
              "          element.innerHTML = '';\n",
              "          dataTable['output_type'] = 'display_data';\n",
              "          await google.colab.output.renderOutput(dataTable, element);\n",
              "          const docLink = document.createElement('div');\n",
              "          docLink.innerHTML = docLinkHtml;\n",
              "          element.appendChild(docLink);\n",
              "        }\n",
              "      </script>\n",
              "    </div>\n",
              "  </div>\n",
              "  "
            ]
          },
          "metadata": {},
          "execution_count": 116
        }
      ]
    },
    {
      "cell_type": "code",
      "source": [
        "grid_forest_model.best_params_"
      ],
      "metadata": {
        "colab": {
          "base_uri": "https://localhost:8080/"
        },
        "id": "c2BeSWeHW1B2",
        "outputId": "0da7f16c-2c1c-41bc-dddd-9b6b8f815ace"
      },
      "execution_count": 117,
      "outputs": [
        {
          "output_type": "execute_result",
          "data": {
            "text/plain": [
              "{'n_estimators': 200,\n",
              " 'min_samples_split': 5,\n",
              " 'max_depth': 5,\n",
              " 'criterion': 'entropy'}"
            ]
          },
          "metadata": {},
          "execution_count": 117
        }
      ]
    },
    {
      "cell_type": "code",
      "source": [
        "grid_forest_model.best_score_"
      ],
      "metadata": {
        "colab": {
          "base_uri": "https://localhost:8080/"
        },
        "id": "tbt8yOURXDFH",
        "outputId": "507b3b58-e7ec-4ee7-d803-558e798b6cf2"
      },
      "execution_count": 118,
      "outputs": [
        {
          "output_type": "execute_result",
          "data": {
            "text/plain": [
              "0.8028214180431146"
            ]
          },
          "metadata": {},
          "execution_count": 118
        }
      ]
    },
    {
      "cell_type": "code",
      "source": [
        "best_forest_model_results_df = cv_results_df[[ c for c in cv_results_df.columns if 'split' in c][1:]].iloc[grid_forest_model.best_index_].reset_index()\n",
        "best_forest_model_results_df['split'], best_forest_model_results_df['set'], best_forest_model_results_df['metric'] = zip(*list(best_forest_model_results_df['index'].apply(lambda x: x.split('_'))))\n",
        "best_forest_model_results_df.rename(columns = {grid_forest_model.best_index_: 'value'}, inplace = True)\n",
        "best_forest_model_results_df.drop(columns = 'index', inplace = True)"
      ],
      "metadata": {
        "id": "uYe88Gy7XFP7"
      },
      "execution_count": 119,
      "outputs": []
    },
    {
      "cell_type": "code",
      "source": [
        "plt.figure(figsize = (10, 7))\n",
        "sns.boxplot(x = 'metric', y = 'value', showmeans = True, data = best_forest_model_results_df)"
      ],
      "metadata": {
        "colab": {
          "base_uri": "https://localhost:8080/",
          "height": 637
        },
        "id": "sSPy4hxrXHiP",
        "outputId": "75cf822e-fb7c-4053-ecc8-9a8c5bc6d575"
      },
      "execution_count": 120,
      "outputs": [
        {
          "output_type": "execute_result",
          "data": {
            "text/plain": [
              "<Axes: xlabel='metric', ylabel='value'>"
            ]
          },
          "metadata": {},
          "execution_count": 120
        },
        {
          "output_type": "display_data",
          "data": {
            "text/plain": [
              "<Figure size 1000x700 with 1 Axes>"
            ],
            "image/png": "[encoded data removed]"
          },
          "metadata": {}
        }
      ]
    },
    {
      "cell_type": "code",
      "source": [
        "preds_train = grid_forest_model.best_estimator_.predict(X_bow)\n",
        "preds_test = grid_forest_model.best_estimator_.predict(bow.transform(X_test))"
      ],
      "metadata": {
        "id": "liJb8PmSXLAx"
      },
      "execution_count": 123,
      "outputs": []
    },
    {
      "cell_type": "code",
      "source": [
        "cm_train = confusion_matrix(y_train, preds_train, labels = grid_forest_model.best_estimator_.classes_)\n",
        "cm_train_norm = confusion_matrix(y_train, preds_train, labels = grid_forest_model.best_estimator_.classes_, normalize = 'true')\n",
        "cm_test = confusion_matrix(y_test, preds_test, labels = grid_forest_model.best_estimator_.classes_)\n",
        "cm_test_norm = confusion_matrix(y_test, preds_test, labels = grid_forest_model.best_estimator_.classes_, normalize = 'true')\n",
        "\n",
        "fig, ((ax1, ax2), (ax3, ax4)) = plt.subplots(2, 2, figsize = (13, 10))\n",
        "ConfusionMatrixDisplay(confusion_matrix = cm_train, display_labels = grid_forest_model.best_estimator_.classes_).plot(ax = ax1, values_format = ',.0f')\n",
        "ConfusionMatrixDisplay(confusion_matrix = cm_train_norm, display_labels = grid_forest_model.best_estimator_.classes_).plot(ax = ax2, values_format = '.3f')\n",
        "ConfusionMatrixDisplay(confusion_matrix = cm_test, display_labels = grid_forest_model.best_estimator_.classes_).plot(ax = ax3, values_format = ',.0f')\n",
        "ConfusionMatrixDisplay(confusion_matrix = cm_test_norm, display_labels = grid_forest_model.best_estimator_.classes_).plot(ax = ax4, values_format = '.3f')\n",
        "\n",
        "ax1.set_title('Train+Val')\n",
        "ax2.set_title('Train+Val (normalized)')\n",
        "ax3.set_title('Test')\n",
        "ax4.set_title('Test (normalized)')\n",
        "plt.show()"
      ],
      "metadata": {
        "colab": {
          "base_uri": "https://localhost:8080/",
          "height": 872
        },
        "id": "QK_HBINeXlIl",
        "outputId": "52a9c045-1423-4cb8-8a2c-ec4f34501997"
      },
      "execution_count": 124,
      "outputs": [
        {
          "output_type": "display_data",
          "data": {
            "text/plain": [
              "<Figure size 1300x1000 with 8 Axes>"
            ],
            "image/png": "[encoded data removed]"
          },
          "metadata": {}
        }
      ]
    },
    {
      "cell_type": "code",
      "source": [
        "pd.DataFrame([\n",
        "    {\n",
        "        'Train+Val': accuracy_score(y_train, preds_train),\n",
        "        'Test': accuracy_score(y_test, preds_test)\n",
        "    },\n",
        "    {\n",
        "        'Train+Val': precision_score(y_train, preds_train),\n",
        "        'Test': precision_score(y_test, preds_test)\n",
        "    },\n",
        "    {\n",
        "        'Train+Val': recall_score(y_train, preds_train),\n",
        "        'Test': recall_score(y_test, preds_test)\n",
        "    },\n",
        "    {\n",
        "        'Train+Val': f1_score(y_train, preds_train),\n",
        "        'Test': f1_score(y_test, preds_test)\n",
        "    }\n",
        "], index = ['Accuracy', 'Precision', 'Recall', 'F1'])"
      ],
      "metadata": {
        "colab": {
          "base_uri": "https://localhost:8080/",
          "height": 175
        },
        "id": "kZifx_gCZRS7",
        "outputId": "374e9c2c-6b2e-4a9f-a09b-448228706566"
      },
      "execution_count": 125,
      "outputs": [
        {
          "output_type": "execute_result",
          "data": {
            "text/plain": [
              "           Train+Val      Test\n",
              "Accuracy    0.861750  0.806000\n",
              "Precision   0.826637  0.784387\n",
              "Recall      0.915500  0.844000\n",
              "F1          0.868802  0.813102"
            ],
            "text/html": [
              "\n",
              "  <div id=\"df-eca20ad6-12d1-4c2e-8425-6efaaae22698\">\n",
              "    <div class=\"colab-df-container\">\n",
              "      <div>\n",
              "<style scoped>\n",
              "    .dataframe tbody tr th:only-of-type {\n",
              "        vertical-align: middle;\n",
              "    }\n",
              "\n",
              "    .dataframe tbody tr th {\n",
              "        vertical-align: top;\n",
              "    }\n",
              "\n",
              "    .dataframe thead th {\n",
              "        text-align: right;\n",
              "    }\n",
              "</style>\n",
              "<table border=\"1\" class=\"dataframe\">\n",
              "  <thead>\n",
              "    <tr style=\"text-align: right;\">\n",
              "      <th></th>\n",
              "      <th>Train+Val</th>\n",
              "      <th>Test</th>\n",
              "    </tr>\n",
              "  </thead>\n",
              "  <tbody>\n",
              "    <tr>\n",
              "      <th>Accuracy</th>\n",
              "      <td>0.861750</td>\n",
              "      <td>0.806000</td>\n",
              "    </tr>\n",
              "    <tr>\n",
              "      <th>Precision</th>\n",
              "      <td>0.826637</td>\n",
              "      <td>0.784387</td>\n",
              "    </tr>\n",
              "    <tr>\n",
              "      <th>Recall</th>\n",
              "      <td>0.915500</td>\n",
              "      <td>0.844000</td>\n",
              "    </tr>\n",
              "    <tr>\n",
              "      <th>F1</th>\n",
              "      <td>0.868802</td>\n",
              "      <td>0.813102</td>\n",
              "    </tr>\n",
              "  </tbody>\n",
              "</table>\n",
              "</div>\n",
              "      <button class=\"colab-df-convert\" onclick=\"convertToInteractive('df-eca20ad6-12d1-4c2e-8425-6efaaae22698')\"\n",
              "              title=\"Convert this dataframe to an interactive table.\"\n",
              "              style=\"display:none;\">\n",
              "        \n",
              "  <svg xmlns=\"http://www.w3.org/2000/svg\" height=\"24px\"viewBox=\"0 0 24 24\"\n",
              "       width=\"24px\">\n",
              "    <path d=\"M0 0h24v24H0V0z\" fill=\"none\"/>\n",
              "    <path d=\"M18.56 5.44l.94 2.06.94-2.06 2.06-.94-2.06-.94-.94-2.06-.94 2.06-2.06.94zm-11 1L8.5 8.5l.94-2.06 2.06-.94-2.06-.94L8.5 2.5l-.94 2.06-2.06.94zm10 10l.94 2.06.94-2.06 2.06-.94-2.06-.94-.94-2.06-.94 2.06-2.06.94z\"/><path d=\"M17.41 7.96l-1.37-1.37c-.4-.4-.92-.59-1.43-.59-.52 0-1.04.2-1.43.59L10.3 9.45l-7.72 7.72c-.78.78-.78 2.05 0 2.83L4 21.41c.39.39.9.59 1.41.59.51 0 1.02-.2 1.41-.59l7.78-7.78 2.81-2.81c.8-.78.8-2.07 0-2.86zM5.41 20L4 18.59l7.72-7.72 1.47 1.35L5.41 20z\"/>\n",
              "  </svg>\n",
              "      </button>\n",
              "      \n",
              "  <style>\n",
              "    .colab-df-container {\n",
              "      display:flex;\n",
              "      flex-wrap:wrap;\n",
              "      gap: 12px;\n",
              "    }\n",
              "\n",
              "    .colab-df-convert {\n",
              "      background-color: #E8F0FE;\n",
              "      border: none;\n",
              "      border-radius: 50%;\n",
              "      cursor: pointer;\n",
              "      display: none;\n",
              "      fill: #1967D2;\n",
              "      height: 32px;\n",
              "      padding: 0 0 0 0;\n",
              "      width: 32px;\n",
              "    }\n",
              "\n",
              "    .colab-df-convert:hover {\n",
              "      background-color: #E2EBFA;\n",
              "      box-shadow: 0px 1px 2px rgba(60, 64, 67, 0.3), 0px 1px 3px 1px rgba(60, 64, 67, 0.15);\n",
              "      fill: #174EA6;\n",
              "    }\n",
              "\n",
              "    [theme=dark] .colab-df-convert {\n",
              "      background-color: #3B4455;\n",
              "      fill: #D2E3FC;\n",
              "    }\n",
              "\n",
              "    [theme=dark] .colab-df-convert:hover {\n",
              "      background-color: #434B5C;\n",
              "      box-shadow: 0px 1px 3px 1px rgba(0, 0, 0, 0.15);\n",
              "      filter: drop-shadow(0px 1px 2px rgba(0, 0, 0, 0.3));\n",
              "      fill: #FFFFFF;\n",
              "    }\n",
              "  </style>\n",
              "\n",
              "      <script>\n",
              "        const buttonEl =\n",
              "          document.querySelector('#df-eca20ad6-12d1-4c2e-8425-6efaaae22698 button.colab-df-convert');\n",
              "        buttonEl.style.display =\n",
              "          google.colab.kernel.accessAllowed ? 'block' : 'none';\n",
              "\n",
              "        async function convertToInteractive(key) {\n",
              "          const element = document.querySelector('#df-eca20ad6-12d1-4c2e-8425-6efaaae22698');\n",
              "          const dataTable =\n",
              "            await google.colab.kernel.invokeFunction('convertToInteractive',\n",
              "                                                     [key], {});\n",
              "          if (!dataTable) return;\n",
              "\n",
              "          const docLinkHtml = 'Like what you see? Visit the ' +\n",
              "            '<a target=\"_blank\" href=https://colab.research.google.com/notebooks/data_table.ipynb>data table notebook</a>'\n",
              "            + ' to learn more about interactive tables.';\n",
              "          element.innerHTML = '';\n",
              "          dataTable['output_type'] = 'display_data';\n",
              "          await google.colab.output.renderOutput(dataTable, element);\n",
              "          const docLink = document.createElement('div');\n",
              "          docLink.innerHTML = docLinkHtml;\n",
              "          element.appendChild(docLink);\n",
              "        }\n",
              "      </script>\n",
              "    </div>\n",
              "  </div>\n",
              "  "
            ]
          },
          "metadata": {},
          "execution_count": 125
        }
      ]
    }
  ]
}